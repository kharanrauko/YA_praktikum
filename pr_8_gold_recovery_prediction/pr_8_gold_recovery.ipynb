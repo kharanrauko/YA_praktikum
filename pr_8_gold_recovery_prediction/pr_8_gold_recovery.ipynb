{
 "cells": [
  {
   "cell_type": "markdown",
   "metadata": {},
   "source": [
    "# Описание проекта\n",
    "\n",
    "Модель должна предсказать коэффициент восстановления золота из золотосодержащей руды. В вашем распоряжении данные с параметрами добычи и очистки. \n",
    "\n",
    "Модель поможет оптимизировать производство, чтобы не запускать предприятие с убыточными характеристиками."
   ]
  },
  {
   "cell_type": "markdown",
   "metadata": {},
   "source": [
    "## Описание данных\n",
    "#### Технологический процесс\n",
    "    Rougher feed — исходное сырье\n",
    "    Rougher additions — реагенты: Xanthate, Sulphate, Depressant\n",
    "    Rougher process — флотация\n",
    "    Rougher tails — отвальные хвосты\n",
    "    Float banks — флотационная установка\n",
    "    Cleaner process — очистка\n",
    "    Rougher Au — черновой концентрат золота\n",
    "    Final Au — финальный концентрат золота\n",
    "#### Параметры этапов\n",
    "    air amount — объём воздуха\n",
    "    fluid levels — уровень жидкости\n",
    "    feed size — размер гранул сырья\n",
    "    feed rate — скорость подачи\n",
    "#### Наименование признаков\n",
    "\n",
    "\n",
    "[этап].[тип_параметра].[название_параметра]\n",
    "\n",
    "\n",
    "#### Возможные значения для блока [этап]:\n",
    "    rougher — флотация\n",
    "    primary_cleaner — первичная очистка\n",
    "    secondary_cleaner — вторичная очистка\n",
    "    final — финальные характеристики\n",
    "#### Возможные значения для блока [тип_параметра]:\n",
    "    input — параметры сырья\n",
    "    output — параметры продукта\n",
    "    state — параметры, характеризующие текущее состояние этапа\n",
    "    calculation — расчётные характеристики"
   ]
  },
  {
   "cell_type": "markdown",
   "metadata": {},
   "source": [
    "# 1. Подготовка данных"
   ]
  },
  {
   "cell_type": "code",
   "execution_count": 1,
   "metadata": {},
   "outputs": [],
   "source": [
    "%matplotlib inline\n",
    "import pandas as pd\n",
    "from sklearn.metrics import mean_absolute_error\n",
    "import numpy as np\n",
    "import seaborn as sns\n",
    "import matplotlib.pyplot as plt\n",
    "from scipy import stats as st\n",
    "from sklearn.preprocessing import StandardScaler\n",
    "from sklearn.linear_model import LinearRegression\n",
    "from sklearn.ensemble import RandomForestRegressor\n",
    "from sklearn.tree import DecisionTreeRegressor\n",
    "from sklearn.metrics import make_scorer\n",
    "from sklearn.model_selection import cross_val_score\n",
    "from sklearn.model_selection import GridSearchCV\n",
    "from sklearn.ensemble import BaggingRegressor\n",
    "from sklearn.dummy import DummyRegressor"
   ]
  },
  {
   "cell_type": "code",
   "execution_count": 2,
   "metadata": {},
   "outputs": [],
   "source": [
    "df_full = pd.read_csv('gold_recovery_full.csv')\n",
    "df_train = pd.read_csv('gold_recovery_train.csv')\n",
    "df_test = pd.read_csv('gold_recovery_test.csv')"
   ]
  },
  {
   "cell_type": "code",
   "execution_count": 3,
   "metadata": {},
   "outputs": [
    {
     "data": {
      "text/html": [
       "<div>\n",
       "<style scoped>\n",
       "    .dataframe tbody tr th:only-of-type {\n",
       "        vertical-align: middle;\n",
       "    }\n",
       "\n",
       "    .dataframe tbody tr th {\n",
       "        vertical-align: top;\n",
       "    }\n",
       "\n",
       "    .dataframe thead th {\n",
       "        text-align: right;\n",
       "    }\n",
       "</style>\n",
       "<table border=\"1\" class=\"dataframe\">\n",
       "  <thead>\n",
       "    <tr style=\"text-align: right;\">\n",
       "      <th></th>\n",
       "      <th>date</th>\n",
       "      <th>final.output.concentrate_ag</th>\n",
       "      <th>final.output.concentrate_pb</th>\n",
       "      <th>final.output.concentrate_sol</th>\n",
       "      <th>final.output.concentrate_au</th>\n",
       "      <th>final.output.recovery</th>\n",
       "      <th>final.output.tail_ag</th>\n",
       "      <th>final.output.tail_pb</th>\n",
       "      <th>final.output.tail_sol</th>\n",
       "      <th>final.output.tail_au</th>\n",
       "      <th>...</th>\n",
       "      <th>secondary_cleaner.state.floatbank4_a_air</th>\n",
       "      <th>secondary_cleaner.state.floatbank4_a_level</th>\n",
       "      <th>secondary_cleaner.state.floatbank4_b_air</th>\n",
       "      <th>secondary_cleaner.state.floatbank4_b_level</th>\n",
       "      <th>secondary_cleaner.state.floatbank5_a_air</th>\n",
       "      <th>secondary_cleaner.state.floatbank5_a_level</th>\n",
       "      <th>secondary_cleaner.state.floatbank5_b_air</th>\n",
       "      <th>secondary_cleaner.state.floatbank5_b_level</th>\n",
       "      <th>secondary_cleaner.state.floatbank6_a_air</th>\n",
       "      <th>secondary_cleaner.state.floatbank6_a_level</th>\n",
       "    </tr>\n",
       "  </thead>\n",
       "  <tbody>\n",
       "    <tr>\n",
       "      <th>0</th>\n",
       "      <td>2016-01-15 00:00:00</td>\n",
       "      <td>6.055403</td>\n",
       "      <td>9.889648</td>\n",
       "      <td>5.507324</td>\n",
       "      <td>42.192020</td>\n",
       "      <td>70.541216</td>\n",
       "      <td>10.411962</td>\n",
       "      <td>0.895447</td>\n",
       "      <td>16.904297</td>\n",
       "      <td>2.143149</td>\n",
       "      <td>...</td>\n",
       "      <td>14.016835</td>\n",
       "      <td>-502.488007</td>\n",
       "      <td>12.099931</td>\n",
       "      <td>-504.715942</td>\n",
       "      <td>9.925633</td>\n",
       "      <td>-498.310211</td>\n",
       "      <td>8.079666</td>\n",
       "      <td>-500.470978</td>\n",
       "      <td>14.151341</td>\n",
       "      <td>-605.841980</td>\n",
       "    </tr>\n",
       "    <tr>\n",
       "      <th>1</th>\n",
       "      <td>2016-01-15 01:00:00</td>\n",
       "      <td>6.029369</td>\n",
       "      <td>9.968944</td>\n",
       "      <td>5.257781</td>\n",
       "      <td>42.701629</td>\n",
       "      <td>69.266198</td>\n",
       "      <td>10.462676</td>\n",
       "      <td>0.927452</td>\n",
       "      <td>16.634514</td>\n",
       "      <td>2.224930</td>\n",
       "      <td>...</td>\n",
       "      <td>13.992281</td>\n",
       "      <td>-505.503262</td>\n",
       "      <td>11.950531</td>\n",
       "      <td>-501.331529</td>\n",
       "      <td>10.039245</td>\n",
       "      <td>-500.169983</td>\n",
       "      <td>7.984757</td>\n",
       "      <td>-500.582168</td>\n",
       "      <td>13.998353</td>\n",
       "      <td>-599.787184</td>\n",
       "    </tr>\n",
       "    <tr>\n",
       "      <th>2</th>\n",
       "      <td>2016-01-15 02:00:00</td>\n",
       "      <td>6.055926</td>\n",
       "      <td>10.213995</td>\n",
       "      <td>5.383759</td>\n",
       "      <td>42.657501</td>\n",
       "      <td>68.116445</td>\n",
       "      <td>10.507046</td>\n",
       "      <td>0.953716</td>\n",
       "      <td>16.208849</td>\n",
       "      <td>2.257889</td>\n",
       "      <td>...</td>\n",
       "      <td>14.015015</td>\n",
       "      <td>-502.520901</td>\n",
       "      <td>11.912783</td>\n",
       "      <td>-501.133383</td>\n",
       "      <td>10.070913</td>\n",
       "      <td>-500.129135</td>\n",
       "      <td>8.013877</td>\n",
       "      <td>-500.517572</td>\n",
       "      <td>14.028663</td>\n",
       "      <td>-601.427363</td>\n",
       "    </tr>\n",
       "  </tbody>\n",
       "</table>\n",
       "<p>3 rows × 87 columns</p>\n",
       "</div>"
      ],
      "text/plain": [
       "                  date  final.output.concentrate_ag  \\\n",
       "0  2016-01-15 00:00:00                     6.055403   \n",
       "1  2016-01-15 01:00:00                     6.029369   \n",
       "2  2016-01-15 02:00:00                     6.055926   \n",
       "\n",
       "   final.output.concentrate_pb  final.output.concentrate_sol  \\\n",
       "0                     9.889648                      5.507324   \n",
       "1                     9.968944                      5.257781   \n",
       "2                    10.213995                      5.383759   \n",
       "\n",
       "   final.output.concentrate_au  final.output.recovery  final.output.tail_ag  \\\n",
       "0                    42.192020              70.541216             10.411962   \n",
       "1                    42.701629              69.266198             10.462676   \n",
       "2                    42.657501              68.116445             10.507046   \n",
       "\n",
       "   final.output.tail_pb  final.output.tail_sol  final.output.tail_au  ...  \\\n",
       "0              0.895447              16.904297              2.143149  ...   \n",
       "1              0.927452              16.634514              2.224930  ...   \n",
       "2              0.953716              16.208849              2.257889  ...   \n",
       "\n",
       "   secondary_cleaner.state.floatbank4_a_air  \\\n",
       "0                                 14.016835   \n",
       "1                                 13.992281   \n",
       "2                                 14.015015   \n",
       "\n",
       "   secondary_cleaner.state.floatbank4_a_level  \\\n",
       "0                                 -502.488007   \n",
       "1                                 -505.503262   \n",
       "2                                 -502.520901   \n",
       "\n",
       "   secondary_cleaner.state.floatbank4_b_air  \\\n",
       "0                                 12.099931   \n",
       "1                                 11.950531   \n",
       "2                                 11.912783   \n",
       "\n",
       "   secondary_cleaner.state.floatbank4_b_level  \\\n",
       "0                                 -504.715942   \n",
       "1                                 -501.331529   \n",
       "2                                 -501.133383   \n",
       "\n",
       "   secondary_cleaner.state.floatbank5_a_air  \\\n",
       "0                                  9.925633   \n",
       "1                                 10.039245   \n",
       "2                                 10.070913   \n",
       "\n",
       "   secondary_cleaner.state.floatbank5_a_level  \\\n",
       "0                                 -498.310211   \n",
       "1                                 -500.169983   \n",
       "2                                 -500.129135   \n",
       "\n",
       "   secondary_cleaner.state.floatbank5_b_air  \\\n",
       "0                                  8.079666   \n",
       "1                                  7.984757   \n",
       "2                                  8.013877   \n",
       "\n",
       "   secondary_cleaner.state.floatbank5_b_level  \\\n",
       "0                                 -500.470978   \n",
       "1                                 -500.582168   \n",
       "2                                 -500.517572   \n",
       "\n",
       "   secondary_cleaner.state.floatbank6_a_air  \\\n",
       "0                                 14.151341   \n",
       "1                                 13.998353   \n",
       "2                                 14.028663   \n",
       "\n",
       "   secondary_cleaner.state.floatbank6_a_level  \n",
       "0                                 -605.841980  \n",
       "1                                 -599.787184  \n",
       "2                                 -601.427363  \n",
       "\n",
       "[3 rows x 87 columns]"
      ]
     },
     "execution_count": 3,
     "metadata": {},
     "output_type": "execute_result"
    }
   ],
   "source": [
    "df_train.head(3)"
   ]
  },
  {
   "cell_type": "code",
   "execution_count": 4,
   "metadata": {},
   "outputs": [
    {
     "name": "stdout",
     "output_type": "stream",
     "text": [
      "<class 'pandas.core.frame.DataFrame'>\n",
      "RangeIndex: 16860 entries, 0 to 16859\n",
      "Data columns (total 87 columns):\n",
      "date                                                  16860 non-null object\n",
      "final.output.concentrate_ag                           16788 non-null float64\n",
      "final.output.concentrate_pb                           16788 non-null float64\n",
      "final.output.concentrate_sol                          16490 non-null float64\n",
      "final.output.concentrate_au                           16789 non-null float64\n",
      "final.output.recovery                                 15339 non-null float64\n",
      "final.output.tail_ag                                  16794 non-null float64\n",
      "final.output.tail_pb                                  16677 non-null float64\n",
      "final.output.tail_sol                                 16715 non-null float64\n",
      "final.output.tail_au                                  16794 non-null float64\n",
      "primary_cleaner.input.sulfate                         15553 non-null float64\n",
      "primary_cleaner.input.depressant                      15598 non-null float64\n",
      "primary_cleaner.input.feed_size                       16860 non-null float64\n",
      "primary_cleaner.input.xanthate                        15875 non-null float64\n",
      "primary_cleaner.output.concentrate_ag                 16778 non-null float64\n",
      "primary_cleaner.output.concentrate_pb                 16502 non-null float64\n",
      "primary_cleaner.output.concentrate_sol                16224 non-null float64\n",
      "primary_cleaner.output.concentrate_au                 16778 non-null float64\n",
      "primary_cleaner.output.tail_ag                        16777 non-null float64\n",
      "primary_cleaner.output.tail_pb                        16761 non-null float64\n",
      "primary_cleaner.output.tail_sol                       16579 non-null float64\n",
      "primary_cleaner.output.tail_au                        16777 non-null float64\n",
      "primary_cleaner.state.floatbank8_a_air                16820 non-null float64\n",
      "primary_cleaner.state.floatbank8_a_level              16827 non-null float64\n",
      "primary_cleaner.state.floatbank8_b_air                16820 non-null float64\n",
      "primary_cleaner.state.floatbank8_b_level              16833 non-null float64\n",
      "primary_cleaner.state.floatbank8_c_air                16822 non-null float64\n",
      "primary_cleaner.state.floatbank8_c_level              16833 non-null float64\n",
      "primary_cleaner.state.floatbank8_d_air                16821 non-null float64\n",
      "primary_cleaner.state.floatbank8_d_level              16833 non-null float64\n",
      "rougher.calculation.sulfate_to_au_concentrate         16833 non-null float64\n",
      "rougher.calculation.floatbank10_sulfate_to_au_feed    16833 non-null float64\n",
      "rougher.calculation.floatbank11_sulfate_to_au_feed    16833 non-null float64\n",
      "rougher.calculation.au_pb_ratio                       15618 non-null float64\n",
      "rougher.input.feed_ag                                 16778 non-null float64\n",
      "rougher.input.feed_pb                                 16632 non-null float64\n",
      "rougher.input.feed_rate                               16347 non-null float64\n",
      "rougher.input.feed_size                               16443 non-null float64\n",
      "rougher.input.feed_sol                                16568 non-null float64\n",
      "rougher.input.feed_au                                 16777 non-null float64\n",
      "rougher.input.floatbank10_sulfate                     15816 non-null float64\n",
      "rougher.input.floatbank10_xanthate                    16514 non-null float64\n",
      "rougher.input.floatbank11_sulfate                     16237 non-null float64\n",
      "rougher.input.floatbank11_xanthate                    14956 non-null float64\n",
      "rougher.output.concentrate_ag                         16778 non-null float64\n",
      "rougher.output.concentrate_pb                         16778 non-null float64\n",
      "rougher.output.concentrate_sol                        16698 non-null float64\n",
      "rougher.output.concentrate_au                         16778 non-null float64\n",
      "rougher.output.recovery                               14287 non-null float64\n",
      "rougher.output.tail_ag                                14610 non-null float64\n",
      "rougher.output.tail_pb                                16778 non-null float64\n",
      "rougher.output.tail_sol                               14611 non-null float64\n",
      "rougher.output.tail_au                                14611 non-null float64\n",
      "rougher.state.floatbank10_a_air                       16807 non-null float64\n",
      "rougher.state.floatbank10_a_level                     16807 non-null float64\n",
      "rougher.state.floatbank10_b_air                       16807 non-null float64\n",
      "rougher.state.floatbank10_b_level                     16807 non-null float64\n",
      "rougher.state.floatbank10_c_air                       16807 non-null float64\n",
      "rougher.state.floatbank10_c_level                     16814 non-null float64\n",
      "rougher.state.floatbank10_d_air                       16802 non-null float64\n",
      "rougher.state.floatbank10_d_level                     16809 non-null float64\n",
      "rougher.state.floatbank10_e_air                       16257 non-null float64\n",
      "rougher.state.floatbank10_e_level                     16809 non-null float64\n",
      "rougher.state.floatbank10_f_air                       16802 non-null float64\n",
      "rougher.state.floatbank10_f_level                     16802 non-null float64\n",
      "secondary_cleaner.output.tail_ag                      16776 non-null float64\n",
      "secondary_cleaner.output.tail_pb                      16764 non-null float64\n",
      "secondary_cleaner.output.tail_sol                     14874 non-null float64\n",
      "secondary_cleaner.output.tail_au                      16778 non-null float64\n",
      "secondary_cleaner.state.floatbank2_a_air              16497 non-null float64\n",
      "secondary_cleaner.state.floatbank2_a_level            16751 non-null float64\n",
      "secondary_cleaner.state.floatbank2_b_air              16705 non-null float64\n",
      "secondary_cleaner.state.floatbank2_b_level            16748 non-null float64\n",
      "secondary_cleaner.state.floatbank3_a_air              16763 non-null float64\n",
      "secondary_cleaner.state.floatbank3_a_level            16747 non-null float64\n",
      "secondary_cleaner.state.floatbank3_b_air              16752 non-null float64\n",
      "secondary_cleaner.state.floatbank3_b_level            16750 non-null float64\n",
      "secondary_cleaner.state.floatbank4_a_air              16731 non-null float64\n",
      "secondary_cleaner.state.floatbank4_a_level            16747 non-null float64\n",
      "secondary_cleaner.state.floatbank4_b_air              16768 non-null float64\n",
      "secondary_cleaner.state.floatbank4_b_level            16767 non-null float64\n",
      "secondary_cleaner.state.floatbank5_a_air              16775 non-null float64\n",
      "secondary_cleaner.state.floatbank5_a_level            16775 non-null float64\n",
      "secondary_cleaner.state.floatbank5_b_air              16775 non-null float64\n",
      "secondary_cleaner.state.floatbank5_b_level            16776 non-null float64\n",
      "secondary_cleaner.state.floatbank6_a_air              16757 non-null float64\n",
      "secondary_cleaner.state.floatbank6_a_level            16775 non-null float64\n",
      "dtypes: float64(86), object(1)\n",
      "memory usage: 11.2+ MB\n"
     ]
    }
   ],
   "source": [
    "df_train.info()"
   ]
  },
  {
   "cell_type": "code",
   "execution_count": 5,
   "metadata": {},
   "outputs": [
    {
     "name": "stdout",
     "output_type": "stream",
     "text": [
      "<class 'pandas.core.frame.DataFrame'>\n",
      "RangeIndex: 5856 entries, 0 to 5855\n",
      "Data columns (total 53 columns):\n",
      "date                                          5856 non-null object\n",
      "primary_cleaner.input.sulfate                 5554 non-null float64\n",
      "primary_cleaner.input.depressant              5572 non-null float64\n",
      "primary_cleaner.input.feed_size               5856 non-null float64\n",
      "primary_cleaner.input.xanthate                5690 non-null float64\n",
      "primary_cleaner.state.floatbank8_a_air        5840 non-null float64\n",
      "primary_cleaner.state.floatbank8_a_level      5840 non-null float64\n",
      "primary_cleaner.state.floatbank8_b_air        5840 non-null float64\n",
      "primary_cleaner.state.floatbank8_b_level      5840 non-null float64\n",
      "primary_cleaner.state.floatbank8_c_air        5840 non-null float64\n",
      "primary_cleaner.state.floatbank8_c_level      5840 non-null float64\n",
      "primary_cleaner.state.floatbank8_d_air        5840 non-null float64\n",
      "primary_cleaner.state.floatbank8_d_level      5840 non-null float64\n",
      "rougher.input.feed_ag                         5840 non-null float64\n",
      "rougher.input.feed_pb                         5840 non-null float64\n",
      "rougher.input.feed_rate                       5816 non-null float64\n",
      "rougher.input.feed_size                       5834 non-null float64\n",
      "rougher.input.feed_sol                        5789 non-null float64\n",
      "rougher.input.feed_au                         5840 non-null float64\n",
      "rougher.input.floatbank10_sulfate             5599 non-null float64\n",
      "rougher.input.floatbank10_xanthate            5733 non-null float64\n",
      "rougher.input.floatbank11_sulfate             5801 non-null float64\n",
      "rougher.input.floatbank11_xanthate            5503 non-null float64\n",
      "rougher.state.floatbank10_a_air               5839 non-null float64\n",
      "rougher.state.floatbank10_a_level             5840 non-null float64\n",
      "rougher.state.floatbank10_b_air               5839 non-null float64\n",
      "rougher.state.floatbank10_b_level             5840 non-null float64\n",
      "rougher.state.floatbank10_c_air               5839 non-null float64\n",
      "rougher.state.floatbank10_c_level             5840 non-null float64\n",
      "rougher.state.floatbank10_d_air               5839 non-null float64\n",
      "rougher.state.floatbank10_d_level             5840 non-null float64\n",
      "rougher.state.floatbank10_e_air               5839 non-null float64\n",
      "rougher.state.floatbank10_e_level             5840 non-null float64\n",
      "rougher.state.floatbank10_f_air               5839 non-null float64\n",
      "rougher.state.floatbank10_f_level             5840 non-null float64\n",
      "secondary_cleaner.state.floatbank2_a_air      5836 non-null float64\n",
      "secondary_cleaner.state.floatbank2_a_level    5840 non-null float64\n",
      "secondary_cleaner.state.floatbank2_b_air      5833 non-null float64\n",
      "secondary_cleaner.state.floatbank2_b_level    5840 non-null float64\n",
      "secondary_cleaner.state.floatbank3_a_air      5822 non-null float64\n",
      "secondary_cleaner.state.floatbank3_a_level    5840 non-null float64\n",
      "secondary_cleaner.state.floatbank3_b_air      5840 non-null float64\n",
      "secondary_cleaner.state.floatbank3_b_level    5840 non-null float64\n",
      "secondary_cleaner.state.floatbank4_a_air      5840 non-null float64\n",
      "secondary_cleaner.state.floatbank4_a_level    5840 non-null float64\n",
      "secondary_cleaner.state.floatbank4_b_air      5840 non-null float64\n",
      "secondary_cleaner.state.floatbank4_b_level    5840 non-null float64\n",
      "secondary_cleaner.state.floatbank5_a_air      5840 non-null float64\n",
      "secondary_cleaner.state.floatbank5_a_level    5840 non-null float64\n",
      "secondary_cleaner.state.floatbank5_b_air      5840 non-null float64\n",
      "secondary_cleaner.state.floatbank5_b_level    5840 non-null float64\n",
      "secondary_cleaner.state.floatbank6_a_air      5840 non-null float64\n",
      "secondary_cleaner.state.floatbank6_a_level    5840 non-null float64\n",
      "dtypes: float64(52), object(1)\n",
      "memory usage: 2.4+ MB\n"
     ]
    }
   ],
   "source": [
    "df_test.info()"
   ]
  },
  {
   "cell_type": "code",
   "execution_count": 6,
   "metadata": {},
   "outputs": [
    {
     "name": "stdout",
     "output_type": "stream",
     "text": [
      "<class 'pandas.core.frame.DataFrame'>\n",
      "RangeIndex: 22716 entries, 0 to 22715\n",
      "Data columns (total 87 columns):\n",
      "date                                                  22716 non-null object\n",
      "final.output.concentrate_ag                           22627 non-null float64\n",
      "final.output.concentrate_pb                           22629 non-null float64\n",
      "final.output.concentrate_sol                          22331 non-null float64\n",
      "final.output.concentrate_au                           22630 non-null float64\n",
      "final.output.recovery                                 20753 non-null float64\n",
      "final.output.tail_ag                                  22633 non-null float64\n",
      "final.output.tail_pb                                  22516 non-null float64\n",
      "final.output.tail_sol                                 22445 non-null float64\n",
      "final.output.tail_au                                  22635 non-null float64\n",
      "primary_cleaner.input.sulfate                         21107 non-null float64\n",
      "primary_cleaner.input.depressant                      21170 non-null float64\n",
      "primary_cleaner.input.feed_size                       22716 non-null float64\n",
      "primary_cleaner.input.xanthate                        21565 non-null float64\n",
      "primary_cleaner.output.concentrate_ag                 22618 non-null float64\n",
      "primary_cleaner.output.concentrate_pb                 22268 non-null float64\n",
      "primary_cleaner.output.concentrate_sol                21918 non-null float64\n",
      "primary_cleaner.output.concentrate_au                 22618 non-null float64\n",
      "primary_cleaner.output.tail_ag                        22614 non-null float64\n",
      "primary_cleaner.output.tail_pb                        22594 non-null float64\n",
      "primary_cleaner.output.tail_sol                       22365 non-null float64\n",
      "primary_cleaner.output.tail_au                        22617 non-null float64\n",
      "primary_cleaner.state.floatbank8_a_air                22660 non-null float64\n",
      "primary_cleaner.state.floatbank8_a_level              22667 non-null float64\n",
      "primary_cleaner.state.floatbank8_b_air                22660 non-null float64\n",
      "primary_cleaner.state.floatbank8_b_level              22673 non-null float64\n",
      "primary_cleaner.state.floatbank8_c_air                22662 non-null float64\n",
      "primary_cleaner.state.floatbank8_c_level              22673 non-null float64\n",
      "primary_cleaner.state.floatbank8_d_air                22661 non-null float64\n",
      "primary_cleaner.state.floatbank8_d_level              22673 non-null float64\n",
      "rougher.calculation.sulfate_to_au_concentrate         22672 non-null float64\n",
      "rougher.calculation.floatbank10_sulfate_to_au_feed    22672 non-null float64\n",
      "rougher.calculation.floatbank11_sulfate_to_au_feed    22672 non-null float64\n",
      "rougher.calculation.au_pb_ratio                       21089 non-null float64\n",
      "rougher.input.feed_ag                                 22618 non-null float64\n",
      "rougher.input.feed_pb                                 22472 non-null float64\n",
      "rougher.input.feed_rate                               22163 non-null float64\n",
      "rougher.input.feed_size                               22277 non-null float64\n",
      "rougher.input.feed_sol                                22357 non-null float64\n",
      "rougher.input.feed_au                                 22617 non-null float64\n",
      "rougher.input.floatbank10_sulfate                     21415 non-null float64\n",
      "rougher.input.floatbank10_xanthate                    22247 non-null float64\n",
      "rougher.input.floatbank11_sulfate                     22038 non-null float64\n",
      "rougher.input.floatbank11_xanthate                    20459 non-null float64\n",
      "rougher.output.concentrate_ag                         22618 non-null float64\n",
      "rougher.output.concentrate_pb                         22618 non-null float64\n",
      "rougher.output.concentrate_sol                        22526 non-null float64\n",
      "rougher.output.concentrate_au                         22618 non-null float64\n",
      "rougher.output.recovery                               19597 non-null float64\n",
      "rougher.output.tail_ag                                19979 non-null float64\n",
      "rougher.output.tail_pb                                22618 non-null float64\n",
      "rougher.output.tail_sol                               19980 non-null float64\n",
      "rougher.output.tail_au                                19980 non-null float64\n",
      "rougher.state.floatbank10_a_air                       22646 non-null float64\n",
      "rougher.state.floatbank10_a_level                     22647 non-null float64\n",
      "rougher.state.floatbank10_b_air                       22646 non-null float64\n",
      "rougher.state.floatbank10_b_level                     22647 non-null float64\n",
      "rougher.state.floatbank10_c_air                       22646 non-null float64\n",
      "rougher.state.floatbank10_c_level                     22654 non-null float64\n",
      "rougher.state.floatbank10_d_air                       22641 non-null float64\n",
      "rougher.state.floatbank10_d_level                     22649 non-null float64\n",
      "rougher.state.floatbank10_e_air                       22096 non-null float64\n",
      "rougher.state.floatbank10_e_level                     22649 non-null float64\n",
      "rougher.state.floatbank10_f_air                       22641 non-null float64\n",
      "rougher.state.floatbank10_f_level                     22642 non-null float64\n",
      "secondary_cleaner.output.tail_ag                      22616 non-null float64\n",
      "secondary_cleaner.output.tail_pb                      22600 non-null float64\n",
      "secondary_cleaner.output.tail_sol                     20501 non-null float64\n",
      "secondary_cleaner.output.tail_au                      22618 non-null float64\n",
      "secondary_cleaner.state.floatbank2_a_air              22333 non-null float64\n",
      "secondary_cleaner.state.floatbank2_a_level            22591 non-null float64\n",
      "secondary_cleaner.state.floatbank2_b_air              22538 non-null float64\n",
      "secondary_cleaner.state.floatbank2_b_level            22588 non-null float64\n",
      "secondary_cleaner.state.floatbank3_a_air              22585 non-null float64\n",
      "secondary_cleaner.state.floatbank3_a_level            22587 non-null float64\n",
      "secondary_cleaner.state.floatbank3_b_air              22592 non-null float64\n",
      "secondary_cleaner.state.floatbank3_b_level            22590 non-null float64\n",
      "secondary_cleaner.state.floatbank4_a_air              22571 non-null float64\n",
      "secondary_cleaner.state.floatbank4_a_level            22587 non-null float64\n",
      "secondary_cleaner.state.floatbank4_b_air              22608 non-null float64\n",
      "secondary_cleaner.state.floatbank4_b_level            22607 non-null float64\n",
      "secondary_cleaner.state.floatbank5_a_air              22615 non-null float64\n",
      "secondary_cleaner.state.floatbank5_a_level            22615 non-null float64\n",
      "secondary_cleaner.state.floatbank5_b_air              22615 non-null float64\n",
      "secondary_cleaner.state.floatbank5_b_level            22616 non-null float64\n",
      "secondary_cleaner.state.floatbank6_a_air              22597 non-null float64\n",
      "secondary_cleaner.state.floatbank6_a_level            22615 non-null float64\n",
      "dtypes: float64(86), object(1)\n",
      "memory usage: 15.1+ MB\n"
     ]
    }
   ],
   "source": [
    "df_full.info()"
   ]
  },
  {
   "cell_type": "markdown",
   "metadata": {},
   "source": [
    "#### Рассчитаем MAE, для этого выберем только те признаки, которые участвуют в рассчете,  а также отбросим recovery с пропусками"
   ]
  },
  {
   "cell_type": "code",
   "execution_count": 7,
   "metadata": {},
   "outputs": [],
   "source": [
    "#MAE для флотации\n",
    "df_mae = df_train.loc[:, ['rougher.output.concentrate_au', \n",
    "                          'rougher.input.feed_au', \n",
    "                          'rougher.output.tail_au', \n",
    "                          'rougher.output.recovery']].dropna(\n",
    "    subset = ['rougher.output.recovery'])"
   ]
  },
  {
   "cell_type": "code",
   "execution_count": 8,
   "metadata": {},
   "outputs": [],
   "source": [
    "#MAE для финальной очистки\n",
    "df_mae_2 = df_train.loc[:, ['final.output.concentrate_au', \n",
    "                          'rougher.input.feed_au', \n",
    "                          'final.output.tail_au', \n",
    "                          'final.output.recovery']].dropna(\n",
    "    subset = ['final.output.recovery'])"
   ]
  },
  {
   "cell_type": "markdown",
   "metadata": {},
   "source": [
    "#### Заполним пропуски ближайшими значениями"
   ]
  },
  {
   "cell_type": "code",
   "execution_count": 9,
   "metadata": {},
   "outputs": [],
   "source": [
    "df_mae.fillna(method = 'ffill', inplace=True)\n",
    "df_mae_2.fillna(method = 'ffill', inplace=True)"
   ]
  },
  {
   "cell_type": "code",
   "execution_count": 10,
   "metadata": {},
   "outputs": [],
   "source": [
    "def recovery_calculation(C, F, T):\n",
    "    \"\"\"\n",
    "    Рассчет recovery по заданным значениям C, F, T\n",
    "    Если значение F равно нулю выводит ноль\n",
    "    \"\"\"\n",
    "    if F != 0:\n",
    "        return ((C*(F-T)) / (F*(C-T)))*100\n",
    "    return 0"
   ]
  },
  {
   "cell_type": "code",
   "execution_count": 11,
   "metadata": {},
   "outputs": [],
   "source": [
    "def rougher_recovery(row):\n",
    "    \"\"\"\n",
    "    Функция выделяет из датасета необходимые для рассчета recovery признаки для этапа флотации\n",
    "    \"\"\"\n",
    "    C = row['rougher.output.concentrate_au']\n",
    "    F = row['rougher.input.feed_au']\n",
    "    T = row['rougher.output.tail_au']\n",
    "    return recovery_calculation(C, F, T)"
   ]
  },
  {
   "cell_type": "code",
   "execution_count": 12,
   "metadata": {},
   "outputs": [],
   "source": [
    "def final_recovery(row):\n",
    "    \"\"\"\n",
    "    Функция выделяет из датасета необходимы для рассчета recovery признаки для этапа финальной очистки\n",
    "    \"\"\"\n",
    "    C = row['final.output.concentrate_au']\n",
    "    F = row['rougher.input.feed_au']\n",
    "    T = row['final.output.tail_au']\n",
    "    return recovery_calculation(C, F, T)"
   ]
  },
  {
   "cell_type": "code",
   "execution_count": 13,
   "metadata": {},
   "outputs": [
    {
     "name": "stdout",
     "output_type": "stream",
     "text": [
      "MAE рассчитанных и заданных значений recovery для этапа флотации:\n"
     ]
    },
    {
     "data": {
      "text/plain": [
       "9.444891926100695e-15"
      ]
     },
     "execution_count": 13,
     "metadata": {},
     "output_type": "execute_result"
    }
   ],
   "source": [
    "df_mae['rougher.output.recovery_new'] = df_mae.apply(rougher_recovery, axis =1)\n",
    "print('MAE рассчитанных и заданных значений recovery для этапа флотации:')\n",
    "mean_absolute_error(df_mae['rougher.output.recovery'], df_mae['rougher.output.recovery_new'])"
   ]
  },
  {
   "cell_type": "code",
   "execution_count": 14,
   "metadata": {},
   "outputs": [
    {
     "name": "stdout",
     "output_type": "stream",
     "text": [
      "MAE рассчитанных и заданных значений recovery для этапа финальной очистки:\n"
     ]
    },
    {
     "data": {
      "text/plain": [
       "8.158251945945868e-15"
      ]
     },
     "execution_count": 14,
     "metadata": {},
     "output_type": "execute_result"
    }
   ],
   "source": [
    "df_mae_2['final.output.recovery_new'] = df_mae_2.apply(final_recovery, axis =1)\n",
    "print('MAE рассчитанных и заданных значений recovery для этапа финальной очистки:')\n",
    "mean_absolute_error(df_mae_2['final.output.recovery'], df_mae_2['final.output.recovery_new'])"
   ]
  },
  {
   "cell_type": "markdown",
   "metadata": {},
   "source": [
    "#### Вывод:\n",
    "    Значения MAE стремится к нулю, значит значения recovery, представленные в датасете верны. Ненулевой MAE, вероятно связан с тем что, были заполнены пропуски в значениях участвовавших в рассчете."
   ]
  },
  {
   "cell_type": "markdown",
   "metadata": {},
   "source": [
    "#### Посмотрим на признаки не представленные в тестовой выборке"
   ]
  },
  {
   "cell_type": "code",
   "execution_count": 15,
   "metadata": {},
   "outputs": [
    {
     "name": "stdout",
     "output_type": "stream",
     "text": [
      "<class 'pandas.core.frame.DataFrame'>\n",
      "RangeIndex: 16860 entries, 0 to 16859\n",
      "Data columns (total 34 columns):\n",
      "final.output.concentrate_ag                           16788 non-null float64\n",
      "final.output.concentrate_pb                           16788 non-null float64\n",
      "final.output.concentrate_sol                          16490 non-null float64\n",
      "final.output.concentrate_au                           16789 non-null float64\n",
      "final.output.recovery                                 15339 non-null float64\n",
      "final.output.tail_ag                                  16794 non-null float64\n",
      "final.output.tail_pb                                  16677 non-null float64\n",
      "final.output.tail_sol                                 16715 non-null float64\n",
      "final.output.tail_au                                  16794 non-null float64\n",
      "primary_cleaner.output.concentrate_ag                 16778 non-null float64\n",
      "primary_cleaner.output.concentrate_pb                 16502 non-null float64\n",
      "primary_cleaner.output.concentrate_sol                16224 non-null float64\n",
      "primary_cleaner.output.concentrate_au                 16778 non-null float64\n",
      "primary_cleaner.output.tail_ag                        16777 non-null float64\n",
      "primary_cleaner.output.tail_pb                        16761 non-null float64\n",
      "primary_cleaner.output.tail_sol                       16579 non-null float64\n",
      "primary_cleaner.output.tail_au                        16777 non-null float64\n",
      "rougher.calculation.sulfate_to_au_concentrate         16833 non-null float64\n",
      "rougher.calculation.floatbank10_sulfate_to_au_feed    16833 non-null float64\n",
      "rougher.calculation.floatbank11_sulfate_to_au_feed    16833 non-null float64\n",
      "rougher.calculation.au_pb_ratio                       15618 non-null float64\n",
      "rougher.output.concentrate_ag                         16778 non-null float64\n",
      "rougher.output.concentrate_pb                         16778 non-null float64\n",
      "rougher.output.concentrate_sol                        16698 non-null float64\n",
      "rougher.output.concentrate_au                         16778 non-null float64\n",
      "rougher.output.recovery                               14287 non-null float64\n",
      "rougher.output.tail_ag                                14610 non-null float64\n",
      "rougher.output.tail_pb                                16778 non-null float64\n",
      "rougher.output.tail_sol                               14611 non-null float64\n",
      "rougher.output.tail_au                                14611 non-null float64\n",
      "secondary_cleaner.output.tail_ag                      16776 non-null float64\n",
      "secondary_cleaner.output.tail_pb                      16764 non-null float64\n",
      "secondary_cleaner.output.tail_sol                     14874 non-null float64\n",
      "secondary_cleaner.output.tail_au                      16778 non-null float64\n",
      "dtypes: float64(34)\n",
      "memory usage: 4.4 MB\n"
     ]
    }
   ],
   "source": [
    "df_train.drop(df_test.columns, axis = 1).info()"
   ]
  },
  {
   "cell_type": "markdown",
   "metadata": {},
   "source": [
    "#### В тестовой выборке не представлены параметры типа output и calculation. Это параметры, измерение которых, возможно только после обработки сырья, и неправильно было бы их использовать для обучения модели предсказания"
   ]
  },
  {
   "cell_type": "markdown",
   "metadata": {},
   "source": [
    "#### Проведем предобработку тренировочной и тестовой выборок, так как обучение модели будет производиться на них."
   ]
  },
  {
   "cell_type": "markdown",
   "metadata": {},
   "source": [
    "Сначала исключим из тренировочной выборки строки с пропусками в значениях целевых признаков."
   ]
  },
  {
   "cell_type": "code",
   "execution_count": 16,
   "metadata": {},
   "outputs": [],
   "source": [
    "before = len(df_train)"
   ]
  },
  {
   "cell_type": "code",
   "execution_count": 17,
   "metadata": {},
   "outputs": [],
   "source": [
    "df_train = df_train.dropna(subset = ['rougher.output.recovery', 'final.output.recovery'])"
   ]
  },
  {
   "cell_type": "code",
   "execution_count": 18,
   "metadata": {},
   "outputs": [],
   "source": [
    "after = len(df_train)"
   ]
  },
  {
   "cell_type": "code",
   "execution_count": 19,
   "metadata": {},
   "outputs": [
    {
     "name": "stdout",
     "output_type": "stream",
     "text": [
      "После исключения пропусков в целевых признаках осталось 83.92% датасета\n"
     ]
    }
   ],
   "source": [
    "print('После исключения пропусков в целевых признаках осталось {:.2f}% датасета'.format((after/before)*100))"
   ]
  },
  {
   "cell_type": "markdown",
   "metadata": {},
   "source": [
    "Пропуски в признаках заполним ближайшими значениями"
   ]
  },
  {
   "cell_type": "code",
   "execution_count": 20,
   "metadata": {},
   "outputs": [],
   "source": [
    "df_train = df_train.fillna(method = 'ffill')\n",
    "df_test = df_test.fillna(method = 'ffill')"
   ]
  },
  {
   "cell_type": "code",
   "execution_count": 21,
   "metadata": {},
   "outputs": [
    {
     "name": "stdout",
     "output_type": "stream",
     "text": [
      "<class 'pandas.core.frame.DataFrame'>\n",
      "Int64Index: 14149 entries, 0 to 16859\n",
      "Data columns (total 87 columns):\n",
      "date                                                  14149 non-null object\n",
      "final.output.concentrate_ag                           14149 non-null float64\n",
      "final.output.concentrate_pb                           14149 non-null float64\n",
      "final.output.concentrate_sol                          14149 non-null float64\n",
      "final.output.concentrate_au                           14149 non-null float64\n",
      "final.output.recovery                                 14149 non-null float64\n",
      "final.output.tail_ag                                  14149 non-null float64\n",
      "final.output.tail_pb                                  14149 non-null float64\n",
      "final.output.tail_sol                                 14149 non-null float64\n",
      "final.output.tail_au                                  14149 non-null float64\n",
      "primary_cleaner.input.sulfate                         14149 non-null float64\n",
      "primary_cleaner.input.depressant                      14149 non-null float64\n",
      "primary_cleaner.input.feed_size                       14149 non-null float64\n",
      "primary_cleaner.input.xanthate                        14149 non-null float64\n",
      "primary_cleaner.output.concentrate_ag                 14149 non-null float64\n",
      "primary_cleaner.output.concentrate_pb                 14149 non-null float64\n",
      "primary_cleaner.output.concentrate_sol                14149 non-null float64\n",
      "primary_cleaner.output.concentrate_au                 14149 non-null float64\n",
      "primary_cleaner.output.tail_ag                        14149 non-null float64\n",
      "primary_cleaner.output.tail_pb                        14149 non-null float64\n",
      "primary_cleaner.output.tail_sol                       14149 non-null float64\n",
      "primary_cleaner.output.tail_au                        14149 non-null float64\n",
      "primary_cleaner.state.floatbank8_a_air                14149 non-null float64\n",
      "primary_cleaner.state.floatbank8_a_level              14149 non-null float64\n",
      "primary_cleaner.state.floatbank8_b_air                14149 non-null float64\n",
      "primary_cleaner.state.floatbank8_b_level              14149 non-null float64\n",
      "primary_cleaner.state.floatbank8_c_air                14149 non-null float64\n",
      "primary_cleaner.state.floatbank8_c_level              14149 non-null float64\n",
      "primary_cleaner.state.floatbank8_d_air                14149 non-null float64\n",
      "primary_cleaner.state.floatbank8_d_level              14149 non-null float64\n",
      "rougher.calculation.sulfate_to_au_concentrate         14149 non-null float64\n",
      "rougher.calculation.floatbank10_sulfate_to_au_feed    14149 non-null float64\n",
      "rougher.calculation.floatbank11_sulfate_to_au_feed    14149 non-null float64\n",
      "rougher.calculation.au_pb_ratio                       14149 non-null float64\n",
      "rougher.input.feed_ag                                 14149 non-null float64\n",
      "rougher.input.feed_pb                                 14149 non-null float64\n",
      "rougher.input.feed_rate                               14149 non-null float64\n",
      "rougher.input.feed_size                               14149 non-null float64\n",
      "rougher.input.feed_sol                                14149 non-null float64\n",
      "rougher.input.feed_au                                 14149 non-null float64\n",
      "rougher.input.floatbank10_sulfate                     14149 non-null float64\n",
      "rougher.input.floatbank10_xanthate                    14149 non-null float64\n",
      "rougher.input.floatbank11_sulfate                     14149 non-null float64\n",
      "rougher.input.floatbank11_xanthate                    14149 non-null float64\n",
      "rougher.output.concentrate_ag                         14149 non-null float64\n",
      "rougher.output.concentrate_pb                         14149 non-null float64\n",
      "rougher.output.concentrate_sol                        14149 non-null float64\n",
      "rougher.output.concentrate_au                         14149 non-null float64\n",
      "rougher.output.recovery                               14149 non-null float64\n",
      "rougher.output.tail_ag                                14149 non-null float64\n",
      "rougher.output.tail_pb                                14149 non-null float64\n",
      "rougher.output.tail_sol                               14149 non-null float64\n",
      "rougher.output.tail_au                                14149 non-null float64\n",
      "rougher.state.floatbank10_a_air                       14149 non-null float64\n",
      "rougher.state.floatbank10_a_level                     14149 non-null float64\n",
      "rougher.state.floatbank10_b_air                       14149 non-null float64\n",
      "rougher.state.floatbank10_b_level                     14149 non-null float64\n",
      "rougher.state.floatbank10_c_air                       14149 non-null float64\n",
      "rougher.state.floatbank10_c_level                     14149 non-null float64\n",
      "rougher.state.floatbank10_d_air                       14149 non-null float64\n",
      "rougher.state.floatbank10_d_level                     14149 non-null float64\n",
      "rougher.state.floatbank10_e_air                       14149 non-null float64\n",
      "rougher.state.floatbank10_e_level                     14149 non-null float64\n",
      "rougher.state.floatbank10_f_air                       14149 non-null float64\n",
      "rougher.state.floatbank10_f_level                     14149 non-null float64\n",
      "secondary_cleaner.output.tail_ag                      14149 non-null float64\n",
      "secondary_cleaner.output.tail_pb                      14149 non-null float64\n",
      "secondary_cleaner.output.tail_sol                     14149 non-null float64\n",
      "secondary_cleaner.output.tail_au                      14149 non-null float64\n",
      "secondary_cleaner.state.floatbank2_a_air              14149 non-null float64\n",
      "secondary_cleaner.state.floatbank2_a_level            14149 non-null float64\n",
      "secondary_cleaner.state.floatbank2_b_air              14149 non-null float64\n",
      "secondary_cleaner.state.floatbank2_b_level            14149 non-null float64\n",
      "secondary_cleaner.state.floatbank3_a_air              14149 non-null float64\n",
      "secondary_cleaner.state.floatbank3_a_level            14149 non-null float64\n",
      "secondary_cleaner.state.floatbank3_b_air              14149 non-null float64\n",
      "secondary_cleaner.state.floatbank3_b_level            14149 non-null float64\n",
      "secondary_cleaner.state.floatbank4_a_air              14149 non-null float64\n",
      "secondary_cleaner.state.floatbank4_a_level            14149 non-null float64\n",
      "secondary_cleaner.state.floatbank4_b_air              14149 non-null float64\n",
      "secondary_cleaner.state.floatbank4_b_level            14149 non-null float64\n",
      "secondary_cleaner.state.floatbank5_a_air              14149 non-null float64\n",
      "secondary_cleaner.state.floatbank5_a_level            14149 non-null float64\n",
      "secondary_cleaner.state.floatbank5_b_air              14149 non-null float64\n",
      "secondary_cleaner.state.floatbank5_b_level            14149 non-null float64\n",
      "secondary_cleaner.state.floatbank6_a_air              14149 non-null float64\n",
      "secondary_cleaner.state.floatbank6_a_level            14149 non-null float64\n",
      "dtypes: float64(86), object(1)\n",
      "memory usage: 9.5+ MB\n"
     ]
    }
   ],
   "source": [
    "df_train.info()"
   ]
  },
  {
   "cell_type": "code",
   "execution_count": 22,
   "metadata": {},
   "outputs": [
    {
     "name": "stdout",
     "output_type": "stream",
     "text": [
      "<class 'pandas.core.frame.DataFrame'>\n",
      "RangeIndex: 5856 entries, 0 to 5855\n",
      "Data columns (total 53 columns):\n",
      "date                                          5856 non-null object\n",
      "primary_cleaner.input.sulfate                 5856 non-null float64\n",
      "primary_cleaner.input.depressant              5856 non-null float64\n",
      "primary_cleaner.input.feed_size               5856 non-null float64\n",
      "primary_cleaner.input.xanthate                5856 non-null float64\n",
      "primary_cleaner.state.floatbank8_a_air        5856 non-null float64\n",
      "primary_cleaner.state.floatbank8_a_level      5856 non-null float64\n",
      "primary_cleaner.state.floatbank8_b_air        5856 non-null float64\n",
      "primary_cleaner.state.floatbank8_b_level      5856 non-null float64\n",
      "primary_cleaner.state.floatbank8_c_air        5856 non-null float64\n",
      "primary_cleaner.state.floatbank8_c_level      5856 non-null float64\n",
      "primary_cleaner.state.floatbank8_d_air        5856 non-null float64\n",
      "primary_cleaner.state.floatbank8_d_level      5856 non-null float64\n",
      "rougher.input.feed_ag                         5856 non-null float64\n",
      "rougher.input.feed_pb                         5856 non-null float64\n",
      "rougher.input.feed_rate                       5856 non-null float64\n",
      "rougher.input.feed_size                       5856 non-null float64\n",
      "rougher.input.feed_sol                        5856 non-null float64\n",
      "rougher.input.feed_au                         5856 non-null float64\n",
      "rougher.input.floatbank10_sulfate             5856 non-null float64\n",
      "rougher.input.floatbank10_xanthate            5856 non-null float64\n",
      "rougher.input.floatbank11_sulfate             5856 non-null float64\n",
      "rougher.input.floatbank11_xanthate            5856 non-null float64\n",
      "rougher.state.floatbank10_a_air               5856 non-null float64\n",
      "rougher.state.floatbank10_a_level             5856 non-null float64\n",
      "rougher.state.floatbank10_b_air               5856 non-null float64\n",
      "rougher.state.floatbank10_b_level             5856 non-null float64\n",
      "rougher.state.floatbank10_c_air               5856 non-null float64\n",
      "rougher.state.floatbank10_c_level             5856 non-null float64\n",
      "rougher.state.floatbank10_d_air               5856 non-null float64\n",
      "rougher.state.floatbank10_d_level             5856 non-null float64\n",
      "rougher.state.floatbank10_e_air               5856 non-null float64\n",
      "rougher.state.floatbank10_e_level             5856 non-null float64\n",
      "rougher.state.floatbank10_f_air               5856 non-null float64\n",
      "rougher.state.floatbank10_f_level             5856 non-null float64\n",
      "secondary_cleaner.state.floatbank2_a_air      5856 non-null float64\n",
      "secondary_cleaner.state.floatbank2_a_level    5856 non-null float64\n",
      "secondary_cleaner.state.floatbank2_b_air      5856 non-null float64\n",
      "secondary_cleaner.state.floatbank2_b_level    5856 non-null float64\n",
      "secondary_cleaner.state.floatbank3_a_air      5856 non-null float64\n",
      "secondary_cleaner.state.floatbank3_a_level    5856 non-null float64\n",
      "secondary_cleaner.state.floatbank3_b_air      5856 non-null float64\n",
      "secondary_cleaner.state.floatbank3_b_level    5856 non-null float64\n",
      "secondary_cleaner.state.floatbank4_a_air      5856 non-null float64\n",
      "secondary_cleaner.state.floatbank4_a_level    5856 non-null float64\n",
      "secondary_cleaner.state.floatbank4_b_air      5856 non-null float64\n",
      "secondary_cleaner.state.floatbank4_b_level    5856 non-null float64\n",
      "secondary_cleaner.state.floatbank5_a_air      5856 non-null float64\n",
      "secondary_cleaner.state.floatbank5_a_level    5856 non-null float64\n",
      "secondary_cleaner.state.floatbank5_b_air      5856 non-null float64\n",
      "secondary_cleaner.state.floatbank5_b_level    5856 non-null float64\n",
      "secondary_cleaner.state.floatbank6_a_air      5856 non-null float64\n",
      "secondary_cleaner.state.floatbank6_a_level    5856 non-null float64\n",
      "dtypes: float64(52), object(1)\n",
      "memory usage: 2.4+ MB\n"
     ]
    }
   ],
   "source": [
    "df_test.info()"
   ]
  },
  {
   "cell_type": "markdown",
   "metadata": {},
   "source": [
    "Приведем столбец date в трех датасетах к формату DateTime и округлим значения до одного часа"
   ]
  },
  {
   "cell_type": "code",
   "execution_count": 23,
   "metadata": {},
   "outputs": [],
   "source": [
    "def to_date(df):\n",
    "    df['date'] = pd.to_datetime(df['date'], format='%Y-%m-%d %H:%M:%S')\n",
    "    df['date'] = df['date'].dt.round('1H')"
   ]
  },
  {
   "cell_type": "code",
   "execution_count": 24,
   "metadata": {},
   "outputs": [],
   "source": [
    "to_date(df_train)\n",
    "to_date(df_test)\n",
    "to_date(df_full)"
   ]
  },
  {
   "cell_type": "markdown",
   "metadata": {},
   "source": [
    "Добавим в тестовый датасет значения целевых признаков из полного датасета. Строки с отсутствующим целевым признаком исключаем"
   ]
  },
  {
   "cell_type": "code",
   "execution_count": 25,
   "metadata": {},
   "outputs": [],
   "source": [
    "columns_to_merge = ['rougher.output.recovery', 'date', 'final.output.recovery']"
   ]
  },
  {
   "cell_type": "code",
   "execution_count": 26,
   "metadata": {},
   "outputs": [],
   "source": [
    "df_test = df_test.merge(df_full[columns_to_merge], on='date').dropna(subset=columns_to_merge)"
   ]
  },
  {
   "cell_type": "code",
   "execution_count": 27,
   "metadata": {},
   "outputs": [
    {
     "name": "stdout",
     "output_type": "stream",
     "text": [
      "<class 'pandas.core.frame.DataFrame'>\n",
      "Int64Index: 5290 entries, 0 to 5855\n",
      "Data columns (total 55 columns):\n",
      "date                                          5290 non-null datetime64[ns]\n",
      "primary_cleaner.input.sulfate                 5290 non-null float64\n",
      "primary_cleaner.input.depressant              5290 non-null float64\n",
      "primary_cleaner.input.feed_size               5290 non-null float64\n",
      "primary_cleaner.input.xanthate                5290 non-null float64\n",
      "primary_cleaner.state.floatbank8_a_air        5290 non-null float64\n",
      "primary_cleaner.state.floatbank8_a_level      5290 non-null float64\n",
      "primary_cleaner.state.floatbank8_b_air        5290 non-null float64\n",
      "primary_cleaner.state.floatbank8_b_level      5290 non-null float64\n",
      "primary_cleaner.state.floatbank8_c_air        5290 non-null float64\n",
      "primary_cleaner.state.floatbank8_c_level      5290 non-null float64\n",
      "primary_cleaner.state.floatbank8_d_air        5290 non-null float64\n",
      "primary_cleaner.state.floatbank8_d_level      5290 non-null float64\n",
      "rougher.input.feed_ag                         5290 non-null float64\n",
      "rougher.input.feed_pb                         5290 non-null float64\n",
      "rougher.input.feed_rate                       5290 non-null float64\n",
      "rougher.input.feed_size                       5290 non-null float64\n",
      "rougher.input.feed_sol                        5290 non-null float64\n",
      "rougher.input.feed_au                         5290 non-null float64\n",
      "rougher.input.floatbank10_sulfate             5290 non-null float64\n",
      "rougher.input.floatbank10_xanthate            5290 non-null float64\n",
      "rougher.input.floatbank11_sulfate             5290 non-null float64\n",
      "rougher.input.floatbank11_xanthate            5290 non-null float64\n",
      "rougher.state.floatbank10_a_air               5290 non-null float64\n",
      "rougher.state.floatbank10_a_level             5290 non-null float64\n",
      "rougher.state.floatbank10_b_air               5290 non-null float64\n",
      "rougher.state.floatbank10_b_level             5290 non-null float64\n",
      "rougher.state.floatbank10_c_air               5290 non-null float64\n",
      "rougher.state.floatbank10_c_level             5290 non-null float64\n",
      "rougher.state.floatbank10_d_air               5290 non-null float64\n",
      "rougher.state.floatbank10_d_level             5290 non-null float64\n",
      "rougher.state.floatbank10_e_air               5290 non-null float64\n",
      "rougher.state.floatbank10_e_level             5290 non-null float64\n",
      "rougher.state.floatbank10_f_air               5290 non-null float64\n",
      "rougher.state.floatbank10_f_level             5290 non-null float64\n",
      "secondary_cleaner.state.floatbank2_a_air      5290 non-null float64\n",
      "secondary_cleaner.state.floatbank2_a_level    5290 non-null float64\n",
      "secondary_cleaner.state.floatbank2_b_air      5290 non-null float64\n",
      "secondary_cleaner.state.floatbank2_b_level    5290 non-null float64\n",
      "secondary_cleaner.state.floatbank3_a_air      5290 non-null float64\n",
      "secondary_cleaner.state.floatbank3_a_level    5290 non-null float64\n",
      "secondary_cleaner.state.floatbank3_b_air      5290 non-null float64\n",
      "secondary_cleaner.state.floatbank3_b_level    5290 non-null float64\n",
      "secondary_cleaner.state.floatbank4_a_air      5290 non-null float64\n",
      "secondary_cleaner.state.floatbank4_a_level    5290 non-null float64\n",
      "secondary_cleaner.state.floatbank4_b_air      5290 non-null float64\n",
      "secondary_cleaner.state.floatbank4_b_level    5290 non-null float64\n",
      "secondary_cleaner.state.floatbank5_a_air      5290 non-null float64\n",
      "secondary_cleaner.state.floatbank5_a_level    5290 non-null float64\n",
      "secondary_cleaner.state.floatbank5_b_air      5290 non-null float64\n",
      "secondary_cleaner.state.floatbank5_b_level    5290 non-null float64\n",
      "secondary_cleaner.state.floatbank6_a_air      5290 non-null float64\n",
      "secondary_cleaner.state.floatbank6_a_level    5290 non-null float64\n",
      "rougher.output.recovery                       5290 non-null float64\n",
      "final.output.recovery                         5290 non-null float64\n",
      "dtypes: datetime64[ns](1), float64(54)\n",
      "memory usage: 2.3 MB\n"
     ]
    }
   ],
   "source": [
    "df_test.info()"
   ]
  },
  {
   "cell_type": "markdown",
   "metadata": {},
   "source": [
    "## Вывод по шагу 1.\n",
    "    1. Данные загружены и изучены.\n",
    "    2. Из тренировочного датасета исключены строки с отсутствующими целевыми признаками\n",
    "    3. Пропуски в тренировочном и тестовом датасете заполнены ближайшими значениями\n",
    "    4. Столбец date переведен в тип DateTime\n",
    "    5. В тестовый датасет добавлены целевые признаки"
   ]
  },
  {
   "cell_type": "markdown",
   "metadata": {},
   "source": [
    "# 2. Анализ данных"
   ]
  },
  {
   "cell_type": "markdown",
   "metadata": {},
   "source": [
    "#### Проанализируем изменение концентраций металлов на разных стадиях очистки"
   ]
  },
  {
   "cell_type": "code",
   "execution_count": 28,
   "metadata": {},
   "outputs": [],
   "source": [
    "metalls_list = ['ag', 'au', 'pb', 'sol']\n",
    "stages = [\n",
    "    'rougher.input.feed_', \n",
    "    'rougher.output.concentrate_', \n",
    "    'primary_cleaner.output.concentrate_', \n",
    "    'final.output.concentrate_']"
   ]
  },
  {
   "cell_type": "code",
   "execution_count": 29,
   "metadata": {},
   "outputs": [],
   "source": [
    "def plot_box(df):\n",
    "    \"\"\"\n",
    "    Функция строит ящики с усами для каждого металла на всех этапах очистки\n",
    "    \"\"\"\n",
    "    plt_columns = df.columns[df.columns.str.contains('concentrate_') | df.columns.str.contains('input')]\n",
    "    \n",
    "    for metall in metalls_list:\n",
    "        order=[]\n",
    "        for i in range(len(stages)):\n",
    "            order.append(stages[i]+metall)\n",
    "        plt_metall = plt_columns[plt_columns.str.contains(metall)]\n",
    "        df_plot = df[plt_metall]\n",
    "        sns.boxplot(data = df_plot, orient = 'h', order=order)\n",
    "        label = 'Изменение концентрации ' + metall + ' на разных этапах обработки'\n",
    "        plt.title(label = label, fontsize=15)\n",
    "        plt.show()"
   ]
  },
  {
   "cell_type": "code",
   "execution_count": 30,
   "metadata": {},
   "outputs": [
    {
     "data": {
      "image/png": "[encoded data removed]",
      "text/plain": [
       "<Figure size 720x360 with 1 Axes>"
      ]
     },
     "metadata": {
      "needs_background": "light"
     },
     "output_type": "display_data"
    },
    {
     "data": {
      "image/png": "[encoded data removed]",
      "text/plain": [
       "<Figure size 720x360 with 1 Axes>"
      ]
     },
     "metadata": {
      "needs_background": "light"
     },
     "output_type": "display_data"
    },
    {
     "data": {
      "image/png": "[encoded data removed]",
      "text/plain": [
       "<Figure size 720x360 with 1 Axes>"
      ]
     },
     "metadata": {
      "needs_background": "light"
     },
     "output_type": "display_data"
    },
    {
     "data": {
      "image/png": "[encoded data removed]",
      "text/plain": [
       "<Figure size 720x360 with 1 Axes>"
      ]
     },
     "metadata": {
      "needs_background": "light"
     },
     "output_type": "display_data"
    }
   ],
   "source": [
    "plt.rcParams['figure.figsize']=(10,5)\n",
    "plot_box(df_full)"
   ]
  },
  {
   "cell_type": "markdown",
   "metadata": {},
   "source": [
    "### Выводы:\n",
    "    1. Концентрация золота с каждым этапам увеличивается\n",
    "    2. Концентрация примесей sol с каждым этапом очистки уменьшается\n",
    "    3. Концентрация свинца после флотации и первого этапа очистки увеличивается, но на последнем этапе остается неизменной, возможно это связано с близкими, в некоторой части, свойствами с золотом\n",
    "    4. Концентрация серебра к последнему этапу очистки снижается.\n",
    "    5. Заметно давольно большое количество выбросов для каждого из признаков."
   ]
  },
  {
   "cell_type": "markdown",
   "metadata": {},
   "source": [
    "#### Сравним распределения гранул сырья"
   ]
  },
  {
   "cell_type": "code",
   "execution_count": 31,
   "metadata": {},
   "outputs": [],
   "source": [
    "def conf_int(df, df_2):\n",
    "    \"\"\"\n",
    "    Функция строит ящик с усами игистограмму распределения, а также считает среднее и доверительный интервал\n",
    "    размеров гранул сырья\n",
    "    \"\"\"\n",
    "    fig, ax = plt.subplots()\n",
    "    plt.xlim([0,400])\n",
    "    sx = sns.boxplot(x='rougher.input.feed_size',data = df, orient = 'h', color=\"gray\")\n",
    "    plt.show()\n",
    "    plt.xlim([0,400])\n",
    "    sns.boxplot(x='rougher.input.feed_size',data = df_2, orient = 'h')\n",
    "    plt.show()\n",
    "    sns.distplot(df['rougher.input.feed_size'], kde=True, hist_kws={\"alpha\": 0.2, \"color\": \"y\"})\n",
    "    sns.distplot(df_2['rougher.input.feed_size'], kde=True, hist_kws={\"alpha\": 0.2})\n",
    "    plt.show()\n",
    "    for frame in [df, df_2]:\n",
    "        print('Среднее для выборки равно:', frame['rougher.input.feed_size'].mean())\n",
    "        q_025 = frame['rougher.input.feed_size'].quantile(0.025)\n",
    "        q_975 = frame['rougher.input.feed_size'].quantile(0.975)\n",
    "        print('При этом 95% значений находится в интервале: ({:.2f}:{:.2f})'.format(q_025, q_975))\n",
    "    print()"
   ]
  },
  {
   "cell_type": "code",
   "execution_count": 32,
   "metadata": {},
   "outputs": [
    {
     "data": {
      "image/png": "[encoded data removed]",
      "text/plain": [
       "<Figure size 720x360 with 1 Axes>"
      ]
     },
     "metadata": {
      "needs_background": "light"
     },
     "output_type": "display_data"
    },
    {
     "data": {
      "image/png": "[encoded data removed]",
      "text/plain": [
       "<Figure size 720x360 with 1 Axes>"
      ]
     },
     "metadata": {
      "needs_background": "light"
     },
     "output_type": "display_data"
    },
    {
     "data": {
      "image/png": "[encoded data removed]",
      "text/plain": [
       "<Figure size 720x360 with 1 Axes>"
      ]
     },
     "metadata": {
      "needs_background": "light"
     },
     "output_type": "display_data"
    },
    {
     "name": "stdout",
     "output_type": "stream",
     "text": [
      "Среднее для выборки равно: 60.23985599255735\n",
      "При этом 95% значений находится в интервале: (40.08:97.49)\n",
      "Среднее для выборки равно: 55.95275402889511\n",
      "При этом 95% значений находится в интервале: (39.72:94.19)\n",
      "\n"
     ]
    }
   ],
   "source": [
    "conf_int(df_train, df_test)"
   ]
  },
  {
   "cell_type": "markdown",
   "metadata": {},
   "source": [
    "#### Вывод. Значения размеров гранул сырья для тестовой и тренировочной выборок несколько отличаются. Средние значения 5, при этом 95% значений тестовой и тренировочной выборок лежат примерно в одних границах"
   ]
  },
  {
   "cell_type": "markdown",
   "metadata": {},
   "source": [
    "#### Исследуем суммарную концентрацию веществ на всех этапах очистки"
   ]
  },
  {
   "cell_type": "code",
   "execution_count": 33,
   "metadata": {},
   "outputs": [],
   "source": [
    "def summ_conc(row):\n",
    "    \"\"\"\n",
    "    Функция, перебирает значения концентраций металлов на разных этапах формирует колонку\n",
    "    [название этапа]_sum с суммарной концентрацией мителлов на этом этапе\n",
    "    \"\"\"\n",
    "    for stage in stages:\n",
    "        conc = 0\n",
    "        for metall in metalls_list:\n",
    "            name = stage+metall\n",
    "            conc += row[name]\n",
    "        name_sum = stage + 'sum'\n",
    "        row[name_sum] = conc\n",
    "    return row"
   ]
  },
  {
   "cell_type": "markdown",
   "metadata": {},
   "source": [
    "Дополним полный датасет значениями общих концентраций"
   ]
  },
  {
   "cell_type": "code",
   "execution_count": 34,
   "metadata": {},
   "outputs": [],
   "source": [
    "df_full = df_full.apply(summ_conc, axis =1)"
   ]
  },
  {
   "cell_type": "code",
   "execution_count": 35,
   "metadata": {},
   "outputs": [],
   "source": [
    "def violin_plot(df):\n",
    "    \"\"\"\n",
    "    Функция строит график изменения суммарной концентрации веществ на всех этапах обработки, \n",
    "    начиная с исходного состояния\n",
    "    \"\"\"\n",
    "    df_supp = df.loc[:, df.columns.str.contains('sum')]\n",
    "    sns.violinplot(data = df_supp, orient = 'h')\n",
    "    label = 'Изменение суммарной концентрации на разных этапах обработки'\n",
    "    plt.title(label = label, fontsize=15)\n",
    "    plt.show()"
   ]
  },
  {
   "cell_type": "code",
   "execution_count": 36,
   "metadata": {},
   "outputs": [
    {
     "data": {
      "image/png": "[encoded data removed]",
      "text/plain": [
       "<Figure size 720x360 with 1 Axes>"
      ]
     },
     "metadata": {
      "needs_background": "light"
     },
     "output_type": "display_data"
    }
   ],
   "source": [
    "violin_plot(df_full)"
   ]
  },
  {
   "cell_type": "markdown",
   "metadata": {},
   "source": [
    "#### На графиках заметно большое колчество выбросов в районе концентрации от 0 до 1. Чтобы эти выбросы не влияли на предсказания модели исключим их"
   ]
  },
  {
   "cell_type": "code",
   "execution_count": 37,
   "metadata": {},
   "outputs": [],
   "source": [
    "df_full_new = df_full[(\n",
    "    df_full['rougher.input.feed_sum'] > 1) & (\n",
    "    df_full['rougher.output.concentrate_sum'] > 1) & (\n",
    "    df_full['primary_cleaner.output.concentrate_sum'] > 1) & (\n",
    "    df_full['final.output.concentrate_sum'] > 1 )]"
   ]
  },
  {
   "cell_type": "code",
   "execution_count": 38,
   "metadata": {},
   "outputs": [
    {
     "name": "stdout",
     "output_type": "stream",
     "text": [
      "После удаления выбросов осталось 82.47% датасета\n"
     ]
    }
   ],
   "source": [
    "print('После удаления выбросов осталось {:.2f}% датасета'.format((len(df_full_new)/ len(df_full))*100))"
   ]
  },
  {
   "cell_type": "code",
   "execution_count": 39,
   "metadata": {},
   "outputs": [
    {
     "data": {
      "image/png": "[encoded data removed]",
      "text/plain": [
       "<Figure size 720x360 with 1 Axes>"
      ]
     },
     "metadata": {
      "needs_background": "light"
     },
     "output_type": "display_data"
    }
   ],
   "source": [
    "violin_plot(df_full_new)"
   ]
  },
  {
   "cell_type": "markdown",
   "metadata": {},
   "source": [
    "#### Также исключим строки с выбросами из тестовой и тренировочной выборок"
   ]
  },
  {
   "cell_type": "code",
   "execution_count": 40,
   "metadata": {},
   "outputs": [],
   "source": [
    "def drop_bad(df):\n",
    "    \"\"\"\n",
    "    Функция фильтрует датасет по строкам df_full_new и считает количество отброшеных строк\n",
    "    \"\"\"\n",
    "    \n",
    "    print('Размер датафрейма до исключения выбросов:', len(df))\n",
    "    df_supp = df_full.drop(df_full_new.index)\n",
    "    df_new = df.drop(df_supp.index, errors = 'ignore')\n",
    "    print('Размер датафрейма после исключения выбросов:', len(df_new))\n",
    "    print('После удаления выбросов осталось {:.2f}% датасета'.format((len(df_new)/ len(df))*100))\n",
    "    return df_new"
   ]
  },
  {
   "cell_type": "code",
   "execution_count": 41,
   "metadata": {},
   "outputs": [
    {
     "name": "stdout",
     "output_type": "stream",
     "text": [
      "Размер датафрейма до исключения выбросов: 14149\n",
      "Размер датафрейма после исключения выбросов: 12486\n",
      "После удаления выбросов осталось 88.25% датасета\n"
     ]
    }
   ],
   "source": [
    "df_train_new = drop_bad(df_train)"
   ]
  },
  {
   "cell_type": "code",
   "execution_count": 42,
   "metadata": {},
   "outputs": [
    {
     "name": "stdout",
     "output_type": "stream",
     "text": [
      "Размер датафрейма до исключения выбросов: 5290\n",
      "Размер датафрейма после исключения выбросов: 4279\n",
      "После удаления выбросов осталось 80.89% датасета\n"
     ]
    }
   ],
   "source": [
    "df_test_new = drop_bad(df_test)"
   ]
  },
  {
   "cell_type": "markdown",
   "metadata": {},
   "source": [
    "## Вывод по шагу 2:\n",
    "    1. Исследовано изменение концентрации металлов на разных этапах очистки\n",
    "    2. Исследованы набор значений размеров гранул сырья на тренировочной и тестовой выборках.\n",
    "    3. Исследована суммарная концентрация веществ на разных этапах обработки.\n",
    "    4. Выявлены значительные выбросы в суммарной концентрации в пределах 1.\n",
    "    5. Из полной, тренировочной и тестовых выборок исключены выбросы."
   ]
  },
  {
   "cell_type": "markdown",
   "metadata": {},
   "source": [
    "# 3. Модель"
   ]
  },
  {
   "cell_type": "markdown",
   "metadata": {},
   "source": [
    "#### Напишем функцию рассчета sMAPE"
   ]
  },
  {
   "cell_type": "code",
   "execution_count": 43,
   "metadata": {},
   "outputs": [],
   "source": [
    "def sMAPE(true, pred):\n",
    "    \"\"\"\n",
    "    Функция по предсказаниям и значению целевого признака считает велечину sMAPE\n",
    "    \"\"\"\n",
    "    pred = pd.Series(pred, true.index)\n",
    "    x = (abs(true-pred) / ((abs(true) + abs(pred))/2)).sum()/len(true)\n",
    "    return x*100"
   ]
  },
  {
   "cell_type": "code",
   "execution_count": 44,
   "metadata": {},
   "outputs": [],
   "source": [
    "def final_sMAPE(true, pred):\n",
    "    \"\"\"\n",
    "    Функция считает итоговый sMAPE\n",
    "    \"\"\"\n",
    "    return 0.25*sMAPE(\n",
    "        true['rougher.output.recovery'], pred[:,0]) + 0.75*sMAPE(\n",
    "        true['final.output.recovery'], pred[:,1])"
   ]
  },
  {
   "cell_type": "markdown",
   "metadata": {},
   "source": [
    "#### Исключим из тренировочной выборки колонки отсутствующие в тестовой выборке"
   ]
  },
  {
   "cell_type": "code",
   "execution_count": 45,
   "metadata": {},
   "outputs": [],
   "source": [
    "columns_to_drop = df_train_new.drop(df_test_new.columns, axis = 1).columns"
   ]
  },
  {
   "cell_type": "code",
   "execution_count": 46,
   "metadata": {},
   "outputs": [],
   "source": [
    "df_train_new = df_train_new.drop(columns_to_drop, axis =1)"
   ]
  },
  {
   "cell_type": "markdown",
   "metadata": {},
   "source": [
    "#### Исключим из тестовой и тренировочных выборок колонку date"
   ]
  },
  {
   "cell_type": "code",
   "execution_count": 47,
   "metadata": {},
   "outputs": [],
   "source": [
    "df_train_new.drop('date', axis =1, inplace = True)\n",
    "df_test_new.drop('date', axis =1, inplace = True)"
   ]
  },
  {
   "cell_type": "markdown",
   "metadata": {},
   "source": [
    "#### Выделим признаки и целевой признак"
   ]
  },
  {
   "cell_type": "code",
   "execution_count": 48,
   "metadata": {},
   "outputs": [],
   "source": [
    "def split_df(df):\n",
    "    \"\"\"\n",
    "    Функция разделяет выделяет из датафрейма признаки и\n",
    "    целевой признак.\n",
    "    \"\"\"\n",
    "    #Разделим признаки и целевой признак\n",
    "    features = df.drop(['final.output.recovery', 'rougher.output.recovery'], axis=1)\n",
    "    target = df[['rougher.output.recovery', 'final.output.recovery']]\n",
    "     \n",
    "    return features, target"
   ]
  },
  {
   "cell_type": "code",
   "execution_count": 49,
   "metadata": {},
   "outputs": [],
   "source": [
    "features_train, target_train = split_df(df_train_new)\n",
    "features_test, target_test = split_df(df_test_new)"
   ]
  },
  {
   "cell_type": "markdown",
   "metadata": {},
   "source": [
    "#### Проведем масштабирование признаков"
   ]
  },
  {
   "cell_type": "code",
   "execution_count": 50,
   "metadata": {},
   "outputs": [],
   "source": [
    "scaler = StandardScaler()\n",
    "scaler.fit(features_train[features_train.columns])\n",
    "\n",
    "features_train[features_train.columns] = scaler.transform(features_train[features_train.columns])\n",
    "features_test[features_test.columns] = scaler.transform(features_test[features_test.columns])"
   ]
  },
  {
   "cell_type": "markdown",
   "metadata": {},
   "source": [
    "#### Создадим метрику для использования в кросс-валидации и поиске глобальных параметров модели. Она будет основываться на ранее созданной функции рассчета final_sMAPE"
   ]
  },
  {
   "cell_type": "code",
   "execution_count": 51,
   "metadata": {},
   "outputs": [],
   "source": [
    "smape_scorer = make_scorer(final_sMAPE, greater_is_better = False)"
   ]
  },
  {
   "cell_type": "markdown",
   "metadata": {},
   "source": [
    "#### Функция для кросс-валидации:"
   ]
  },
  {
   "cell_type": "code",
   "execution_count": 55,
   "metadata": {},
   "outputs": [],
   "source": [
    "def cr_val_sc(model, features, target):\n",
    "    \"\"\"\n",
    "    Функция проводит кросс-валидацию и считает среднюю метрику\n",
    "    \"\"\"\n",
    "    score = cross_val_score(\n",
    "        model, \n",
    "        features, \n",
    "        target, \n",
    "        cv=5, \n",
    "        scoring = smape_scorer, \n",
    "        error_score='raise')\n",
    "    \n",
    "    final_score = score.mean()\n",
    "    return final_score"
   ]
  },
  {
   "cell_type": "markdown",
   "metadata": {},
   "source": [
    "#### Для построения будем использовать следующие модели:"
   ]
  },
  {
   "cell_type": "code",
   "execution_count": 56,
   "metadata": {},
   "outputs": [],
   "source": [
    "model_linear = LinearRegression()\n",
    "\n",
    "model_forest = RandomForestRegressor(\n",
    "    random_state = 12345, \n",
    "    n_jobs=-1)\n",
    "\n",
    "model_tree = DecisionTreeRegressor(\n",
    "    random_state = 12345)\n",
    "\n",
    "model_bagging = BaggingRegressor(\n",
    "    random_state=12345, \n",
    "    n_jobs=-1)"
   ]
  },
  {
   "cell_type": "markdown",
   "metadata": {},
   "source": [
    "#### Проведем кросс-валидацию линейной модели"
   ]
  },
  {
   "cell_type": "code",
   "execution_count": 57,
   "metadata": {},
   "outputs": [
    {
     "data": {
      "text/plain": [
       "-11.709920058625965"
      ]
     },
     "execution_count": 57,
     "metadata": {},
     "output_type": "execute_result"
    }
   ],
   "source": [
    "cr_val_sc(model_linear, features_train, target_train)"
   ]
  },
  {
   "cell_type": "markdown",
   "metadata": {},
   "source": [
    "#### Для оставшихся моделей, для подбора гиперпараметров,  будем использовать GredSearchCV, в который встроена кросс-валидация"
   ]
  },
  {
   "cell_type": "code",
   "execution_count": 58,
   "metadata": {},
   "outputs": [],
   "source": [
    "params_forest = {\n",
    "    'n_estimators': [50,300,50],\n",
    "    'max_depth':[5,15],\n",
    "    'max_features' : [1,20, 2]\n",
    "}"
   ]
  },
  {
   "cell_type": "code",
   "execution_count": 59,
   "metadata": {},
   "outputs": [],
   "source": [
    "params_tree = {   \n",
    "    'max_depth':[1,20]  \n",
    "}"
   ]
  },
  {
   "cell_type": "code",
   "execution_count": 60,
   "metadata": {},
   "outputs": [],
   "source": [
    "params_bagging ={\n",
    "    'n_estimators': [50,300,50],\n",
    "    'max_features' : [1,20],     \n",
    "}"
   ]
  },
  {
   "cell_type": "markdown",
   "metadata": {},
   "source": [
    "#### Обучим модель дерева решений"
   ]
  },
  {
   "cell_type": "code",
   "execution_count": 61,
   "metadata": {},
   "outputs": [
    {
     "data": {
      "text/plain": [
       "GridSearchCV(cv=5, error_score='raise-deprecating',\n",
       "             estimator=DecisionTreeRegressor(criterion='mse', max_depth=None,\n",
       "                                             max_features=None,\n",
       "                                             max_leaf_nodes=None,\n",
       "                                             min_impurity_decrease=0.0,\n",
       "                                             min_impurity_split=None,\n",
       "                                             min_samples_leaf=1,\n",
       "                                             min_samples_split=2,\n",
       "                                             min_weight_fraction_leaf=0.0,\n",
       "                                             presort=False, random_state=12345,\n",
       "                                             splitter='best'),\n",
       "             iid='warn', n_jobs=None, param_grid={'max_depth': [1, 20]},\n",
       "             pre_dispatch='2*n_jobs', refit=True, return_train_score=False,\n",
       "             scoring=make_scorer(final_sMAPE, greater_is_better=False),\n",
       "             verbose=0)"
      ]
     },
     "execution_count": 61,
     "metadata": {},
     "output_type": "execute_result"
    }
   ],
   "source": [
    "CV_tree = GridSearchCV(\n",
    "    model_tree, \n",
    "    param_grid=params_tree, \n",
    "    scoring=smape_scorer, \n",
    "    cv=5)\n",
    "\n",
    "CV_tree.fit(features_train, target_train)"
   ]
  },
  {
   "cell_type": "code",
   "execution_count": 62,
   "metadata": {},
   "outputs": [
    {
     "name": "stdout",
     "output_type": "stream",
     "text": [
      "Лучшее значение Итогового sMAPE: -10.965990205097505\n",
      "С параметром {'max_depth': 1}\n"
     ]
    }
   ],
   "source": [
    "print('Лучшее значение Итогового sMAPE:', CV_tree.best_score_)\n",
    "print('С параметром', CV_tree.best_params_)"
   ]
  },
  {
   "cell_type": "markdown",
   "metadata": {},
   "source": [
    "#### Обучим модель бэггинга решающих деревьев"
   ]
  },
  {
   "cell_type": "code",
   "execution_count": 63,
   "metadata": {},
   "outputs": [
    {
     "data": {
      "text/plain": [
       "GridSearchCV(cv=5, error_score='raise-deprecating',\n",
       "             estimator=BaggingRegressor(base_estimator=None, bootstrap=True,\n",
       "                                        bootstrap_features=False,\n",
       "                                        max_features=1.0, max_samples=1.0,\n",
       "                                        n_estimators=10, n_jobs=-1,\n",
       "                                        oob_score=False, random_state=12345,\n",
       "                                        verbose=0, warm_start=False),\n",
       "             iid='warn', n_jobs=None,\n",
       "             param_grid={'max_features': [1, 20],\n",
       "                         'n_estimators': [50, 300, 50]},\n",
       "             pre_dispatch='2*n_jobs', refit=True, return_train_score=False,\n",
       "             scoring=make_scorer(final_sMAPE, greater_is_better=False),\n",
       "             verbose=0)"
      ]
     },
     "execution_count": 63,
     "metadata": {},
     "output_type": "execute_result"
    }
   ],
   "source": [
    "CV_bagging = GridSearchCV(\n",
    "    model_bagging, \n",
    "    param_grid=params_bagging, \n",
    "    scoring=smape_scorer, \n",
    "    cv=5)\n",
    "\n",
    "CV_bagging.fit(features_train, target_train)"
   ]
  },
  {
   "cell_type": "code",
   "execution_count": 64,
   "metadata": {},
   "outputs": [
    {
     "name": "stdout",
     "output_type": "stream",
     "text": [
      "Лучшее значение Итогового sMAPE: -9.92056222910217\n",
      "С параметром {'max_features': 20, 'n_estimators': 300}\n"
     ]
    }
   ],
   "source": [
    "print('Лучшее значение Итогового sMAPE:', CV_bagging.best_score_)\n",
    "print('С параметром', CV_bagging.best_params_)"
   ]
  },
  {
   "cell_type": "markdown",
   "metadata": {},
   "source": [
    "#### Обучим модель случайного леса"
   ]
  },
  {
   "cell_type": "code",
   "execution_count": 65,
   "metadata": {},
   "outputs": [
    {
     "data": {
      "text/plain": [
       "GridSearchCV(cv=5, error_score='raise-deprecating',\n",
       "             estimator=RandomForestRegressor(bootstrap=True, criterion='mse',\n",
       "                                             max_depth=None,\n",
       "                                             max_features='auto',\n",
       "                                             max_leaf_nodes=None,\n",
       "                                             min_impurity_decrease=0.0,\n",
       "                                             min_impurity_split=None,\n",
       "                                             min_samples_leaf=1,\n",
       "                                             min_samples_split=2,\n",
       "                                             min_weight_fraction_leaf=0.0,\n",
       "                                             n_estimators='warn', n_jobs=-1,\n",
       "                                             oob_score=False,\n",
       "                                             random_state=12345, verbose=0,\n",
       "                                             warm_start=False),\n",
       "             iid='warn', n_jobs=None,\n",
       "             param_grid={'max_depth': [5, 15], 'max_features': [1, 20, 2],\n",
       "                         'n_estimators': [50, 300, 50]},\n",
       "             pre_dispatch='2*n_jobs', refit=True, return_train_score=False,\n",
       "             scoring=make_scorer(final_sMAPE, greater_is_better=False),\n",
       "             verbose=0)"
      ]
     },
     "execution_count": 65,
     "metadata": {},
     "output_type": "execute_result"
    }
   ],
   "source": [
    "CV_forest = GridSearchCV(\n",
    "    model_forest, \n",
    "    param_grid=params_forest, \n",
    "    scoring=smape_scorer, \n",
    "    cv=5)\n",
    "\n",
    "CV_forest.fit(features_train, target_train)"
   ]
  },
  {
   "cell_type": "code",
   "execution_count": 66,
   "metadata": {},
   "outputs": [
    {
     "name": "stdout",
     "output_type": "stream",
     "text": [
      "Лучшее значение Итогового sMAPE: -9.36860081269276\n",
      "С параметром {'max_depth': 5, 'max_features': 20, 'n_estimators': 300}\n"
     ]
    }
   ],
   "source": [
    "print('Лучшее значение Итогового sMAPE:',CV_forest.best_score_)\n",
    "print('С параметром', CV_forest.best_params_)"
   ]
  },
  {
   "cell_type": "markdown",
   "metadata": {},
   "source": [
    "### Вывод. Судя по значению итогового sMAPE, лучшие предсказания дает модель случайного леса, ее и используем при построении финальной модели"
   ]
  },
  {
   "cell_type": "markdown",
   "metadata": {},
   "source": [
    "#### Обучим наилучшую модель с лучшими гиперпараметрами и посчитаем итоговый sMAPE на тестовой выборке"
   ]
  },
  {
   "cell_type": "code",
   "execution_count": 67,
   "metadata": {},
   "outputs": [
    {
     "data": {
      "text/plain": [
       "RandomForestRegressor(bootstrap=True, criterion='mse', max_depth=5,\n",
       "                      max_features=20, max_leaf_nodes=None,\n",
       "                      min_impurity_decrease=0.0, min_impurity_split=None,\n",
       "                      min_samples_leaf=1, min_samples_split=2,\n",
       "                      min_weight_fraction_leaf=0.0, n_estimators=300, n_jobs=-1,\n",
       "                      oob_score=False, random_state=12345, verbose=0,\n",
       "                      warm_start=False)"
      ]
     },
     "execution_count": 67,
     "metadata": {},
     "output_type": "execute_result"
    }
   ],
   "source": [
    "model_final = RandomForestRegressor(\n",
    "    random_state = 12345, \n",
    "    n_estimators=300, \n",
    "    max_depth=5, \n",
    "    max_features=20, \n",
    "    n_jobs=-1)\n",
    "\n",
    "model_final.fit(features_train, target_train)"
   ]
  },
  {
   "cell_type": "code",
   "execution_count": 68,
   "metadata": {},
   "outputs": [
    {
     "name": "stdout",
     "output_type": "stream",
     "text": [
      "Лучшая модель показала итоговый sMAPE на тестовой выборке: 8.698748288719123\n"
     ]
    }
   ],
   "source": [
    "predict = model_final.predict(features_test)\n",
    "print('Лучшая модель показала итоговый sMAPE на тестовой выборке:', final_sMAPE(target_test, predict))"
   ]
  },
  {
   "cell_type": "markdown",
   "metadata": {},
   "source": [
    "#### Для проверки адекватности модели, сравним ее с результатами работы DummyRegressor"
   ]
  },
  {
   "cell_type": "code",
   "execution_count": 69,
   "metadata": {},
   "outputs": [
    {
     "data": {
      "text/plain": [
       "DummyRegressor(constant=None, quantile=None, strategy='mean')"
      ]
     },
     "execution_count": 69,
     "metadata": {},
     "output_type": "execute_result"
    }
   ],
   "source": [
    "model_dummy = DummyRegressor(strategy=\"mean\")\n",
    "model_dummy.fit(features_train, target_train)"
   ]
  },
  {
   "cell_type": "code",
   "execution_count": 70,
   "metadata": {},
   "outputs": [
    {
     "name": "stdout",
     "output_type": "stream",
     "text": [
      "Dummy модель показала итоговый sMAPE на тестовой выборке: 9.659867969858126\n"
     ]
    }
   ],
   "source": [
    "predict_dummy = model_dummy.predict(features_test)\n",
    "print('Dummy модель показала итоговый sMAPE на тестовой выборке:', final_sMAPE(target_test, predict_dummy))"
   ]
  },
  {
   "cell_type": "markdown",
   "metadata": {},
   "source": [
    "#### Результаты Dummy модели несколько хуже полученных моделью случайного леса. Считаем что лучшая модель адекватна."
   ]
  },
  {
   "cell_type": "markdown",
   "metadata": {},
   "source": [
    "## Вывод по шагу 3:\n",
    "    1. Была написана функция для расчета sMAPE и итогового sMAPE.\n",
    "    2. Проведено выделение признаков и целевого признака.\n",
    "    3. Проведено масштабирование признаков.\n",
    "    4. Исключены признаки не влияющие на качесто моеделей, или те, которые отсутствуют в тестовой выборке.\n",
    "    5. Обучены модели линейной регрессии, регрессионного дерева решений, бэггинга дерева решений и регрессионного случайного леса.\n",
    "    6. Выбрана лучшая модель с гиперпараметрами, обеспечивающими минимальный финальный sMAPE."
   ]
  },
  {
   "cell_type": "markdown",
   "metadata": {},
   "source": [
    "### Общий вывод:\n",
    "    1. Проведена предобработка данных трех датасетов.\n",
    "    2. Из выборок исключены выбросы, которые могли бы повлиять на качество построенных моделей.\n",
    "    3. Исследованы стадии очистки сырья.\n",
    "    4. Написаны функции рассчета требуемой метрики - итоговой sMAPE.\n",
    "    5. Построены три модели машинного обучения - линейной регрессии, случайного леса и дерава решений.\n",
    "    6. Проведена кросс-валидация и выбор гиперпараметров моделей.\n",
    "    7. Выбрана наилучшая модель с подходящими гиперпараметрами - регрессионный случайный лес с параметрами {'max_depth': 5, 'max_features': 20, 'n_estimators': 300}. Итоговый sMAPE при кросс-валидации равен 9.36.\n",
    "    8. Выбранная модель проверена на тестовой выборке. Значение итоговой sMAPE близко к значениям полученным при кросс-валлидации - 8.7.\n",
    "    9. Была обучена Dummy модель для проверки на адеквтность. Предсказания дамми модели оказались хуже предсказаний модели случайного леса (9.6)."
   ]
  }
 ],
 "metadata": {
  "kernelspec": {
   "display_name": "Python 3",
   "language": "python",
   "name": "python3"
  },
  "language_info": {
   "codemirror_mode": {
    "name": "ipython",
    "version": 3
   },
   "file_extension": ".py",
   "mimetype": "text/x-python",
   "name": "python",
   "nbconvert_exporter": "python",
   "pygments_lexer": "ipython3",
   "version": "3.7.6"
  }
 },
 "nbformat": 4,
 "nbformat_minor": 2
}
