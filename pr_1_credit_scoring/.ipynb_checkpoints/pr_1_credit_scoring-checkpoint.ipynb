{
 "cells": [
  {
   "cell_type": "markdown",
   "metadata": {},
   "source": [
    "## Оглавление:\n",
    "* [1 Описание данных](#One)\n",
    "* [2 Загрузка данных](#Two)\n",
    "* [3 Предобработка данных](#Three)\n",
    "    * [3.1 Обработка пропусков](#ThreePointOne)\n",
    "    * [3.2 Замена типов данных](#ThreePointTwo)\n",
    "    * [3.3 Обработка дубликатов](#ThreePointThree)\n",
    "    * [3.4 Лемматизация](#ThreePointFour)\n",
    "    * [3.5 Категоризация данных](#ThreePointFive)\n",
    "* [4 Анализ данных](#Four)\n",
    "* [5 Общий вывод](#Five)\n"
   ]
  },
  {
   "cell_type": "markdown",
   "metadata": {},
   "source": [
    "## Исследование надёжности заёмщиков\n",
    "\n",
    "Нужно разобраться, влияет ли семейное положение и количество детей клиента на факт погашения кредита в срок. Входные данные от банка — статистика о платёжеспособности клиентов."
   ]
  },
  {
   "cell_type": "markdown",
   "metadata": {},
   "source": [
    "## 1 Описание данных <a class=\"anchor\" id=\"One\"></a>\n",
    "\n",
    "    children — количество детей\n",
    "    days_employed — стаж в днях\n",
    "    dob_years — возраст клиента в годах\n",
    "    education — образования \n",
    "    education_id — id образования\n",
    "    family_status — семейное положение\n",
    "    family_status_id — id семейного положения\n",
    "    gender — пол\n",
    "    income_type — тип занятости\n",
    "    debt — прошлые задолженности\n",
    "    total_income — месячный доход\n",
    "    purpose — цель кредита"
   ]
  },
  {
   "cell_type": "markdown",
   "metadata": {},
   "source": [
    "## 2 Загрузка данных <a class=\"anchor\" id=\"Two\"></a>"
   ]
  },
  {
   "cell_type": "code",
   "execution_count": 69,
   "metadata": {
    "scrolled": true
   },
   "outputs": [
    {
     "name": "stdout",
     "output_type": "stream",
     "text": [
      "<class 'pandas.core.frame.DataFrame'>\n",
      "RangeIndex: 21525 entries, 0 to 21524\n",
      "Data columns (total 12 columns):\n",
      " #   Column            Non-Null Count  Dtype  \n",
      "---  ------            --------------  -----  \n",
      " 0   children          21525 non-null  int64  \n",
      " 1   days_employed     19351 non-null  float64\n",
      " 2   dob_years         21525 non-null  int64  \n",
      " 3   education         21525 non-null  object \n",
      " 4   education_id      21525 non-null  int64  \n",
      " 5   family_status     21525 non-null  object \n",
      " 6   family_status_id  21525 non-null  int64  \n",
      " 7   gender            21525 non-null  object \n",
      " 8   income_type       21525 non-null  object \n",
      " 9   debt              21525 non-null  int64  \n",
      " 10  total_income      19351 non-null  float64\n",
      " 11  purpose           21525 non-null  object \n",
      "dtypes: float64(2), int64(5), object(5)\n",
      "memory usage: 2.0+ MB\n",
      "None\n"
     ]
    }
   ],
   "source": [
    "import pandas as pd\n",
    "import numpy as np\n",
    "reliability = pd.read_csv('data.csv')\n",
    "print(reliability.info())"
   ]
  },
  {
   "cell_type": "code",
   "execution_count": 70,
   "metadata": {},
   "outputs": [
    {
     "name": "stdout",
     "output_type": "stream",
     "text": [
      "_____________________________________\n",
      "В столбце days_employed найдено 2174 пропуска.\n",
      "В столбце total_income найдено 2174 пропуска.\n",
      "_____________________________________\n",
      "В столбце children имеется 14149 нулевых значений.\n",
      "В столбце dob_years имеется 101 нулевых значений.\n",
      "В столбце education_id имеется 5260 нулевых значений.\n",
      "В столбце family_status_id имеется 12380 нулевых значений.\n",
      "В столбце debt имеется 19784 нулевых значений.\n",
      "_____________________________________\n",
      "В столбце children имеется 47 отрицательных значений.\n",
      "В столбце days_employed имеется 15906 отрицательных значений.\n"
     ]
    }
   ],
   "source": [
    "#Проверим данные на наличие пропусков\n",
    "print('_____________________________________')\n",
    "na = 0\n",
    "for column in reliability.columns:\n",
    "    na = reliability[column].isna().sum()\n",
    "    if na > 0:\n",
    "        print('В столбце', column, 'найдено', na, 'пропуска.')\n",
    "\n",
    "#Функция определения числового значения\n",
    "def isdigit(str):\n",
    "    try:\n",
    "        float(str)\n",
    "        return True\n",
    "    except TypeError:\n",
    "        return False\n",
    "    except ValueError:\n",
    "        return False\n",
    "    \n",
    "#Проверим данные на нулевые значения   \n",
    "print('_____________________________________')\n",
    "zero = 0\n",
    "for column in reliability.columns:\n",
    "    zero = reliability[reliability[column] == 0][column].count()\n",
    "    if isdigit(zero) and zero > 0:\n",
    "        print('В столбце', column, 'имеется', zero, 'нулевых значений.')\n",
    "\n",
    "#Проверка на отрицательные значения\n",
    "value = 0\n",
    "print('_____________________________________')\n",
    "for column in reliability.columns:\n",
    "    value_1 = reliability.loc[1, column]\n",
    "    if isdigit(value_1):\n",
    "        value = reliability[reliability[column] < 0][column].count()\n",
    "        if isdigit(value) and value > 0:\n",
    "            print('В столбце', column, 'имеется', value, 'отрицательных значений.') "
   ]
  },
  {
   "cell_type": "markdown",
   "metadata": {},
   "source": [
    "### Вывод"
   ]
  },
  {
   "cell_type": "markdown",
   "metadata": {},
   "source": [
    "Полученная таблица, предварительно, имеет следующие проблемы:\n",
    "1. в двух колонках ('days_employed' и 'total_income') имеется по 2174 пропуска,\n",
    "2. в данных колонки 'days_employed' два вида ошибок:\n",
    "    - отрицательное количество дней (предполагаю что для анализа будет достаточно изменить знак)\n",
    "    - у всех пенсионеров (без пропусков в столбце 'days_employed') и безработных стаж в днях неотрицательный и (среднее и медиана) составляет около 365000. Возможно стаж для пенсионеров и безработных представлен в других единицах (часах).\n",
    "3. в колонке 'dob_years' присутствуют нулевые значения, возможно вызванные ошибками ввода.\n",
    "4. в колонке 'gender' присутствует одно значение XNA.\n",
    "5. в колонке 'children' присутствует 47 отрицательных значений."
   ]
  },
  {
   "cell_type": "markdown",
   "metadata": {},
   "source": [
    "## 3 Предобработка данных. <a class=\"anchor\" id=\"Three\"></a>"
   ]
  },
  {
   "cell_type": "markdown",
   "metadata": {},
   "source": [
    "### 3.1 Обработка пропусков <a class=\"anchor\" id=\"ThreePointOne\"></a>"
   ]
  },
  {
   "cell_type": "code",
   "execution_count": 71,
   "metadata": {},
   "outputs": [
    {
     "name": "stdout",
     "output_type": "stream",
     "text": [
      "Возраст клиента до обарботки: медиана -42.00, среднее - 43.29\n",
      "Ежемесячный доход до обарботки: медиана - 145017.94, среднее - 167422.30\n",
      "Стаж клиента до обарботки: медиана --1203.37, среднее - 63046.50\n"
     ]
    }
   ],
   "source": [
    "#Для проверки сохраним средние значения и медианы столбцов 'dob_years', 'total_income', 'days_employed', \n",
    "#чтобы сравнить их со значениями полученными после обработки\n",
    "print('Возраст клиента до обарботки: медиана -{:.2f}, среднее - {:.2f}'.format(\n",
    "    reliability['dob_years'].median(), \n",
    "    reliability['dob_years'].mean()))\n",
    "print('Ежемесячный доход до обарботки: медиана - {:.2f}, среднее - {:.2f}'.format(\n",
    "    reliability['total_income'].median(),\n",
    "    reliability['total_income'].mean()))\n",
    "print('Стаж клиента до обарботки: медиана -{:.2f}, среднее - {:.2f}'.format(\n",
    "    reliability['days_employed'].median(),\n",
    "    reliability['days_employed'].mean()))"
   ]
  },
  {
   "cell_type": "code",
   "execution_count": 72,
   "metadata": {},
   "outputs": [
    {
     "data": {
      "text/html": [
       "<div>\n",
       "<style scoped>\n",
       "    .dataframe tbody tr th:only-of-type {\n",
       "        vertical-align: middle;\n",
       "    }\n",
       "\n",
       "    .dataframe tbody tr th {\n",
       "        vertical-align: top;\n",
       "    }\n",
       "\n",
       "    .dataframe thead th {\n",
       "        text-align: right;\n",
       "    }\n",
       "</style>\n",
       "<table border=\"1\" class=\"dataframe\">\n",
       "  <thead>\n",
       "    <tr style=\"text-align: right;\">\n",
       "      <th></th>\n",
       "      <th>children</th>\n",
       "      <th>days_employed</th>\n",
       "      <th>dob_years</th>\n",
       "      <th>education</th>\n",
       "      <th>education_id</th>\n",
       "      <th>family_status</th>\n",
       "      <th>family_status_id</th>\n",
       "      <th>gender</th>\n",
       "      <th>income_type</th>\n",
       "      <th>debt</th>\n",
       "      <th>total_income</th>\n",
       "      <th>purpose</th>\n",
       "    </tr>\n",
       "  </thead>\n",
       "  <tbody>\n",
       "    <tr>\n",
       "      <th>0</th>\n",
       "      <td>1</td>\n",
       "      <td>-8437.673028</td>\n",
       "      <td>42</td>\n",
       "      <td>высшее</td>\n",
       "      <td>0</td>\n",
       "      <td>женат / замужем</td>\n",
       "      <td>0</td>\n",
       "      <td>F</td>\n",
       "      <td>сотрудник</td>\n",
       "      <td>0</td>\n",
       "      <td>253875.639453</td>\n",
       "      <td>покупка жилья</td>\n",
       "    </tr>\n",
       "    <tr>\n",
       "      <th>1</th>\n",
       "      <td>1</td>\n",
       "      <td>-4024.803754</td>\n",
       "      <td>36</td>\n",
       "      <td>среднее</td>\n",
       "      <td>1</td>\n",
       "      <td>женат / замужем</td>\n",
       "      <td>0</td>\n",
       "      <td>F</td>\n",
       "      <td>сотрудник</td>\n",
       "      <td>0</td>\n",
       "      <td>112080.014102</td>\n",
       "      <td>приобретение автомобиля</td>\n",
       "    </tr>\n",
       "    <tr>\n",
       "      <th>2</th>\n",
       "      <td>0</td>\n",
       "      <td>-5623.422610</td>\n",
       "      <td>33</td>\n",
       "      <td>Среднее</td>\n",
       "      <td>1</td>\n",
       "      <td>женат / замужем</td>\n",
       "      <td>0</td>\n",
       "      <td>M</td>\n",
       "      <td>сотрудник</td>\n",
       "      <td>0</td>\n",
       "      <td>145885.952297</td>\n",
       "      <td>покупка жилья</td>\n",
       "    </tr>\n",
       "    <tr>\n",
       "      <th>3</th>\n",
       "      <td>3</td>\n",
       "      <td>-4124.747207</td>\n",
       "      <td>32</td>\n",
       "      <td>среднее</td>\n",
       "      <td>1</td>\n",
       "      <td>женат / замужем</td>\n",
       "      <td>0</td>\n",
       "      <td>M</td>\n",
       "      <td>сотрудник</td>\n",
       "      <td>0</td>\n",
       "      <td>267628.550329</td>\n",
       "      <td>дополнительное образование</td>\n",
       "    </tr>\n",
       "    <tr>\n",
       "      <th>4</th>\n",
       "      <td>0</td>\n",
       "      <td>340266.072047</td>\n",
       "      <td>53</td>\n",
       "      <td>среднее</td>\n",
       "      <td>1</td>\n",
       "      <td>гражданский брак</td>\n",
       "      <td>1</td>\n",
       "      <td>F</td>\n",
       "      <td>пенсионер</td>\n",
       "      <td>0</td>\n",
       "      <td>158616.077870</td>\n",
       "      <td>сыграть свадьбу</td>\n",
       "    </tr>\n",
       "    <tr>\n",
       "      <th>...</th>\n",
       "      <td>...</td>\n",
       "      <td>...</td>\n",
       "      <td>...</td>\n",
       "      <td>...</td>\n",
       "      <td>...</td>\n",
       "      <td>...</td>\n",
       "      <td>...</td>\n",
       "      <td>...</td>\n",
       "      <td>...</td>\n",
       "      <td>...</td>\n",
       "      <td>...</td>\n",
       "      <td>...</td>\n",
       "    </tr>\n",
       "    <tr>\n",
       "      <th>21520</th>\n",
       "      <td>1</td>\n",
       "      <td>-4529.316663</td>\n",
       "      <td>43</td>\n",
       "      <td>среднее</td>\n",
       "      <td>1</td>\n",
       "      <td>гражданский брак</td>\n",
       "      <td>1</td>\n",
       "      <td>F</td>\n",
       "      <td>компаньон</td>\n",
       "      <td>0</td>\n",
       "      <td>224791.862382</td>\n",
       "      <td>операции с жильем</td>\n",
       "    </tr>\n",
       "    <tr>\n",
       "      <th>21521</th>\n",
       "      <td>0</td>\n",
       "      <td>343937.404131</td>\n",
       "      <td>67</td>\n",
       "      <td>среднее</td>\n",
       "      <td>1</td>\n",
       "      <td>женат / замужем</td>\n",
       "      <td>0</td>\n",
       "      <td>F</td>\n",
       "      <td>пенсионер</td>\n",
       "      <td>0</td>\n",
       "      <td>155999.806512</td>\n",
       "      <td>сделка с автомобилем</td>\n",
       "    </tr>\n",
       "    <tr>\n",
       "      <th>21522</th>\n",
       "      <td>1</td>\n",
       "      <td>-2113.346888</td>\n",
       "      <td>38</td>\n",
       "      <td>среднее</td>\n",
       "      <td>1</td>\n",
       "      <td>гражданский брак</td>\n",
       "      <td>1</td>\n",
       "      <td>M</td>\n",
       "      <td>сотрудник</td>\n",
       "      <td>1</td>\n",
       "      <td>89672.561153</td>\n",
       "      <td>недвижимость</td>\n",
       "    </tr>\n",
       "    <tr>\n",
       "      <th>21523</th>\n",
       "      <td>3</td>\n",
       "      <td>-3112.481705</td>\n",
       "      <td>38</td>\n",
       "      <td>среднее</td>\n",
       "      <td>1</td>\n",
       "      <td>женат / замужем</td>\n",
       "      <td>0</td>\n",
       "      <td>M</td>\n",
       "      <td>сотрудник</td>\n",
       "      <td>1</td>\n",
       "      <td>244093.050500</td>\n",
       "      <td>на покупку своего автомобиля</td>\n",
       "    </tr>\n",
       "    <tr>\n",
       "      <th>21524</th>\n",
       "      <td>2</td>\n",
       "      <td>-1984.507589</td>\n",
       "      <td>40</td>\n",
       "      <td>среднее</td>\n",
       "      <td>1</td>\n",
       "      <td>женат / замужем</td>\n",
       "      <td>0</td>\n",
       "      <td>F</td>\n",
       "      <td>сотрудник</td>\n",
       "      <td>0</td>\n",
       "      <td>82047.418899</td>\n",
       "      <td>на покупку автомобиля</td>\n",
       "    </tr>\n",
       "  </tbody>\n",
       "</table>\n",
       "<p>21525 rows × 12 columns</p>\n",
       "</div>"
      ],
      "text/plain": [
       "       children  days_employed  dob_years education  education_id  \\\n",
       "0             1   -8437.673028         42    высшее             0   \n",
       "1             1   -4024.803754         36   среднее             1   \n",
       "2             0   -5623.422610         33   Среднее             1   \n",
       "3             3   -4124.747207         32   среднее             1   \n",
       "4             0  340266.072047         53   среднее             1   \n",
       "...         ...            ...        ...       ...           ...   \n",
       "21520         1   -4529.316663         43   среднее             1   \n",
       "21521         0  343937.404131         67   среднее             1   \n",
       "21522         1   -2113.346888         38   среднее             1   \n",
       "21523         3   -3112.481705         38   среднее             1   \n",
       "21524         2   -1984.507589         40   среднее             1   \n",
       "\n",
       "          family_status  family_status_id gender income_type  debt  \\\n",
       "0       женат / замужем                 0      F   сотрудник     0   \n",
       "1       женат / замужем                 0      F   сотрудник     0   \n",
       "2       женат / замужем                 0      M   сотрудник     0   \n",
       "3       женат / замужем                 0      M   сотрудник     0   \n",
       "4      гражданский брак                 1      F   пенсионер     0   \n",
       "...                 ...               ...    ...         ...   ...   \n",
       "21520  гражданский брак                 1      F   компаньон     0   \n",
       "21521   женат / замужем                 0      F   пенсионер     0   \n",
       "21522  гражданский брак                 1      M   сотрудник     1   \n",
       "21523   женат / замужем                 0      M   сотрудник     1   \n",
       "21524   женат / замужем                 0      F   сотрудник     0   \n",
       "\n",
       "        total_income                       purpose  \n",
       "0      253875.639453                 покупка жилья  \n",
       "1      112080.014102       приобретение автомобиля  \n",
       "2      145885.952297                 покупка жилья  \n",
       "3      267628.550329    дополнительное образование  \n",
       "4      158616.077870               сыграть свадьбу  \n",
       "...              ...                           ...  \n",
       "21520  224791.862382             операции с жильем  \n",
       "21521  155999.806512          сделка с автомобилем  \n",
       "21522   89672.561153                  недвижимость  \n",
       "21523  244093.050500  на покупку своего автомобиля  \n",
       "21524   82047.418899         на покупку автомобиля  \n",
       "\n",
       "[21525 rows x 12 columns]"
      ]
     },
     "execution_count": 72,
     "metadata": {},
     "output_type": "execute_result"
    }
   ],
   "source": [
    "reliability"
   ]
  },
  {
   "cell_type": "code",
   "execution_count": 73,
   "metadata": {},
   "outputs": [
    {
     "name": "stderr",
     "output_type": "stream",
     "text": [
      "/home/kharan/anaconda3/lib/python3.7/site-packages/ipykernel_launcher.py:3: SettingWithCopyWarning: \n",
      "A value is trying to be set on a copy of a slice from a DataFrame\n",
      "\n",
      "See the caveats in the documentation: https://pandas.pydata.org/pandas-docs/stable/user_guide/indexing.html#returning-a-view-versus-a-copy\n",
      "  This is separate from the ipykernel package so we can avoid doing imports until\n",
      "/home/kharan/anaconda3/lib/python3.7/site-packages/ipykernel_launcher.py:4: SettingWithCopyWarning: \n",
      "A value is trying to be set on a copy of a slice from a DataFrame\n",
      "\n",
      "See the caveats in the documentation: https://pandas.pydata.org/pandas-docs/stable/user_guide/indexing.html#returning-a-view-versus-a-copy\n",
      "  after removing the cwd from sys.path.\n",
      "/home/kharan/anaconda3/lib/python3.7/site-packages/ipykernel_launcher.py:5: SettingWithCopyWarning: \n",
      "A value is trying to be set on a copy of a slice from a DataFrame\n",
      "\n",
      "See the caveats in the documentation: https://pandas.pydata.org/pandas-docs/stable/user_guide/indexing.html#returning-a-view-versus-a-copy\n",
      "  \"\"\"\n"
     ]
    }
   ],
   "source": [
    "#Заполним пропуски в стаже у пенсионеров средним значением, а также приведем значения в строке стажа к дням.\n",
    "pensioner_mean = reliability[reliability['income_type'] == 'пенсионер']['days_employed'].mean()\n",
    "reliability.loc[:,'days_employed'][reliability['income_type']=='пенсионер'] = reliability.loc[:,'days_employed'][reliability['income_type']=='пенсионер'].fillna(pensioner_mean)\n",
    "reliability['days_employed'][reliability['income_type']=='пенсионер'] = reliability['days_employed'][reliability['income_type']=='пенсионер'] / 24\n",
    "reliability['days_employed'][reliability['income_type']=='безработный'] = reliability['days_employed'][reliability['income_type']=='безработный'] / 24"
   ]
  },
  {
   "cell_type": "code",
   "execution_count": 74,
   "metadata": {},
   "outputs": [],
   "source": [
    "#Заполним остальные пропуски в стаже значениями, зависящими от возраста. \n",
    "#Для начала уберем уберем отрицательные значения\n",
    "\n",
    "reliability['days_employed'] = reliability['days_employed'].apply(abs)\n",
    "\n",
    "#В выборке имеются 7 значений с нулевым возрастом и отсутствующим значением стажа. \n",
    "#Назначим для них значение возраста равным среднему значению.\n",
    "\n",
    "age_mean = reliability['dob_years'].mean()\n",
    "mask = reliability['days_employed'].isnull()\n",
    "reliability.loc[mask, 'dob_years'] = reliability.loc[mask, 'dob_years'].replace(0, age_mean)\n",
    "\n",
    "#Оставшиеся пропуски в возрасте заполним исходя из предположения что человек имел непрерывный трудовой стаж с 18 лет\n",
    "\n",
    "age_from_employed = 18 + reliability['days_employed'] / 365\n",
    "reliability['dob_years'].replace(0, age_from_employed, inplace = True)\n",
    "\n",
    "#Пропуски в стаже заполним значениями зависящими от возраста. Введем индекс равный отношению стажа к возрасту\n",
    "\n",
    "reliability['age_index'] = reliability['days_employed'] / reliability['dob_years']\n",
    "\n",
    "#И найдем его медиану (среднее значение подходит меньше так как люди с маленьким стажем или \n",
    "#работающие после выхода на пенсию могут сильно его сдвинуть)\n",
    "\n",
    "age_index_median = reliability['age_index'].median()\n",
    "\n",
    "mask_2 = reliability['days_employed'].isnull()\n",
    "\n",
    "#Пропуски стажа заполним значением возраста умноженным на медиану индекса\n",
    "\n",
    "reliability.loc[mask_2, 'days_employed'] = reliability.loc[mask_2, 'dob_years'] * age_index_median"
   ]
  },
  {
   "cell_type": "code",
   "execution_count": 75,
   "metadata": {},
   "outputs": [],
   "source": [
    "#Заполним пропуски в доходах медианными значениями, зависящими от уровня образования и должности\n",
    "\n",
    "def edu_income_group(row):\n",
    "    \"\"\" Присваивает строке номер группы,  зависящий от образования и должности, что, в дальнейшем,\n",
    "    будет использовано для расчета медианы дохода. ID группы - двузначное число, второй знак - id образования\n",
    "    первый знак - id должности:\n",
    "    1 - сотрудник\n",
    "    2 - компаньон\n",
    "    3 - пенсионер\n",
    "    4 - госслужащий\n",
    "    5 - предприниматель\n",
    "    6 - безработный\n",
    "    7 - студент\n",
    "    8 - в декрете\"\"\"\n",
    "    education_id = row['education_id']\n",
    "    income_type = row['income_type']\n",
    "    type_dict = {'сотрудник' : 1, 'компаньон' : 2, 'пенсионер' : 3, 'госслужащий' : 4,\n",
    "                 'предприниматель' : 5, 'безработный' : 6, 'студент' : 7, 'в декрете' : 8}\n",
    "    income_type_id = type_dict[income_type]\n",
    "    return income_type_id * 10 + education_id\n",
    "reliability['edu_income_id'] = reliability.apply(edu_income_group, axis=1)\n",
    "\n",
    "#Медианы дохода по каждой группе\n",
    "\n",
    "median_income = reliability.groupby('edu_income_id')['total_income'].median()"
   ]
  },
  {
   "cell_type": "code",
   "execution_count": 76,
   "metadata": {},
   "outputs": [
    {
     "name": "stderr",
     "output_type": "stream",
     "text": [
      "/home/kharan/anaconda3/lib/python3.7/site-packages/pandas/core/indexing.py:670: SettingWithCopyWarning: \n",
      "A value is trying to be set on a copy of a slice from a DataFrame\n",
      "\n",
      "See the caveats in the documentation: https://pandas.pydata.org/pandas-docs/stable/user_guide/indexing.html#returning-a-view-versus-a-copy\n",
      "  self._setitem_with_indexer(indexer, value)\n"
     ]
    }
   ],
   "source": [
    "#Заполняем пропуски, сначала, значениями 'edu_income_id'\n",
    "\n",
    "reliability['total_income'] = reliability['total_income'].fillna(reliability['edu_income_id'])\n",
    "\n",
    "#После чего меняем их на медианные значения. i[0] - edu_income_id, i[1] - медиана дохода по этой группе\n",
    "\n",
    "for i in median_income.items():\n",
    "    reliability['total_income'].loc[reliability['total_income']==i[0]] = i[1] "
   ]
  },
  {
   "cell_type": "code",
   "execution_count": 77,
   "metadata": {
    "scrolled": true
   },
   "outputs": [],
   "source": [
    "#Исправим значение -1 в колонке 'children', исходя из предположения что при вводе количество детей вводили через дефис\n",
    "reliability['children'].replace(-1, 1, inplace = True)\n",
    "#В датасете присутствуют 76 позиций с количеством детей 20, что маловероятно. Предположительно при вводе был ошибочно добавлен 0\n",
    "reliability['children'].replace(20, 2, inplace = True)\n"
   ]
  },
  {
   "cell_type": "code",
   "execution_count": 78,
   "metadata": {},
   "outputs": [],
   "source": [
    "#Одно значение XNA в колонке 'gender' с вероятностью 66% должно быть равно F. ( F/(F+M) = 0,66)\n",
    "reliability['gender'].replace('XNA', 'F', inplace = True)"
   ]
  },
  {
   "cell_type": "code",
   "execution_count": 79,
   "metadata": {},
   "outputs": [
    {
     "name": "stdout",
     "output_type": "stream",
     "text": [
      "Возраст клиента после обарботки: медиана - 43.00, среднее - 43.45\n",
      "Ежемесячный доход после обарботки: медиана - 143496.28, среднее - 165353.73\n",
      "Стаж клиента после обарботки: медиана - 2294.48, среднее - 4659.83\n"
     ]
    }
   ],
   "source": [
    "#Значения 'dob_years', 'total_income', 'days_employed' после обработки\n",
    "\n",
    "print('Возраст клиента после обарботки: медиана - {:.2f}, среднее - {:.2f}'.format(\n",
    "    reliability['dob_years'].median(), \n",
    "    reliability['dob_years'].mean()))\n",
    "print('Ежемесячный доход после обарботки: медиана - {:.2f}, среднее - {:.2f}'.format(\n",
    "    reliability['total_income'].median(), \n",
    "    reliability['total_income'].mean()))\n",
    "print('Стаж клиента после обарботки: медиана - {:.2f}, среднее - {:.2f}'.format(\n",
    "    reliability['days_employed'].median(), \n",
    "    reliability['days_employed'].mean()))\n"
   ]
  },
  {
   "cell_type": "code",
   "execution_count": 80,
   "metadata": {},
   "outputs": [],
   "source": [
    "#Удалим столбцы с промежуточными вычислениями\n",
    "del reliability['age_index']\n",
    "del reliability['edu_income_id']"
   ]
  },
  {
   "cell_type": "markdown",
   "metadata": {},
   "source": [
    "### Вывод"
   ]
  },
  {
   "cell_type": "markdown",
   "metadata": {},
   "source": [
    "При обработке данных были выявлены и устранены следующие неточности и пропуски:\n",
    "1. В колонке 'children':\n",
    "    -47 позиций со значением '-1', предполагаю что это вызвано тем что перед значением вводили дефис, исправлено на '1'.\n",
    "    -76 позиций со значением '20', предполагаю что 0 в конце был введен ошибочно, исправлено на '2'.\n",
    "2. В колонке 'days_employed':\n",
    "    -15906 позиций с отрицательными значениями, пердположительно вызвано тем что перед значением вводили дефис, исправлено взятием модуля значения.\n",
    "    -3445 позиций со значениями превышающими разумные (в среднем 360000 дней). Такие значения наблюдаются только в категориях 'пенсионер' и 'безработный'. Предположительно значения получены из источника, в котором значения были представлены в дргих единицах (часах). Исправлено переводом значений в дни.\n",
    "    -2174 пропуска. Пропуски в категории 'пенсионер' заполнены средним (средние и медианные значения практически равны) значением, так как выход на пенсию происходит по достижению примерно одинакого возраста и стажа. Для заполнения остальных пропусков было посчитан индекс как отношение стажа к возрасту для клиентов с известными возрастом и стажем ('age_index'). Медиана этого индекса умноженная на возраст клиента, с пропуском в стаже, дает искомый стаж.\n",
    "3. В колонке 'dob_years' 101 значение было равно '0'. Возможная причина возникновения - ошибка при вводе. 7 значений, имеющих также пропуски в значении стажа были заполнены средним возрастом, остальные заполнены исходя из предположения что клиенты с 18 лет имели непрерывный трудовой стаж. (18 лет + стаж / 365)\n",
    "4. В колонке 'gender' имелось одно значение 'XNA', ему присвоено значение F, как более вероятно, так как соотношение мужчин к женщинам 1 к 2.\n",
    "5. В колонке 'total_income' 2174 пропуска. Для заполнения клиенты были разделены на группы, в зависимости от их образования и должности. По каждой группе были найдены медианные значения дохода, которыми и заполнены пропуски в данных."
   ]
  },
  {
   "cell_type": "markdown",
   "metadata": {},
   "source": [
    "### 3.2 Замена типа данных <a class=\"anchor\" id=\"ThreePointTwo\"></a>"
   ]
  },
  {
   "cell_type": "code",
   "execution_count": 81,
   "metadata": {
    "scrolled": true
   },
   "outputs": [
    {
     "name": "stdout",
     "output_type": "stream",
     "text": [
      "children\n",
      "Максимум - 5 , минимум -  0\n",
      "days_employed\n",
      "Максимум - 18388.949900568383 , минимум -  24.14163324048118\n",
      "dob_years\n",
      "Максимум - 75.0 , минимум -  18.29853984072917\n",
      "education\n",
      "Максимум - ученая степень , минимум -  ВЫСШЕЕ\n",
      "education_id\n",
      "Максимум - 4 , минимум -  0\n",
      "family_status\n",
      "Максимум - женат / замужем , минимум -  Не женат / не замужем\n",
      "family_status_id\n",
      "Максимум - 4 , минимум -  0\n",
      "gender\n",
      "Максимум - M , минимум -  F\n",
      "income_type\n",
      "Максимум - студент , минимум -  безработный\n",
      "debt\n",
      "Максимум - 1 , минимум -  0\n",
      "total_income\n",
      "Максимум - 2265604.028722744 , минимум -  20667.26379327158\n",
      "purpose\n",
      "Максимум - сыграть свадьбу , минимум -  автомобили\n",
      "<class 'pandas.core.frame.DataFrame'>\n",
      "RangeIndex: 21525 entries, 0 to 21524\n",
      "Data columns (total 12 columns):\n",
      " #   Column            Non-Null Count  Dtype \n",
      "---  ------            --------------  ----- \n",
      " 0   children          21525 non-null  int8  \n",
      " 1   days_employed     21525 non-null  int16 \n",
      " 2   dob_years         21525 non-null  int8  \n",
      " 3   education         21525 non-null  object\n",
      " 4   education_id      21525 non-null  int8  \n",
      " 5   family_status     21525 non-null  object\n",
      " 6   family_status_id  21525 non-null  int8  \n",
      " 7   gender            21525 non-null  object\n",
      " 8   income_type       21525 non-null  object\n",
      " 9   debt              21525 non-null  int8  \n",
      " 10  total_income      21525 non-null  int32 \n",
      " 11  purpose           21525 non-null  object\n",
      "dtypes: int16(1), int32(1), int8(5), object(5)\n",
      "memory usage: 1.0+ MB\n",
      "None\n"
     ]
    }
   ],
   "source": [
    "#Заменим типы данных int64 и float64 на более подходящие по размерности\n",
    "for name, values in reliability.iteritems():\n",
    "        print('{name}'.format(name=name))\n",
    "        print('Максимум -', reliability[name].max(), ', минимум - ', reliability[name].min())\n",
    "    \n",
    "reliability['children'] = reliability['children'].astype('int8')\n",
    "reliability['days_employed'] = reliability['days_employed'].astype('int16')\n",
    "reliability['dob_years'] = reliability['dob_years'].astype('int8')\n",
    "reliability['education_id'] = reliability['education_id'].astype('int8')\n",
    "reliability['family_status_id'] = reliability['family_status_id'].astype('int8')\n",
    "reliability['debt'] = reliability['debt'].astype('int8')\n",
    "reliability['total_income'] = reliability['total_income'].astype('int32')\n",
    "print(reliability.info())"
   ]
  },
  {
   "cell_type": "markdown",
   "metadata": {},
   "source": [
    "### Вывод"
   ]
  },
  {
   "cell_type": "markdown",
   "metadata": {},
   "source": [
    "Для каждой колонки имеющей числовой тип данных найдено минимальное и максимальное значение, в зависимости от которого выбран тип данных. После замены использования памяти базой данных уменьшщилось на половину."
   ]
  },
  {
   "cell_type": "markdown",
   "metadata": {},
   "source": [
    "### 3.3 Обработка дубликатов <a class=\"anchor\" id=\"ThreePointThree\"></a>"
   ]
  },
  {
   "cell_type": "code",
   "execution_count": 82,
   "metadata": {},
   "outputs": [
    {
     "name": "stdout",
     "output_type": "stream",
     "text": [
      "В данных обнаружен 71 дубликат\n",
      "В данных обнаружено 0 дубликатов\n"
     ]
    }
   ],
   "source": [
    "#Приведем строки колонок 'object' к нижнему регистру\n",
    "for name in ['education', 'family_status', 'gender', 'income_type', 'purpose']:\n",
    "    reliability[name] = reliability[name].str.lower()\n",
    "\n",
    "print('В данных обнаружен', reliability.duplicated().sum(), 'дубликат')\n",
    "reliability = reliability.drop_duplicates().reset_index(drop = True)\n",
    "print('В данных обнаружено', reliability.duplicated().sum(), 'дубликатов')\n"
   ]
  },
  {
   "cell_type": "markdown",
   "metadata": {},
   "source": [
    "### Вывод"
   ]
  },
  {
   "cell_type": "markdown",
   "metadata": {},
   "source": [
    "Перед началом поиска дубликатов значения строковых колонок было приведено к нижнему регистру.\n",
    "Обнаружен 71 дубликат. Они были исключены из таблицы со сбросов индекса методом 'drop_duplicates'. Дубликаты могли возникнуть при слиянии различных баз данных."
   ]
  },
  {
   "cell_type": "markdown",
   "metadata": {},
   "source": [
    "### 3.4 Лемматизация <a class=\"anchor\" id=\"ThreePointFour\"></a>"
   ]
  },
  {
   "cell_type": "code",
   "execution_count": 83,
   "metadata": {},
   "outputs": [],
   "source": [
    "#Сгруппируем причины взятия кредита\n",
    "list_purpose = reliability['purpose'].unique()\n",
    "#Сформируем словарь причин взятия кредита: \n",
    "#'свадьба' - 0, 'недвижимость' или 'жилье' - 1, 'автомобиль' - 2, 'образование' - 3\n",
    "purpose_dict = {'свадьба' : 0, 'недвижимость' : 1, 'жилье' : 1, 'автомобиль' : 2, 'образование' : 3}"
   ]
  },
  {
   "cell_type": "code",
   "execution_count": 84,
   "metadata": {},
   "outputs": [],
   "source": [
    "reliability['purpose_id'] = np.nan"
   ]
  },
  {
   "cell_type": "code",
   "execution_count": 85,
   "metadata": {},
   "outputs": [],
   "source": [
    "from pymystem3 import Mystem\n",
    "m = Mystem()\n",
    "for text in list_purpose:\n",
    "    lemmas = m.lemmatize(text)\n",
    "    for i in lemmas:\n",
    "        if i in purpose_dict:\n",
    "            reliability['purpose_id'].loc[reliability['purpose']==text] = purpose_dict[i] \n",
    "reliability['purpose_id'] = reliability['purpose_id'].astype('int8')  "
   ]
  },
  {
   "cell_type": "markdown",
   "metadata": {},
   "source": [
    "### Вывод"
   ]
  },
  {
   "cell_type": "markdown",
   "metadata": {},
   "source": [
    "Среди всех причин взятия кредита были выделены 4 группы:\n",
    "1. Кредит на свадьбу (purpose_id = 0)\n",
    "2. Кредит на покупку недвижимости, жилья (purpose_id = 1)\n",
    "3. Кредит на автомобиль (purpose_id = 2)\n",
    "4. Кредит на получение образования (purpose_id = 3)\n",
    "\n",
    "В базу данных была введена новая колонка 'purpose_id' для отражения причины покупки. Для заполнения колонки была проведена лемматизация данных по словам: 'свадьба', 'недвижимость', 'жилье', 'автомобиль', 'образование'. "
   ]
  },
  {
   "cell_type": "markdown",
   "metadata": {},
   "source": [
    "### 3.5 Категоризация данных <a class=\"anchor\" id=\"ThreePointFive\"></a>"
   ]
  },
  {
   "cell_type": "code",
   "execution_count": 86,
   "metadata": {},
   "outputs": [],
   "source": [
    "#Функция для категоризации датасета по наличию детей\n",
    "def child_group(count):\n",
    "    if count > 0:\n",
    "        return 'with children'\n",
    "    return 'without children'\n",
    "reliability['child_group'] = reliability['children'].apply(child_group)"
   ]
  },
  {
   "cell_type": "code",
   "execution_count": 87,
   "metadata": {},
   "outputs": [
    {
     "name": "stdout",
     "output_type": "stream",
     "text": [
      "Верхняя граница низкого дохода - 119873\n",
      "Нижняя граница высокого дохода - 173166\n"
     ]
    }
   ],
   "source": [
    "#Разделим датасет на равные группы по уровню дохода, для этого определим границы групп. \n",
    "total_income = reliability['total_income']\n",
    "total_income = total_income.sort_values().reset_index(drop = True)\n",
    "print('Верхняя граница низкого дохода -', total_income[round(len(total_income)/3)])\n",
    "print('Нижняя граница высокого дохода -', total_income[round(2*len(total_income)/3)])\n",
    "#Фнкция категоризации по уровню дохода.\n",
    "def income_group(income):\n",
    "    if income < 119873:\n",
    "        return 'low'\n",
    "    if income > 173166:\n",
    "        return 'high'\n",
    "    return 'middle'    "
   ]
  },
  {
   "cell_type": "code",
   "execution_count": 88,
   "metadata": {},
   "outputs": [],
   "source": [
    "reliability['income_group'] = reliability['total_income'].apply(income_group)"
   ]
  },
  {
   "cell_type": "code",
   "execution_count": 89,
   "metadata": {},
   "outputs": [],
   "source": [
    "#Разделим датасет на группы по семейному положению. single - нет семьи, in relation - есть семья.\n",
    "def family_group(family_id):\n",
    "    if family_id == 0 or family_id == 1:\n",
    "        return 'in relation'\n",
    "    return 'single'\n",
    "#Разделим датасет на группы по тому, был ли клиент в браке\n",
    "def marriage_group(family_id):\n",
    "    if family_id == 1 or family_id ==4:\n",
    "        return 'was not married'\n",
    "    return 'was married'"
   ]
  },
  {
   "cell_type": "code",
   "execution_count": 90,
   "metadata": {},
   "outputs": [],
   "source": [
    "reliability['family_group'] = reliability['family_status_id'].apply(family_group)\n",
    "reliability['marriage_group'] = reliability['family_status_id'].apply(marriage_group)"
   ]
  },
  {
   "cell_type": "markdown",
   "metadata": {},
   "source": [
    "### Вывод"
   ]
  },
  {
   "cell_type": "markdown",
   "metadata": {},
   "source": [
    "База данных была сгруппирована по нескольким категориям:\n",
    "1. По цели взятия кредита (ранее созданная 'purpose_id')\n",
    "2. По наличию детей (колонка 'child_group') \n",
    "3. По уровню дохода. Для группировки по этому показателю все заемщики были разделены на 3 равные (по количеству заемщиков) группы: низкий доход, средний доход, высокий доход.\n",
    "4. По наличию семью.\n",
    "5. По тому, был ли клиент в браке."
   ]
  },
  {
   "cell_type": "markdown",
   "metadata": {},
   "source": [
    "## 4 Анализ данных <a class=\"anchor\" id=\"Four\"></a>"
   ]
  },
  {
   "cell_type": "markdown",
   "metadata": {},
   "source": [
    "- Анализ связи наличия детей и невозврата кредита"
   ]
  },
  {
   "cell_type": "code",
   "execution_count": 91,
   "metadata": {},
   "outputs": [
    {
     "name": "stdout",
     "output_type": "stream",
     "text": [
      "                      debt\n",
      "child_group               \n",
      "without children  0.075438\n",
      "Mean              0.081150\n",
      "with children     0.092082\n"
     ]
    }
   ],
   "source": [
    "pivot_child = reliability.pivot_table(\n",
    "    index =['child_group'], \n",
    "    values='debt', \n",
    "    aggfunc=('mean'), \n",
    "    margins=True, \n",
    "    margins_name='Mean')\n",
    "\n",
    "print(pivot_child.sort_values(by='debt'))"
   ]
  },
  {
   "cell_type": "markdown",
   "metadata": {},
   "source": [
    "### Вывод"
   ]
  },
  {
   "cell_type": "markdown",
   "metadata": {},
   "source": [
    "В группе заемщиков с детьми должников по кредиту 9,2%, а в группе бездетных 7,5%, при среднем проценте невозврата - 8,1%. "
   ]
  },
  {
   "cell_type": "markdown",
   "metadata": {},
   "source": [
    "- Анализ связи семейного положения и возвратом кредита"
   ]
  },
  {
   "cell_type": "code",
   "execution_count": 92,
   "metadata": {},
   "outputs": [
    {
     "name": "stdout",
     "output_type": "stream",
     "text": [
      "                  debt\n",
      "family_group          \n",
      "in relation   0.079988\n",
      "Mean          0.081150\n",
      "single        0.085012\n",
      "                     debt\n",
      "marriage_group           \n",
      "was married      0.074450\n",
      "Mean             0.081150\n",
      "was not married  0.095101\n"
     ]
    }
   ],
   "source": [
    "pivot_family = reliability.pivot_table(\n",
    "    index ='family_group', \n",
    "    values='debt', \n",
    "    aggfunc=('mean'), \n",
    "    margins=True, \n",
    "    margins_name='Mean')\n",
    "\n",
    "pivot_marriage = reliability.pivot_table(\n",
    "    index =['marriage_group'], \n",
    "    values='debt', \n",
    "    aggfunc=('mean'), \n",
    "    margins=True, \n",
    "    margins_name='Mean')\n",
    "\n",
    "print(pivot_family.sort_values(by='debt'))\n",
    "print(pivot_marriage.sort_values(by='debt'))"
   ]
  },
  {
   "cell_type": "markdown",
   "metadata": {},
   "source": [
    "### Вывод"
   ]
  },
  {
   "cell_type": "markdown",
   "metadata": {},
   "source": [
    "Одинокие задерживают выплаты в 8,5% случаев, семейные в 8%. При этом интересно что люди вступившие в брак более ответственны чем люди в браке не состоявшие 7,5% против 9,5% соответственно."
   ]
  },
  {
   "cell_type": "markdown",
   "metadata": {},
   "source": [
    "- Анализ связи уровня дохода и возврата кредита"
   ]
  },
  {
   "cell_type": "code",
   "execution_count": 93,
   "metadata": {},
   "outputs": [
    {
     "name": "stdout",
     "output_type": "stream",
     "text": [
      "                  debt\n",
      "income_group          \n",
      "high          0.073986\n",
      "low           0.081108\n",
      "Mean          0.081150\n",
      "middle        0.088355\n"
     ]
    }
   ],
   "source": [
    "pivot_income = reliability.pivot_table(\n",
    "    index =['income_group'], \n",
    "    values='debt', \n",
    "    aggfunc=('mean'), \n",
    "    margins=True, \n",
    "    margins_name='Mean')\n",
    "\n",
    "print(pivot_income.sort_values(by='debt'))"
   ]
  },
  {
   "cell_type": "markdown",
   "metadata": {},
   "source": [
    "### Вывод"
   ]
  },
  {
   "cell_type": "markdown",
   "metadata": {},
   "source": [
    "Люди с высоким доходом задерживат выплаты в 7,4% случаев, с низким в 8,1%, со средним в 8,8%."
   ]
  },
  {
   "cell_type": "markdown",
   "metadata": {},
   "source": [
    "- Анализ связи цели кредита и его возврата"
   ]
  },
  {
   "cell_type": "code",
   "execution_count": 94,
   "metadata": {},
   "outputs": [
    {
     "name": "stdout",
     "output_type": "stream",
     "text": [
      "                debt\n",
      "purpose_id          \n",
      "1           0.072334\n",
      "0           0.080034\n",
      "Mean        0.081150\n",
      "3           0.092200\n",
      "2           0.093590\n"
     ]
    }
   ],
   "source": [
    "pivot_purpose = reliability.pivot_table(\n",
    "    index =['purpose_id'], \n",
    "    values='debt', \n",
    "    aggfunc=('mean'), \n",
    "    margins=True, \n",
    "    margins_name='Mean')\n",
    "print(pivot_purpose.sort_values(by='debt'))"
   ]
  },
  {
   "cell_type": "markdown",
   "metadata": {},
   "source": [
    "### Вывод"
   ]
  },
  {
   "cell_type": "markdown",
   "metadata": {},
   "source": [
    "Самые необязательные должники (9,3% и 9,2% задержек выплат) берут кредиты на автомобиль и образование, лучше возвращают кредит после свадьбы (8%) и больше всего дорожат недвижимостью (7,2%)."
   ]
  },
  {
   "cell_type": "markdown",
   "metadata": {},
   "source": [
    "## 5 Общий вывод <a class=\"anchor\" id=\"Five\"></a>"
   ]
  },
  {
   "cell_type": "markdown",
   "metadata": {},
   "source": [
    "### Анализ статистики выданных кредитов показал:\n",
    "1. Средний процент клиентов имевших или имеющих задолженность по кредиту - 8,1%.\n",
    "2. Факт наличия детей у заемщика повышает риск возникновения задолженности. У бездетных должников 7,5% у имеющих детей 9,2%, при среднем значении 8,1%. Вероятно это связанно с тем что наличие детей повышает количество непредвиденных расходов, а также снижает удельный доход на члена семьи.\n",
    "3. Семейное положение тоже влияент на риски возникновения задолженностей. Люди единожды вступавшие в оформленый брак менее склонны к задержкам в выплате кредита. 7,4% против 9,5%. Связь между этим, вероятно, опосредованная, люди готовые к оформлению своих отношений более отвественны и в вопросах связанных с финансами.\n",
    "4. Заемщики с уровнем дохода выше среднего лучше возвращают кредиты (7,3% должников), доля должников с низким уровнем дохода находится на уровне среднего по выборке - 8,1%. Самая высокая доля должников в группе со средним уровнем дохода. Возможно люди со средним достатком склонны переоценивать свои способности к возврату кредита.\n",
    "5. Цель кредита - последняя категория по которой оценивались заемщики. В этой категории лучше всего возвращают долг клиенты преобретающие недвижимость (7,2% должников). Такие покупки, ввиду стоимости и срока кредита, совершаются более обдуманно. Кредит на свадьбу возвращается на среднем уровне - 8%. Хуже всего - кредит на образование (9,2% должников), вероятно из-за того что доходы клиента падают из-за необходимости совмещать работу и учебу, и на покупку автомобиля (9,3%) - возможно из-за большей импульсивности таких покупок, а также связанных с покупкой дополнительных расходов, не учтенных ранее - страховка, доп. опции.\n",
    "\n",
    "В дальнейшем, при анализе рисков невозврата кредита, следует учитывать полученные данные, а также провести аналогичное исследование на новой выборке, для подтверждения полученных результатов.\n",
    "\n"
   ]
  },
  {
   "cell_type": "code",
   "execution_count": null,
   "metadata": {},
   "outputs": [],
   "source": []
  }
 ],
 "metadata": {
  "kernelspec": {
   "display_name": "Python 3",
   "language": "python",
   "name": "python3"
  },
  "language_info": {
   "codemirror_mode": {
    "name": "ipython",
    "version": 3
   },
   "file_extension": ".py",
   "mimetype": "text/x-python",
   "name": "python",
   "nbconvert_exporter": "python",
   "pygments_lexer": "ipython3",
   "version": "3.7.6"
  }
 },
 "nbformat": 4,
 "nbformat_minor": 2
}
