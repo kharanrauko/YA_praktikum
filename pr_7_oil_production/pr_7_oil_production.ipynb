{
 "cells": [
  {
   "cell_type": "markdown",
   "metadata": {},
   "source": [
    "# Описание проекта"
   ]
  },
  {
   "cell_type": "markdown",
   "metadata": {},
   "source": [
    "Вам предоставлены пробы нефти в трёх регионах: в каждом 10 000 месторождений, где измерили качество нефти и объём её запасов. Постройте модель машинного обучения, которая поможет определить регион, где добыча принесёт наибольшую прибыль."
   ]
  },
  {
   "cell_type": "markdown",
   "metadata": {},
   "source": [
    "### Описание данных\n",
    "\n",
    "    id — уникальный идентификатор скважины;\n",
    "    f0, f1, f2 — три признака точек добычи;\n",
    "    product — объём запасов в скважине (тыс. баррелей)."
   ]
  },
  {
   "cell_type": "markdown",
   "metadata": {},
   "source": [
    "# 1. Загрузка и подготовка данных"
   ]
  },
  {
   "cell_type": "code",
   "execution_count": 1,
   "metadata": {},
   "outputs": [],
   "source": [
    "import pandas as pd\n",
    "import numpy as np\n",
    "import matplotlib.pyplot as plt\n",
    "from sklearn.model_selection import train_test_split\n",
    "from sklearn.linear_model import LinearRegression\n",
    "from sklearn.metrics import mean_squared_error\n",
    "from scipy import stats as st"
   ]
  },
  {
   "cell_type": "code",
   "execution_count": 2,
   "metadata": {},
   "outputs": [],
   "source": [
    "#Загружаем датафреймы\n",
    "data_0 = pd.read_csv('geo_data_0.csv')\n",
    "data_1 = pd.read_csv('geo_data_1.csv')\n",
    "data_2 = pd.read_csv('geo_data_2.csv')"
   ]
  },
  {
   "cell_type": "markdown",
   "metadata": {},
   "source": [
    "#### Посмотрим на первые три строчки датафреймов"
   ]
  },
  {
   "cell_type": "code",
   "execution_count": 3,
   "metadata": {},
   "outputs": [
    {
     "data": {
      "text/html": [
       "<div>\n",
       "<style scoped>\n",
       "    .dataframe tbody tr th:only-of-type {\n",
       "        vertical-align: middle;\n",
       "    }\n",
       "\n",
       "    .dataframe tbody tr th {\n",
       "        vertical-align: top;\n",
       "    }\n",
       "\n",
       "    .dataframe thead th {\n",
       "        text-align: right;\n",
       "    }\n",
       "</style>\n",
       "<table border=\"1\" class=\"dataframe\">\n",
       "  <thead>\n",
       "    <tr style=\"text-align: right;\">\n",
       "      <th></th>\n",
       "      <th>id</th>\n",
       "      <th>f0</th>\n",
       "      <th>f1</th>\n",
       "      <th>f2</th>\n",
       "      <th>product</th>\n",
       "    </tr>\n",
       "  </thead>\n",
       "  <tbody>\n",
       "    <tr>\n",
       "      <th>0</th>\n",
       "      <td>txEyH</td>\n",
       "      <td>0.705745</td>\n",
       "      <td>-0.497823</td>\n",
       "      <td>1.221170</td>\n",
       "      <td>105.280062</td>\n",
       "    </tr>\n",
       "    <tr>\n",
       "      <th>1</th>\n",
       "      <td>2acmU</td>\n",
       "      <td>1.334711</td>\n",
       "      <td>-0.340164</td>\n",
       "      <td>4.365080</td>\n",
       "      <td>73.037750</td>\n",
       "    </tr>\n",
       "    <tr>\n",
       "      <th>2</th>\n",
       "      <td>409Wp</td>\n",
       "      <td>1.022732</td>\n",
       "      <td>0.151990</td>\n",
       "      <td>1.419926</td>\n",
       "      <td>85.265647</td>\n",
       "    </tr>\n",
       "  </tbody>\n",
       "</table>\n",
       "</div>"
      ],
      "text/plain": [
       "      id        f0        f1        f2     product\n",
       "0  txEyH  0.705745 -0.497823  1.221170  105.280062\n",
       "1  2acmU  1.334711 -0.340164  4.365080   73.037750\n",
       "2  409Wp  1.022732  0.151990  1.419926   85.265647"
      ]
     },
     "execution_count": 3,
     "metadata": {},
     "output_type": "execute_result"
    }
   ],
   "source": [
    "data_0.head(3)"
   ]
  },
  {
   "cell_type": "code",
   "execution_count": 4,
   "metadata": {},
   "outputs": [
    {
     "data": {
      "text/html": [
       "<div>\n",
       "<style scoped>\n",
       "    .dataframe tbody tr th:only-of-type {\n",
       "        vertical-align: middle;\n",
       "    }\n",
       "\n",
       "    .dataframe tbody tr th {\n",
       "        vertical-align: top;\n",
       "    }\n",
       "\n",
       "    .dataframe thead th {\n",
       "        text-align: right;\n",
       "    }\n",
       "</style>\n",
       "<table border=\"1\" class=\"dataframe\">\n",
       "  <thead>\n",
       "    <tr style=\"text-align: right;\">\n",
       "      <th></th>\n",
       "      <th>id</th>\n",
       "      <th>f0</th>\n",
       "      <th>f1</th>\n",
       "      <th>f2</th>\n",
       "      <th>product</th>\n",
       "    </tr>\n",
       "  </thead>\n",
       "  <tbody>\n",
       "    <tr>\n",
       "      <th>0</th>\n",
       "      <td>kBEdx</td>\n",
       "      <td>-15.001348</td>\n",
       "      <td>-8.276000</td>\n",
       "      <td>-0.005876</td>\n",
       "      <td>3.179103</td>\n",
       "    </tr>\n",
       "    <tr>\n",
       "      <th>1</th>\n",
       "      <td>62mP7</td>\n",
       "      <td>14.272088</td>\n",
       "      <td>-3.475083</td>\n",
       "      <td>0.999183</td>\n",
       "      <td>26.953261</td>\n",
       "    </tr>\n",
       "    <tr>\n",
       "      <th>2</th>\n",
       "      <td>vyE1P</td>\n",
       "      <td>6.263187</td>\n",
       "      <td>-5.948386</td>\n",
       "      <td>5.001160</td>\n",
       "      <td>134.766305</td>\n",
       "    </tr>\n",
       "  </tbody>\n",
       "</table>\n",
       "</div>"
      ],
      "text/plain": [
       "      id         f0        f1        f2     product\n",
       "0  kBEdx -15.001348 -8.276000 -0.005876    3.179103\n",
       "1  62mP7  14.272088 -3.475083  0.999183   26.953261\n",
       "2  vyE1P   6.263187 -5.948386  5.001160  134.766305"
      ]
     },
     "execution_count": 4,
     "metadata": {},
     "output_type": "execute_result"
    }
   ],
   "source": [
    "data_1.head(3)"
   ]
  },
  {
   "cell_type": "code",
   "execution_count": 5,
   "metadata": {},
   "outputs": [
    {
     "data": {
      "text/html": [
       "<div>\n",
       "<style scoped>\n",
       "    .dataframe tbody tr th:only-of-type {\n",
       "        vertical-align: middle;\n",
       "    }\n",
       "\n",
       "    .dataframe tbody tr th {\n",
       "        vertical-align: top;\n",
       "    }\n",
       "\n",
       "    .dataframe thead th {\n",
       "        text-align: right;\n",
       "    }\n",
       "</style>\n",
       "<table border=\"1\" class=\"dataframe\">\n",
       "  <thead>\n",
       "    <tr style=\"text-align: right;\">\n",
       "      <th></th>\n",
       "      <th>id</th>\n",
       "      <th>f0</th>\n",
       "      <th>f1</th>\n",
       "      <th>f2</th>\n",
       "      <th>product</th>\n",
       "    </tr>\n",
       "  </thead>\n",
       "  <tbody>\n",
       "    <tr>\n",
       "      <th>0</th>\n",
       "      <td>fwXo0</td>\n",
       "      <td>-1.146987</td>\n",
       "      <td>0.963328</td>\n",
       "      <td>-0.828965</td>\n",
       "      <td>27.758673</td>\n",
       "    </tr>\n",
       "    <tr>\n",
       "      <th>1</th>\n",
       "      <td>WJtFt</td>\n",
       "      <td>0.262778</td>\n",
       "      <td>0.269839</td>\n",
       "      <td>-2.530187</td>\n",
       "      <td>56.069697</td>\n",
       "    </tr>\n",
       "    <tr>\n",
       "      <th>2</th>\n",
       "      <td>ovLUW</td>\n",
       "      <td>0.194587</td>\n",
       "      <td>0.289035</td>\n",
       "      <td>-5.586433</td>\n",
       "      <td>62.871910</td>\n",
       "    </tr>\n",
       "  </tbody>\n",
       "</table>\n",
       "</div>"
      ],
      "text/plain": [
       "      id        f0        f1        f2    product\n",
       "0  fwXo0 -1.146987  0.963328 -0.828965  27.758673\n",
       "1  WJtFt  0.262778  0.269839 -2.530187  56.069697\n",
       "2  ovLUW  0.194587  0.289035 -5.586433  62.871910"
      ]
     },
     "execution_count": 5,
     "metadata": {},
     "output_type": "execute_result"
    }
   ],
   "source": [
    "data_2.head(3)"
   ]
  },
  {
   "cell_type": "markdown",
   "metadata": {},
   "source": [
    "#### Посмотрим частоты целевого признака"
   ]
  },
  {
   "cell_type": "code",
   "execution_count": 6,
   "metadata": {},
   "outputs": [
    {
     "data": {
      "text/plain": [
       "<matplotlib.axes._subplots.AxesSubplot at 0x1a6c6d7a5c8>"
      ]
     },
     "execution_count": 6,
     "metadata": {},
     "output_type": "execute_result"
    },
    {
     "data": {
      "image/png": "[encoded data removed]",
      "text/plain": [
       "<Figure size 432x288 with 1 Axes>"
      ]
     },
     "metadata": {
      "needs_background": "light"
     },
     "output_type": "display_data"
    }
   ],
   "source": [
    "data_0['product'].hist(bins = 100)"
   ]
  },
  {
   "cell_type": "code",
   "execution_count": 7,
   "metadata": {},
   "outputs": [
    {
     "data": {
      "text/plain": [
       "<matplotlib.axes._subplots.AxesSubplot at 0x1a6c6f71548>"
      ]
     },
     "execution_count": 7,
     "metadata": {},
     "output_type": "execute_result"
    },
    {
     "data": {
      "image/png": "[encoded data removed]",
      "text/plain": [
       "<Figure size 432x288 with 1 Axes>"
      ]
     },
     "metadata": {
      "needs_background": "light"
     },
     "output_type": "display_data"
    }
   ],
   "source": [
    "data_1['product'].hist(bins = 100)"
   ]
  },
  {
   "cell_type": "code",
   "execution_count": 8,
   "metadata": {},
   "outputs": [
    {
     "data": {
      "text/plain": [
       "<matplotlib.axes._subplots.AxesSubplot at 0x1a6c71224c8>"
      ]
     },
     "execution_count": 8,
     "metadata": {},
     "output_type": "execute_result"
    },
    {
     "data": {
      "image/png": "[encoded data removed]",
      "text/plain": [
       "<Figure size 432x288 with 1 Axes>"
      ]
     },
     "metadata": {
      "needs_background": "light"
     },
     "output_type": "display_data"
    }
   ],
   "source": [
    "data_2['product'].hist(bins = 100)"
   ]
  },
  {
   "cell_type": "markdown",
   "metadata": {},
   "source": [
    "#### Посмотрим корреляцию признаков в датафреймах"
   ]
  },
  {
   "cell_type": "code",
   "execution_count": 9,
   "metadata": {},
   "outputs": [
    {
     "name": "stdout",
     "output_type": "stream",
     "text": [
      "               f0        f1        f2   product\n",
      "f0       1.000000 -0.440723 -0.003153  0.143536\n",
      "f1      -0.440723  1.000000  0.001724 -0.192356\n",
      "f2      -0.003153  0.001724  1.000000  0.483663\n",
      "product  0.143536 -0.192356  0.483663  1.000000\n",
      "               f0        f1        f2   product\n",
      "f0       1.000000  0.182287 -0.001777 -0.030491\n",
      "f1       0.182287  1.000000 -0.002595 -0.010155\n",
      "f2      -0.001777 -0.002595  1.000000  0.999397\n",
      "product -0.030491 -0.010155  0.999397  1.000000\n",
      "               f0        f1        f2   product\n",
      "f0       1.000000  0.000528 -0.000448 -0.001987\n",
      "f1       0.000528  1.000000  0.000779 -0.001012\n",
      "f2      -0.000448  0.000779  1.000000  0.445871\n",
      "product -0.001987 -0.001012  0.445871  1.000000\n"
     ]
    }
   ],
   "source": [
    "print(data_0.corr())\n",
    "print(data_1.corr())\n",
    "print(data_2.corr())"
   ]
  },
  {
   "cell_type": "markdown",
   "metadata": {},
   "source": [
    "#### В датафрейме data_1 видна сильная корреляция целевого признака от признака f2."
   ]
  },
  {
   "cell_type": "code",
   "execution_count": 10,
   "metadata": {},
   "outputs": [
    {
     "name": "stdout",
     "output_type": "stream",
     "text": [
      "<class 'pandas.core.frame.DataFrame'>\n",
      "RangeIndex: 100000 entries, 0 to 99999\n",
      "Data columns (total 5 columns):\n",
      "id         100000 non-null object\n",
      "f0         100000 non-null float64\n",
      "f1         100000 non-null float64\n",
      "f2         100000 non-null float64\n",
      "product    100000 non-null float64\n",
      "dtypes: float64(4), object(1)\n",
      "memory usage: 3.8+ MB\n"
     ]
    }
   ],
   "source": [
    "data_0.info()"
   ]
  },
  {
   "cell_type": "code",
   "execution_count": 11,
   "metadata": {},
   "outputs": [
    {
     "name": "stdout",
     "output_type": "stream",
     "text": [
      "<class 'pandas.core.frame.DataFrame'>\n",
      "RangeIndex: 100000 entries, 0 to 99999\n",
      "Data columns (total 5 columns):\n",
      "id         100000 non-null object\n",
      "f0         100000 non-null float64\n",
      "f1         100000 non-null float64\n",
      "f2         100000 non-null float64\n",
      "product    100000 non-null float64\n",
      "dtypes: float64(4), object(1)\n",
      "memory usage: 3.8+ MB\n"
     ]
    }
   ],
   "source": [
    "data_1.info()"
   ]
  },
  {
   "cell_type": "code",
   "execution_count": 12,
   "metadata": {},
   "outputs": [
    {
     "name": "stdout",
     "output_type": "stream",
     "text": [
      "<class 'pandas.core.frame.DataFrame'>\n",
      "RangeIndex: 100000 entries, 0 to 99999\n",
      "Data columns (total 5 columns):\n",
      "id         100000 non-null object\n",
      "f0         100000 non-null float64\n",
      "f1         100000 non-null float64\n",
      "f2         100000 non-null float64\n",
      "product    100000 non-null float64\n",
      "dtypes: float64(4), object(1)\n",
      "memory usage: 3.8+ MB\n"
     ]
    }
   ],
   "source": [
    "data_2.info()"
   ]
  },
  {
   "cell_type": "markdown",
   "metadata": {},
   "source": [
    "#### Во всех датафреймах пропусков не обнаружено"
   ]
  },
  {
   "cell_type": "markdown",
   "metadata": {},
   "source": [
    "## Вывод по шагу 1:\n",
    "    - данные загружены.\n",
    "    - пропусков в данных не обнаружено.\n",
    "    - построены гистограммы частот целевого признака\n",
    "    - в датафрейме data_1 имеется сильная зависимость целевого признака от признака f2"
   ]
  },
  {
   "cell_type": "markdown",
   "metadata": {},
   "source": [
    "# 2. Обучение и проверка модели"
   ]
  },
  {
   "cell_type": "markdown",
   "metadata": {},
   "source": [
    "#### Для выполнения шага 2 используем 2 функция, первая - split_df разделяет выборки на валидационную и тренировочную и разделяет признаки в них, вторая - lin_reg строит модель линейной регрессии и делает предсказания, а также считает заданные метрики"
   ]
  },
  {
   "cell_type": "code",
   "execution_count": 13,
   "metadata": {},
   "outputs": [],
   "source": [
    "def split_df(df):\n",
    "    \"\"\"\n",
    "    Функция разделяет выделяет из датафрейма тренировочную и валидационную выборки, разделенные на признаки и\n",
    "    целевой признак.\n",
    "    \"\"\"\n",
    "    #Разделим признаки и целевой признак\n",
    "    features = df.drop(['id', 'product'], axis=1)\n",
    "    target = df['product']\n",
    "    #Разобьем выборку на тренировочную и валидационную\n",
    "    features_train, features_valid, target_train, target_valid = train_test_split(\n",
    "        features, \n",
    "        target,\n",
    "        test_size=0.25,\n",
    "        random_state=12345)\n",
    "    \n",
    "    return features_train, target_train, features_valid, target_valid"
   ]
  },
  {
   "cell_type": "code",
   "execution_count": 14,
   "metadata": {},
   "outputs": [],
   "source": [
    "def lin_reg(df):\n",
    "    \"\"\"\n",
    "    Функция строит модель линейной регрессии, обучает ее, считает RMSE и среднюю добычу.\n",
    "    На выходе функция дает предсказания и правильные ответы.\n",
    "    \"\"\"\n",
    "    #Разделим данные на выборки функцией split_df()\n",
    "    features_train, target_train, features_valid, target_valid = split_df(df)\n",
    "    #Строим модель\n",
    "    model = LinearRegression()\n",
    "    model.fit(features_train, target_train)\n",
    "    #Сделаем предсказания\n",
    "    prediction = model.predict(features_valid)\n",
    "    prediction = pd.Series(prediction, index=target_valid.index)\n",
    "    #Считаем среднеквадратичную ошибку и средню добычу с региона\n",
    "    mse = mean_squared_error(target_valid, prediction)\n",
    "    rmse = mse ** 0.5\n",
    "    print('RMSE=', rmse)\n",
    "    #target_sum = pd.concat([target_train, target_valid], axis=0)\n",
    "    print('Средний объем сырья в месторождении (по истинным данным), тыс. баррелей -', target_valid.mean())\n",
    "    print('Средний объем сырья в скважине (по предсказанным данным), тыс. баррелей -', prediction.mean())\n",
    "    return prediction, target_valid"
   ]
  },
  {
   "cell_type": "code",
   "execution_count": 15,
   "metadata": {},
   "outputs": [
    {
     "name": "stdout",
     "output_type": "stream",
     "text": [
      "RMSE= 37.5794217150813\n",
      "Средний объем сырья в месторождении (по истинным данным), тыс. баррелей - 92.07859674082941\n",
      "Средний объем сырья в скважине (по предсказанным данным), тыс. баррелей - 92.59256778438008\n"
     ]
    }
   ],
   "source": [
    "predictions_0, answers_0 = lin_reg(data_0)"
   ]
  },
  {
   "cell_type": "code",
   "execution_count": 16,
   "metadata": {},
   "outputs": [
    {
     "name": "stdout",
     "output_type": "stream",
     "text": [
      "RMSE= 0.8930992867756155\n",
      "Средний объем сырья в месторождении (по истинным данным), тыс. баррелей - 68.72313602437494\n",
      "Средний объем сырья в скважине (по предсказанным данным), тыс. баррелей - 68.7285468954458\n"
     ]
    }
   ],
   "source": [
    "predictions_1, answers_1 = lin_reg(data_1)"
   ]
  },
  {
   "cell_type": "code",
   "execution_count": 17,
   "metadata": {},
   "outputs": [
    {
     "name": "stdout",
     "output_type": "stream",
     "text": [
      "RMSE= 40.02970873393434\n",
      "Средний объем сырья в месторождении (по истинным данным), тыс. баррелей - 94.88423280885489\n",
      "Средний объем сырья в скважине (по предсказанным данным), тыс. баррелей - 94.96504596800509\n"
     ]
    }
   ],
   "source": [
    "predictions_2, answers_2 = lin_reg(data_2)"
   ]
  },
  {
   "cell_type": "markdown",
   "metadata": {},
   "source": [
    "## Выводы по шагу 2:\n",
    "    - данные разделены на обучающую и валидационную выборки в соотношении 75:25\n",
    "    - выделен целевой признак\n",
    "    - для каждого региона построена и обучена модель линейной регрессии и сделаны предсказания на валидационной выборке\n",
    "    - для месторождений первого региона модель предсказывает объем сырья с корнем из среднеквадратичной ошибки (RMSE) = 37,5 тыс.баррелей, при среднем объеме 92 тыс. баррелей\n",
    "    - для месторождений второго региона модель предсказывает объем сырья с корнем из среднеквадратичной ошибки (RMSE) = 0,89 тыс.баррелей, при среднем объеме месторождения 68,7 тыс. баррелей\n",
    "    - для месторождений третьего региона модель предсказывает объем сырья с корнем из среднеквадратичной ошибки (RMSE) = 40 тыс.баррелей, при среднем объеме 94.8 тыс. баррелей\n",
    "    - месторождения первого и третьего регионов имеют больший запас сырья, но модель предсказывает объем хуже чем месторождения второго региона. Запасы сырья второго региона, в свою очередь, примерно на треть беднее\n",
    "    - качество предсказаний модели второго решина связана с высокой степенью корреляции признака f2 с целевым признаком, выявленной на шаге 1.\n",
    "    "
   ]
  },
  {
   "cell_type": "markdown",
   "metadata": {},
   "source": [
    "# 3. Подготовка к расчёту прибыли"
   ]
  },
  {
   "cell_type": "code",
   "execution_count": 18,
   "metadata": {},
   "outputs": [],
   "source": [
    "EXPLORING_DOTS = 500         # Количество точек исследования\n",
    "BUDGET = 10 ** 10            # Бюджет на разработку\n",
    "DRILLING_COST = 5 * 10 ** 7  # Стоимость бурения одной скважины\n",
    "BARREL_COST = 4500           # Стоимость барреля сырья\n",
    "RISK_BORDER = 0.025          # Граничное значение риска убытков, выше которого регион не рассматривается"
   ]
  },
  {
   "cell_type": "code",
   "execution_count": 19,
   "metadata": {},
   "outputs": [
    {
     "data": {
      "text/plain": [
       "200"
      ]
     },
     "execution_count": 19,
     "metadata": {},
     "output_type": "execute_result"
    }
   ],
   "source": [
    "# Количество скважин которое можно пробурить с заданным бюджетом\n",
    "well_count = int(BUDGET / DRILLING_COST)\n",
    "well_count"
   ]
  },
  {
   "cell_type": "markdown",
   "metadata": {},
   "source": [
    "#### Исходя из имеющегося бюджета на разработку, в каждом из регионов возможно пробурить не более 200 скважин"
   ]
  },
  {
   "cell_type": "code",
   "execution_count": 20,
   "metadata": {},
   "outputs": [
    {
     "data": {
      "text/plain": [
       "11.11111111111111"
      ]
     },
     "execution_count": 20,
     "metadata": {},
     "output_type": "execute_result"
    }
   ],
   "source": [
    "# Минимальная требуемая емкость месторождения в тыс. баррелей\n",
    "well_capacity = (DRILLING_COST / BARREL_COST) * 0.001\n",
    "well_capacity"
   ]
  },
  {
   "cell_type": "markdown",
   "metadata": {},
   "source": [
    "####  Вывод: Исходя из стоимости бурения и стоимости барреля сырья, для покрытия убытков, связанных с бурением, необходимая емкость сесторождения составляет 11,(1) тыс. баррелей. Месторождения с меньшими запасами будут приносить компании убыток."
   ]
  },
  {
   "cell_type": "code",
   "execution_count": 21,
   "metadata": {},
   "outputs": [],
   "source": [
    "def profit(sample, count=well_count):\n",
    "    \"\"\"\n",
    "    Функция на вход принимает значения отобранных предсказаний и количество объектов.\n",
    "    На выходе функция выдает суммарную прибыль по заданнуму количеству объектов.\n",
    "    count = 200 (default) - количество отбираемых местарождений\n",
    "    \"\"\"\n",
    "    #Отсортируем по убыванию\n",
    "    sample_sorted = sample.sort_values(ascending=False)\n",
    "    #Выбираем count наибольших значений.\n",
    "    best = sample_sorted[:count]\n",
    "    #Возвращаемое значение - суммарный предсказанный объем сырья в 200-х лучших месторождениях, умноженный\n",
    "    #на цену барреля, за вычетом бюджета на разработку.\n",
    "    return (best.sum() * BARREL_COST * 1000 - BUDGET)"
   ]
  },
  {
   "cell_type": "markdown",
   "metadata": {},
   "source": [
    "## Вывод по шагу 3:\n",
    "    - в коде зафиксированы условия задачи\n",
    "    - рассчитано количество скважен, которое возможно пробурить, исходя из бюджета\n",
    "    - рассчитан критерий убыточности месторождения - емкость не должне быть меньше 11,111 тыс. баррелей\n",
    "    - подготовлена функция для расчета прибыли при разработке 200 лучших месторождений из числа 500 исследованных.\n",
    "    "
   ]
  },
  {
   "cell_type": "markdown",
   "metadata": {},
   "source": [
    "# 4. Расчёт прибыли и рисков "
   ]
  },
  {
   "cell_type": "markdown",
   "metadata": {},
   "source": [
    "#### Для расчета рисков используется функция, оценивающая процент потенциально убыточных месторождений (C отрицательной прибылью)"
   ]
  },
  {
   "cell_type": "code",
   "execution_count": 22,
   "metadata": {},
   "outputs": [],
   "source": [
    "def risk(sample):\n",
    "    \"\"\"\n",
    "    Функция расчитывает процент отрицательных значений в выборке\n",
    "    \"\"\"\n",
    "    risk_percent = sample[sample < 0].count()/len(sample)\n",
    "    return risk_percent*100"
   ]
  },
  {
   "cell_type": "markdown",
   "metadata": {},
   "source": [
    "#### Воспользуемся методом bootstrap для анализа прибыли регионов."
   ]
  },
  {
   "cell_type": "code",
   "execution_count": 23,
   "metadata": {},
   "outputs": [],
   "source": [
    "def bootstrap(samples, samples_count=EXPLORING_DOTS, count=well_count):\n",
    "    \"\"\"\n",
    "    Функция проводит расчет средней прибыли от региона добычи и 95%-го доверительного интервала\n",
    "    samples_count = 500 (default) - величина сэмплируемой выборки\n",
    "    count = 200 (default) - количество отобираемых месторождений\n",
    "    \n",
    "    \"\"\"\n",
    "    state = np.random.RandomState(12345)\n",
    "    values = []\n",
    "    \n",
    "    for i in range(1000):\n",
    "        subsample = samples.sample(\n",
    "            n=samples_count, \n",
    "            replace=True, \n",
    "            random_state=state)\n",
    "        \n",
    "        prof = profit(subsample, count)\n",
    "        values.append(prof)\n",
    "     \n",
    "    values = pd.Series(values)\n",
    "    #Оценим риск убытков, если более 2,5% - регион не рассматривается\n",
    "    if risk(values) > (RISK_BORDER * 100):\n",
    "        print('Риск убытков больше граничного значения в 2,5%, регион не рассматривается')\n",
    "        return\n",
    "    \n",
    "    print('Риск убытков составляет {:.2f}'.format(risk(values)))\n",
    "    print()\n",
    "    mean_values = values.mean()    \n",
    "    conf_int_values = st.t.interval(alpha = 0.95, df = (len(values)-1), loc=mean_values, scale=values.sem())\n",
    "    print(\"Средняя прибыль региона - {:.2f} млрд. рублей\".format(mean_values / 10**9))\n",
    "    print()\n",
    "    print(\"95% доверительный интервал - ({:.2f}, {:.2f}), млрд. рублей\"\n",
    "          .format((conf_int_values[0]/10**9), (conf_int_values[1]/10**9)))"
   ]
  },
  {
   "cell_type": "code",
   "execution_count": 24,
   "metadata": {
    "scrolled": true
   },
   "outputs": [
    {
     "name": "stdout",
     "output_type": "stream",
     "text": [
      "Риск убытков составляет 0.00\n",
      "\n",
      "Средняя прибыль региона - 93.58 млрд. рублей\n",
      "\n",
      "95% доверительный интервал - (93.51, 93.65), млрд. рублей\n"
     ]
    }
   ],
   "source": [
    "bootstrap(predictions_0)"
   ]
  },
  {
   "cell_type": "code",
   "execution_count": 25,
   "metadata": {},
   "outputs": [
    {
     "name": "stdout",
     "output_type": "stream",
     "text": [
      "Риск убытков составляет 0.00\n",
      "\n",
      "Средняя прибыль региона - 94.54 млрд. рублей\n",
      "\n",
      "95% доверительный интервал - (94.41, 94.67), млрд. рублей\n"
     ]
    }
   ],
   "source": [
    "bootstrap(predictions_1)"
   ]
  },
  {
   "cell_type": "code",
   "execution_count": 26,
   "metadata": {},
   "outputs": [
    {
     "name": "stdout",
     "output_type": "stream",
     "text": [
      "Риск убытков составляет 0.00\n",
      "\n",
      "Средняя прибыль региона - 92.81 млрд. рублей\n",
      "\n",
      "95% доверительный интервал - (92.75, 92.88), млрд. рублей\n"
     ]
    }
   ],
   "source": [
    "bootstrap(predictions_2)"
   ]
  },
  {
   "cell_type": "markdown",
   "metadata": {},
   "source": [
    "## Вывод по шагу 4:\n",
    "    - написаны функции расчета рисков выборки, региона\n",
    "    - методом bootstrap подготовлены подвыборки (1000 шт) и проведен расчет риска убытков, средней рпибыли от 200 выбранных месторождений региона, 95% доверительный интервал прибыли.\n",
    "    - первый регион имеет риск убытков 0%, среднюю прибыль - 93,58 млрд. рублей и 95% доверительный интервал 93,51 - 93,65 млрд. рублей.\n",
    "    - второй регион имеет риск убытков 0%, среднюю прибыль - 94.54 млрд. рублей и 95% доверительный интервал 94,41 - 94,67 млрд. рублей.\n",
    "    - третий регион имеет риск убытков 0%, средняя прибыль - 92,81 млрд. рублей и 95% доверительный интервал 92,75 - 92,88 млрд. рублей.\n",
    "    "
   ]
  },
  {
   "cell_type": "markdown",
   "metadata": {},
   "source": [
    "## Общий вывод.\n",
    "    1. Проведена подготовка данных к построению моделей.\n",
    "    2. Были построены и обучены модели линейной регрессии для трех регионов добычи.\n",
    "    3. На валидационных выборках были проведены предсказания:\n",
    "        - RMSE модели первого региона составило 37,5 тыс.баррелей, при среднем объеме 92 тыс. баррелей\n",
    "        - RMSE модели второго региона составило 0,89 тыс.баррелей, при среднем объеме месторождения 68,7 тыс. баррелей\n",
    "        - RMSE модели третьего региона составило 40 тыс.баррелей, при среднем объеме 94.8 тыс. баррелей\n",
    "    4. Расчитано количество месторождений, которая компания может разработать исходя из бюджета - 200 шт.\n",
    "    5. Расчитано минимальное объем сырья в месторождении для того чтобы оно не было убыточным - 11,111 тыс. баррелей.\n",
    "    6. Проведен расчет рисков и прыбыли для каждого региона, он показал:\n",
    "        - риск убытков всех регионов меньше заданного значения в 2,5%\n",
    "        - средняя прибыль от месторождений первого региона составляет 93,58 млрд. рублей и 95% доверительный интервал 93,51 - 93,65 млрд. рублей\n",
    "        - средняя прибыль от месторождений второго региона составляет 94.54 млрд. рублей и 95% доверительный интервал 94,41 - 94,67 млрд. рублей\n",
    "        - средняя прибыль от месторождений третьего региона составляет 92,81 млрд. рублей и 95% доверительный интервал 92,75 - 92,88 млрд. рублей\n",
    "    7. Исходня из того что средняя прибыль месторождений второго региона больше средней прибыли месторождений первого и третьего региона, нижняя граница 95%-го доверительного интервала больше верхней границы интервала у первого и третьего регионов, и низких рисков убытков всех трех регионов, для разработки рекомендуются месторождения второго региона.\n",
    "        "
   ]
  }
 ],
 "metadata": {
  "kernelspec": {
   "display_name": "Python 3",
   "language": "python",
   "name": "python3"
  },
  "language_info": {
   "codemirror_mode": {
    "name": "ipython",
    "version": 3
   },
   "file_extension": ".py",
   "mimetype": "text/x-python",
   "name": "python",
   "nbconvert_exporter": "python",
   "pygments_lexer": "ipython3",
   "version": "3.7.6"
  }
 },
 "nbformat": 4,
 "nbformat_minor": 2
}
