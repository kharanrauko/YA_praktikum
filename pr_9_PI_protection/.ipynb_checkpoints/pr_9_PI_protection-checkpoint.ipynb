{
 "cells": [
  {
   "cell_type": "markdown",
   "metadata": {},
   "source": [
    "## Оглавление:\n",
    "* [1 Загрузка данных](#One)\n",
    "* [2 Умножение матриц](#Two)\n",
    "* [3 Алгоритм преобразования](#Three)\n",
    "* [4 Проверка алгоритма](#Four)\n",
    "* [5 Общий вывод](#Five)"
   ]
  },
  {
   "cell_type": "markdown",
   "metadata": {},
   "source": [
    "Вам нужно защитить данные клиентов страховой компании разработайте такой метод преобразования данных, чтобы по ним было сложно восстановить персональную информацию. Обоснуйте корректность его работы.\n",
    "\n",
    "Нужно защитить данные, чтобы при преобразовании качество моделей машинного обучения не ухудшилось."
   ]
  },
  {
   "cell_type": "markdown",
   "metadata": {},
   "source": [
    "## 1 Загрузка данных <a class=\"anchor\" id=\"One\"></a>"
   ]
  },
  {
   "cell_type": "code",
   "execution_count": 1,
   "metadata": {},
   "outputs": [],
   "source": [
    "import pandas as pd\n",
    "import numpy as np\n",
    "from sklearn.metrics import r2_score\n",
    "from sklearn.linear_model import LinearRegression\n",
    "from sklearn.linear_model import LogisticRegression\n",
    "from sklearn.preprocessing import StandardScaler\n",
    "from sklearn.model_selection import train_test_split"
   ]
  },
  {
   "cell_type": "code",
   "execution_count": 2,
   "metadata": {},
   "outputs": [],
   "source": [
    "data = pd.read_csv('insurance.csv')"
   ]
  },
  {
   "cell_type": "code",
   "execution_count": 3,
   "metadata": {},
   "outputs": [
    {
     "name": "stdout",
     "output_type": "stream",
     "text": [
      "<class 'pandas.core.frame.DataFrame'>\n",
      "RangeIndex: 5000 entries, 0 to 4999\n",
      "Data columns (total 5 columns):\n",
      "Пол                  5000 non-null int64\n",
      "Возраст              5000 non-null float64\n",
      "Зарплата             5000 non-null float64\n",
      "Члены семьи          5000 non-null int64\n",
      "Страховые выплаты    5000 non-null int64\n",
      "dtypes: float64(2), int64(3)\n",
      "memory usage: 195.4 KB\n"
     ]
    }
   ],
   "source": [
    "data.info()"
   ]
  },
  {
   "cell_type": "code",
   "execution_count": 4,
   "metadata": {},
   "outputs": [
    {
     "data": {
      "text/html": [
       "<div>\n",
       "<style scoped>\n",
       "    .dataframe tbody tr th:only-of-type {\n",
       "        vertical-align: middle;\n",
       "    }\n",
       "\n",
       "    .dataframe tbody tr th {\n",
       "        vertical-align: top;\n",
       "    }\n",
       "\n",
       "    .dataframe thead th {\n",
       "        text-align: right;\n",
       "    }\n",
       "</style>\n",
       "<table border=\"1\" class=\"dataframe\">\n",
       "  <thead>\n",
       "    <tr style=\"text-align: right;\">\n",
       "      <th></th>\n",
       "      <th>Пол</th>\n",
       "      <th>Возраст</th>\n",
       "      <th>Зарплата</th>\n",
       "      <th>Члены семьи</th>\n",
       "      <th>Страховые выплаты</th>\n",
       "    </tr>\n",
       "  </thead>\n",
       "  <tbody>\n",
       "    <tr>\n",
       "      <th>0</th>\n",
       "      <td>1</td>\n",
       "      <td>41.0</td>\n",
       "      <td>49600.0</td>\n",
       "      <td>1</td>\n",
       "      <td>0</td>\n",
       "    </tr>\n",
       "    <tr>\n",
       "      <th>1</th>\n",
       "      <td>0</td>\n",
       "      <td>46.0</td>\n",
       "      <td>38000.0</td>\n",
       "      <td>1</td>\n",
       "      <td>1</td>\n",
       "    </tr>\n",
       "    <tr>\n",
       "      <th>2</th>\n",
       "      <td>0</td>\n",
       "      <td>29.0</td>\n",
       "      <td>21000.0</td>\n",
       "      <td>0</td>\n",
       "      <td>0</td>\n",
       "    </tr>\n",
       "  </tbody>\n",
       "</table>\n",
       "</div>"
      ],
      "text/plain": [
       "   Пол  Возраст  Зарплата  Члены семьи  Страховые выплаты\n",
       "0    1     41.0   49600.0            1                  0\n",
       "1    0     46.0   38000.0            1                  1\n",
       "2    0     29.0   21000.0            0                  0"
      ]
     },
     "execution_count": 4,
     "metadata": {},
     "output_type": "execute_result"
    }
   ],
   "source": [
    "data.head(3)"
   ]
  },
  {
   "cell_type": "code",
   "execution_count": 5,
   "metadata": {},
   "outputs": [],
   "source": [
    "def first_view(df):\n",
    "    \"\"\"\n",
    "    Функция проходится по столбцам df и считает количество пропущенных, нулевых и отрицательных значений\n",
    "    \"\"\"\n",
    "    for column in df.columns:\n",
    "        na = df[column].isna().sum()\n",
    "        #В столбцах могут быть текстовые значения, поэтому используем try except\n",
    "        try: \n",
    "            zero = df[df[column] == 0][column].count()\n",
    "            negative = df[df[column] < 0][column].count()\n",
    "        except TypeError:\n",
    "            zero = 0\n",
    "            negative = 0\n",
    "            \n",
    "        \n",
    "        if na>0 or zero>0 or negative>0:\n",
    "            print('********В столбце', column, 'обнаружено: ********')\n",
    "        if na > 0:\n",
    "            print(na, 'пропущеных значений')\n",
    "            print()\n",
    "        if zero > 0:\n",
    "            print(zero, 'нулевых значений.')\n",
    "            print()\n",
    "        if negative >0:\n",
    "            print(negative, 'отрицательных значений')\n",
    "            print()"
   ]
  },
  {
   "cell_type": "code",
   "execution_count": 6,
   "metadata": {},
   "outputs": [
    {
     "name": "stdout",
     "output_type": "stream",
     "text": [
      "********В столбце Пол обнаружено: ********\n",
      "2505 нулевых значений.\n",
      "\n",
      "********В столбце Члены семьи обнаружено: ********\n",
      "1513 нулевых значений.\n",
      "\n",
      "********В столбце Страховые выплаты обнаружено: ********\n",
      "4436 нулевых значений.\n",
      "\n"
     ]
    }
   ],
   "source": [
    "first_view(data)"
   ]
  },
  {
   "cell_type": "code",
   "execution_count": 7,
   "metadata": {},
   "outputs": [
    {
     "data": {
      "text/plain": [
       "array([0, 1, 2, 3, 5, 4], dtype=int64)"
      ]
     },
     "execution_count": 7,
     "metadata": {},
     "output_type": "execute_result"
    }
   ],
   "source": [
    "data['Страховые выплаты'].unique()"
   ]
  },
  {
   "cell_type": "markdown",
   "metadata": {},
   "source": [
    "#### Вывод по шагу 1:\n",
    "    - данные загружены\n",
    "    - пропуски в данных отсутствуют\n",
    "    - выбивающихся значений признаков нет"
   ]
  },
  {
   "cell_type": "markdown",
   "metadata": {},
   "source": [
    "## 2 Умножение матриц <a class=\"anchor\" id=\"Two\"></a>"
   ]
  },
  {
   "cell_type": "markdown",
   "metadata": {},
   "source": [
    "Обозначения:\n",
    "\n",
    "- $X$ — матрица признаков (нулевой столбец состоит из единиц)\n",
    "\n",
    "- $y$ — вектор целевого признака\n",
    "\n",
    "- $P$ — матрица, на которую умножаются признаки\n",
    "\n",
    "- $w$ — вектор весов линейной регрессии (нулевой элемент равен сдвигу)"
   ]
  },
  {
   "cell_type": "markdown",
   "metadata": {},
   "source": [
    "Предсказания:\n",
    "\n",
    "$$\n",
    "a = Xw\n",
    "$$\n",
    "\n",
    "Задача обучения:\n",
    "\n",
    "$$\n",
    "w = \\arg\\min_w MSE(Xw, y)\n",
    "$$\n",
    "\n",
    "Формула обучения:\n",
    "\n",
    "$$\n",
    "w = (X^T X)^{-1} X^T y\n",
    "$$"
   ]
  },
  {
   "cell_type": "markdown",
   "metadata": {},
   "source": [
    "**Ответ:** При умножениии матрицы признаков на обратимую матрицу предсказания **не изменятся**.\n",
    "\n",
    "**Обоснование:** Умножим матрицу признаков на обратимую матрицу и запишем формулу обучения:\n",
    "\n",
    "$$\n",
    "w = ((XP)^T XP)^{-1} (XP)^T y\n",
    "$$\n",
    "\n",
    "Для вычисления предсказаний умножим матрицу весов на измененную матрицу признаков\n",
    "\n",
    "$$\n",
    "a = XPw\n",
    "$$\n",
    "$$\n",
    "a = XP((XP)^T XP)^{-1} (XP)^T y = X P(P^T X^T XP)^{-1} P^T X^T y =  \n",
    "$$\n",
    "$$\n",
    "XP P^{-1} (X^T X)^{-1} (P^T)^{-1} P^T X^T y = XP P^{-1}w\n",
    "$$\n",
    "\n",
    "\n",
    "$$\n",
    "X (X^T X)^{-1} X^T y\n",
    "$$\n",
    "\n",
    "Матрица весов линейной регрессии для измененных данных принимает вид:\n",
    "$$\n",
    "w_{преобразованная} = P^{-1}w\n",
    "$$\n",
    "\n",
    "Умножение каждого вектора признаков на одинаковую обратимую матрицу есть перевод вектора в новый базис, при этом меняется точка отсчета, но не положение вершины вектора в пространстве. При этом если вектор весов определяет гиперплоскость, проходящую с минимальным MSE (наиболее близко) к вершинам векторов признаков, то изменятся только координаты вектора весов в новом базисе а положение в пространстве будут неизменны, следовательно и предсказания модели на признаках в новом базисе будут неизменны.\n",
    "\n",
    "**Вывод:** умножение матрицы преобразоания приводит к тому что меняются значения признаков и матрица весов линейной регрессии, но при их перемножении во время предсказаний матрица преобразования сокращается."
   ]
  },
  {
   "cell_type": "markdown",
   "metadata": {},
   "source": [
    "## 3 Алгоритм преобразования <a class=\"anchor\" id=\"Three\"></a>"
   ]
  },
  {
   "cell_type": "markdown",
   "metadata": {},
   "source": [
    "**Алгоритм**\n",
    "\n",
    "    1. Выделяем целевые признаки и целевой признак.\n",
    "    2. Разделяем выборку на тренировочную и тестовую.\n",
    "    3. Определяем численные признаки для скалирования.\n",
    "    4. Преобразуем признаки тренировочной и тестовой выборок в массивы NumPy.\n",
    "    5. Генерируем случайную квадратную матрицу преобразований размером равным количеству признаков.\n",
    "    6. Проводим проверку обратимости полученной матрицы вычислением ее определителя.\n",
    "    7. Если определитель не равен нулю:\n",
    "        7.1. Умножаем матрицы признаков тренировочной и тестовой выборок на матрицу преобразований.\n",
    "        7.2. Проводим скалирование матрицы признаков тренировочной и тестовой выборок.\n",
    "        7.3. Обучаем модель на тренировочной выборке и получаем предсказания на тестовой.    \n",
    "    8. Если определитель равен нулю - генерируем новую матрицу преобразований и переходим на п.6."
   ]
  },
  {
   "cell_type": "markdown",
   "metadata": {},
   "source": [
    "**Обоснование**\n",
    "\n",
    "Качество линейной регрессии не поменяется потому, что, как указано в п.2 матрица весов линейной регрессии, обученной на преобразованных данных равноа:\n",
    "$$\n",
    "w_{преобразованная} = P^{-1}w\n",
    "$$\n",
    "\n",
    "Предсказания получаются умножением матрицы весов на измененныую матрицы признаков тестовых данных\n",
    "\n",
    "$$\n",
    "a_{преобразованная} = X_{преобразованная}w_{преобразованная} = (X P) (P^{-1}w) = X w = a_{исходная}\n",
    "$$\n",
    "\n"
   ]
  },
  {
   "cell_type": "markdown",
   "metadata": {},
   "source": [
    "## 4 Проверка алгоритма <a class=\"anchor\" id=\"Four\"></a>"
   ]
  },
  {
   "cell_type": "markdown",
   "metadata": {},
   "source": [
    "#### Выделим признаки и целевой признак"
   ]
  },
  {
   "cell_type": "code",
   "execution_count": 8,
   "metadata": {},
   "outputs": [],
   "source": [
    "features = data.drop('Страховые выплаты', axis = 1)\n",
    "target = data['Страховые выплаты']"
   ]
  },
  {
   "cell_type": "markdown",
   "metadata": {},
   "source": [
    "#### Разобъем выборку на тренировочную и тестовую"
   ]
  },
  {
   "cell_type": "code",
   "execution_count": 9,
   "metadata": {},
   "outputs": [],
   "source": [
    "features_train, features_test, target_train, target_test = train_test_split(\n",
    "    features, target, test_size=0.3, random_state=12345)"
   ]
  },
  {
   "cell_type": "markdown",
   "metadata": {},
   "source": [
    "#### Выделим числовые признаки для скалирования"
   ]
  },
  {
   "cell_type": "code",
   "execution_count": 10,
   "metadata": {},
   "outputs": [
    {
     "data": {
      "text/plain": [
       "Index(['Возраст', 'Зарплата', 'Члены семьи'], dtype='object')"
      ]
     },
     "execution_count": 10,
     "metadata": {},
     "output_type": "execute_result"
    }
   ],
   "source": [
    "numeric = features.drop('Пол', axis=1).columns\n",
    "numeric"
   ]
  },
  {
   "cell_type": "code",
   "execution_count": 11,
   "metadata": {},
   "outputs": [],
   "source": [
    "def linreg(X_train , X_test, y_train, y_test):\n",
    "    \"\"\"\n",
    "    Функция проводит скалирование признаков, обучает модель линейной регрессии\n",
    "    и проводит предсказания на тествоой выборке.\n",
    "    На выходе получаем величину R2_score\n",
    "    \"\"\"\n",
    "    #Проведем скалирование числовых признаков\n",
    "    scaler = StandardScaler()\n",
    "    scaler.fit(X_train.loc[:,numeric])\n",
    "    X_train.loc[:,numeric] = scaler.transform(X_train.loc[:,numeric])\n",
    "    X_test.loc[:,numeric] = scaler.transform(X_test.loc[:,numeric])\n",
    "    \n",
    "    #Обучаем модель линейной регрессии\n",
    "    model = LinearRegression()\n",
    "    model.fit(X_train, y_train)\n",
    "    predict = model.predict(X_test)\n",
    "    return r2_score(y_test, predict)"
   ]
  },
  {
   "cell_type": "markdown",
   "metadata": {},
   "source": [
    "#### Построим модель линейной регрессии на исходных данных и посчитаем R2"
   ]
  },
  {
   "cell_type": "code",
   "execution_count": 12,
   "metadata": {},
   "outputs": [
    {
     "name": "stderr",
     "output_type": "stream",
     "text": [
      "C:\\Users\\bvfrc\\Anaconda3\\lib\\site-packages\\pandas\\core\\indexing.py:494: SettingWithCopyWarning: \n",
      "A value is trying to be set on a copy of a slice from a DataFrame.\n",
      "Try using .loc[row_indexer,col_indexer] = value instead\n",
      "\n",
      "See the caveats in the documentation: http://pandas.pydata.org/pandas-docs/stable/user_guide/indexing.html#returning-a-view-versus-a-copy\n",
      "  self.obj[item] = s\n",
      "C:\\Users\\bvfrc\\Anaconda3\\lib\\site-packages\\pandas\\core\\indexing.py:494: SettingWithCopyWarning: \n",
      "A value is trying to be set on a copy of a slice from a DataFrame.\n",
      "Try using .loc[row_indexer,col_indexer] = value instead\n",
      "\n",
      "See the caveats in the documentation: http://pandas.pydata.org/pandas-docs/stable/user_guide/indexing.html#returning-a-view-versus-a-copy\n",
      "  self.obj[item] = s\n"
     ]
    },
    {
     "data": {
      "text/plain": [
       "0.4305278542485148"
      ]
     },
     "execution_count": 12,
     "metadata": {},
     "output_type": "execute_result"
    }
   ],
   "source": [
    "R2_before = linreg(features_train, features_test, target_train, target_test)\n",
    "R2_before"
   ]
  },
  {
   "cell_type": "markdown",
   "metadata": {},
   "source": [
    "#### Преобразуем признаки тренировочной и тестовых выборок в массивы NumPy"
   ]
  },
  {
   "cell_type": "code",
   "execution_count": 13,
   "metadata": {},
   "outputs": [
    {
     "name": "stdout",
     "output_type": "stream",
     "text": [
      "[[ 0.         -0.23862317 -1.98861705 -1.08239912]\n",
      " [ 0.          0.70548434 -0.26239699  0.75707499]\n",
      " [ 0.          0.35144402 -0.7671397   0.75707499]\n",
      " ...\n",
      " [ 1.          1.17753809  0.48462222 -0.16266207]\n",
      " [ 0.         -1.06471724  1.02974435  2.5965491 ]\n",
      " [ 0.         -1.41875756  0.09092291 -1.08239912]]\n",
      "[[ 0.00000000e+00  2.33430582e-01 -9.07844658e-02  2.59654910e+00]\n",
      " [ 0.00000000e+00  2.23965904e+00  3.23104556e-01  7.57074988e-01]\n",
      " [ 1.00000000e+00  9.41511213e-01  2.22156014e-01 -1.08239912e+00]\n",
      " ...\n",
      " [ 1.00000000e+00 -5.92663489e-01  2.62535431e-01 -1.08239912e+00]\n",
      " [ 0.00000000e+00 -2.59629565e-03  2.82725139e-01  2.59654910e+00]\n",
      " [ 1.00000000e+00  9.41511213e-01 -1.41258737e-01 -1.62662068e-01]]\n"
     ]
    }
   ],
   "source": [
    "X_train, X_test = features_train.values, features_test.values\n",
    "print(X_train)\n",
    "print(X_test)"
   ]
  },
  {
   "cell_type": "code",
   "execution_count": 14,
   "metadata": {},
   "outputs": [],
   "source": [
    "def random_matrix(X_train, X_test, count = 100):\n",
    "    \"\"\"\n",
    "    Функция генерирует случайную квадратную матрицу размера равного количеству признаков\n",
    "    Умножает её на матрицу признаков, обучает модель линейной регрессии на преобразованных данных и \n",
    "    считает для них метрику R2.\n",
    "    На выходе получаем значение метрики и матрицу преобразования\n",
    "    \"\"\"\n",
    "    n = X_train.shape[1]\n",
    "    A = np.random.RandomState().randint(100, size=(n, n))\n",
    "    flag = 0\n",
    "    while flag == 0:\n",
    "        if np.linalg.det(A) != 0:\n",
    "            A_train = X_train @ A\n",
    "            A_test = X_test @ A\n",
    "            A_train = pd.DataFrame(A_train, index = features_train.index, columns = features_train.columns)\n",
    "            A_test = pd.DataFrame(A_test, index = features_test.index, columns = features_test.columns)\n",
    "            r2 = linreg(A_train, A_test, target_train, target_test)\n",
    "            flag = 1\n",
    "            print('Матрица преобразований:')\n",
    "            print(A)\n",
    "            print('Значение метрики R2 равно:', r2)\n",
    "            \n",
    "    return r2, A"
   ]
  },
  {
   "cell_type": "code",
   "execution_count": 15,
   "metadata": {},
   "outputs": [
    {
     "name": "stdout",
     "output_type": "stream",
     "text": [
      "Матрица преобразований:\n",
      "[[ 9 91 94 66]\n",
      " [30 86 23 87]\n",
      " [93 24 77 77]\n",
      " [12 56 52 54]]\n",
      "Значение метрики R2 равно: 0.4305278542485147\n"
     ]
    }
   ],
   "source": [
    "R2_after = random_matrix(X_train, X_test)[0]"
   ]
  },
  {
   "cell_type": "markdown",
   "metadata": {},
   "source": [
    "#### Посчитаем разницу между метриками преобразованной и исходной матриц"
   ]
  },
  {
   "cell_type": "code",
   "execution_count": 16,
   "metadata": {
    "scrolled": true
   },
   "outputs": [
    {
     "data": {
      "text/plain": [
       "1.1102230246251565e-16"
      ]
     },
     "execution_count": 16,
     "metadata": {},
     "output_type": "execute_result"
    }
   ],
   "source": [
    "R2_before - R2_after"
   ]
  },
  {
   "cell_type": "markdown",
   "metadata": {},
   "source": [
    "## 5 Общий вывод  <a class=\"anchor\" id=\"Five\"></a>\n",
    "Значения матрик R2 для моделей обученных на исходных и преобразованных данных практически не отличаются"
   ]
  },
  {
   "cell_type": "code",
   "execution_count": null,
   "metadata": {},
   "outputs": [],
   "source": []
  }
 ],
 "metadata": {
  "kernelspec": {
   "display_name": "Python 3",
   "language": "python",
   "name": "python3"
  },
  "language_info": {
   "codemirror_mode": {
    "name": "ipython",
    "version": 3
   },
   "file_extension": ".py",
   "mimetype": "text/x-python",
   "name": "python",
   "nbconvert_exporter": "python",
   "pygments_lexer": "ipython3",
   "version": "3.7.6"
  }
 },
 "nbformat": 4,
 "nbformat_minor": 2
}
