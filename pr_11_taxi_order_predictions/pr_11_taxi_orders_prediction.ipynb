{
 "cells": [
  {
   "cell_type": "markdown",
   "metadata": {},
   "source": [
    "## Описание проекта\n",
    "\n",
    "Нужно спрогнозировать количество заказов такси на следующий час. \n",
    "\n",
    "Значение метрики *RMSE* не больше 48.\n",
    "\n",
    "Количество заказов находится в столбце '*num_orders*'."
   ]
  },
  {
   "cell_type": "markdown",
   "metadata": {},
   "source": [
    "# 1. Подготовка"
   ]
  },
  {
   "cell_type": "code",
   "execution_count": 50,
   "metadata": {},
   "outputs": [],
   "source": [
    "import pandas as pd\n",
    "import numpy as np\n",
    "from statsmodels.tsa.seasonal import seasonal_decompose\n",
    "import matplotlib.pyplot as plt\n",
    "from sklearn.ensemble import RandomForestRegressor\n",
    "from sklearn.model_selection import train_test_split\n",
    "from sklearn.linear_model import LinearRegression\n",
    "from sklearn.metrics import mean_squared_error\n",
    "from sklearn.model_selection import cross_val_score\n",
    "from sklearn.model_selection import GridSearchCV\n",
    "from sklearn.ensemble import BaggingRegressor\n",
    "from sklearn.tree import DecisionTreeRegressor"
   ]
  },
  {
   "cell_type": "markdown",
   "metadata": {},
   "source": [
    "#### Загрузка данных. Индексация по столбцу datetime. "
   ]
  },
  {
   "cell_type": "code",
   "execution_count": 51,
   "metadata": {},
   "outputs": [],
   "source": [
    "data = pd.read_csv('taxi.csv', index_col='datetime', parse_dates=[0])"
   ]
  },
  {
   "cell_type": "code",
   "execution_count": 52,
   "metadata": {},
   "outputs": [
    {
     "name": "stdout",
     "output_type": "stream",
     "text": [
      "<class 'pandas.core.frame.DataFrame'>\n",
      "DatetimeIndex: 26496 entries, 2018-03-01 00:00:00 to 2018-08-31 23:50:00\n",
      "Data columns (total 1 columns):\n",
      "num_orders    26496 non-null int64\n",
      "dtypes: int64(1)\n",
      "memory usage: 414.0 KB\n"
     ]
    }
   ],
   "source": [
    "data.info()"
   ]
  },
  {
   "cell_type": "code",
   "execution_count": 53,
   "metadata": {},
   "outputs": [
    {
     "data": {
      "text/html": [
       "<div>\n",
       "<style scoped>\n",
       "    .dataframe tbody tr th:only-of-type {\n",
       "        vertical-align: middle;\n",
       "    }\n",
       "\n",
       "    .dataframe tbody tr th {\n",
       "        vertical-align: top;\n",
       "    }\n",
       "\n",
       "    .dataframe thead th {\n",
       "        text-align: right;\n",
       "    }\n",
       "</style>\n",
       "<table border=\"1\" class=\"dataframe\">\n",
       "  <thead>\n",
       "    <tr style=\"text-align: right;\">\n",
       "      <th></th>\n",
       "      <th>num_orders</th>\n",
       "    </tr>\n",
       "    <tr>\n",
       "      <th>datetime</th>\n",
       "      <th></th>\n",
       "    </tr>\n",
       "  </thead>\n",
       "  <tbody>\n",
       "    <tr>\n",
       "      <th>2018-03-01 00:00:00</th>\n",
       "      <td>9</td>\n",
       "    </tr>\n",
       "    <tr>\n",
       "      <th>2018-03-01 00:10:00</th>\n",
       "      <td>14</td>\n",
       "    </tr>\n",
       "    <tr>\n",
       "      <th>2018-03-01 00:20:00</th>\n",
       "      <td>28</td>\n",
       "    </tr>\n",
       "    <tr>\n",
       "      <th>2018-03-01 00:30:00</th>\n",
       "      <td>20</td>\n",
       "    </tr>\n",
       "    <tr>\n",
       "      <th>2018-03-01 00:40:00</th>\n",
       "      <td>32</td>\n",
       "    </tr>\n",
       "  </tbody>\n",
       "</table>\n",
       "</div>"
      ],
      "text/plain": [
       "                     num_orders\n",
       "datetime                       \n",
       "2018-03-01 00:00:00           9\n",
       "2018-03-01 00:10:00          14\n",
       "2018-03-01 00:20:00          28\n",
       "2018-03-01 00:30:00          20\n",
       "2018-03-01 00:40:00          32"
      ]
     },
     "execution_count": 53,
     "metadata": {},
     "output_type": "execute_result"
    }
   ],
   "source": [
    "data.head(5)"
   ]
  },
  {
   "cell_type": "markdown",
   "metadata": {},
   "source": [
    "#### Сортировка временных индексов и ресемплирование по одному часу."
   ]
  },
  {
   "cell_type": "code",
   "execution_count": 54,
   "metadata": {},
   "outputs": [],
   "source": [
    "data.sort_index(inplace=True)\n",
    "data = data.resample('1H').sum()"
   ]
  },
  {
   "cell_type": "code",
   "execution_count": 55,
   "metadata": {},
   "outputs": [
    {
     "data": {
      "text/html": [
       "<div>\n",
       "<style scoped>\n",
       "    .dataframe tbody tr th:only-of-type {\n",
       "        vertical-align: middle;\n",
       "    }\n",
       "\n",
       "    .dataframe tbody tr th {\n",
       "        vertical-align: top;\n",
       "    }\n",
       "\n",
       "    .dataframe thead th {\n",
       "        text-align: right;\n",
       "    }\n",
       "</style>\n",
       "<table border=\"1\" class=\"dataframe\">\n",
       "  <thead>\n",
       "    <tr style=\"text-align: right;\">\n",
       "      <th></th>\n",
       "      <th>num_orders</th>\n",
       "    </tr>\n",
       "    <tr>\n",
       "      <th>datetime</th>\n",
       "      <th></th>\n",
       "    </tr>\n",
       "  </thead>\n",
       "  <tbody>\n",
       "    <tr>\n",
       "      <th>2018-03-01 00:00:00</th>\n",
       "      <td>124</td>\n",
       "    </tr>\n",
       "    <tr>\n",
       "      <th>2018-03-01 01:00:00</th>\n",
       "      <td>85</td>\n",
       "    </tr>\n",
       "    <tr>\n",
       "      <th>2018-03-01 02:00:00</th>\n",
       "      <td>71</td>\n",
       "    </tr>\n",
       "    <tr>\n",
       "      <th>2018-03-01 03:00:00</th>\n",
       "      <td>66</td>\n",
       "    </tr>\n",
       "    <tr>\n",
       "      <th>2018-03-01 04:00:00</th>\n",
       "      <td>43</td>\n",
       "    </tr>\n",
       "  </tbody>\n",
       "</table>\n",
       "</div>"
      ],
      "text/plain": [
       "                     num_orders\n",
       "datetime                       \n",
       "2018-03-01 00:00:00         124\n",
       "2018-03-01 01:00:00          85\n",
       "2018-03-01 02:00:00          71\n",
       "2018-03-01 03:00:00          66\n",
       "2018-03-01 04:00:00          43"
      ]
     },
     "execution_count": 55,
     "metadata": {},
     "output_type": "execute_result"
    }
   ],
   "source": [
    "data.head(5)"
   ]
  },
  {
   "cell_type": "code",
   "execution_count": 56,
   "metadata": {},
   "outputs": [
    {
     "name": "stdout",
     "output_type": "stream",
     "text": [
      "<class 'pandas.core.frame.DataFrame'>\n",
      "DatetimeIndex: 4416 entries, 2018-03-01 00:00:00 to 2018-08-31 23:00:00\n",
      "Freq: H\n",
      "Data columns (total 1 columns):\n",
      "num_orders    4416 non-null int64\n",
      "dtypes: int64(1)\n",
      "memory usage: 69.0 KB\n"
     ]
    }
   ],
   "source": [
    "data.info()"
   ]
  },
  {
   "cell_type": "markdown",
   "metadata": {},
   "source": [
    "# 2. Анализ"
   ]
  },
  {
   "cell_type": "markdown",
   "metadata": {},
   "source": [
    "#### График распределения заказов по часам."
   ]
  },
  {
   "cell_type": "code",
   "execution_count": 57,
   "metadata": {},
   "outputs": [
    {
     "data": {
      "text/plain": [
       "<matplotlib.axes._subplots.AxesSubplot at 0x238fb956308>"
      ]
     },
     "execution_count": 57,
     "metadata": {},
     "output_type": "execute_result"
    },
    {
     "data": {
      "image/png": "[encoded data removed]",
      "text/plain": [
       "<Figure size 576x432 with 1 Axes>"
      ]
     },
     "metadata": {
      "needs_background": "light"
     },
     "output_type": "display_data"
    }
   ],
   "source": [
    "data.plot(figsize=(8,6))"
   ]
  },
  {
   "cell_type": "markdown",
   "metadata": {},
   "source": [
    "#### Процесс нестационарный, так как заметно изменение его среднего значения. Среднее количество заказов растет."
   ]
  },
  {
   "cell_type": "markdown",
   "metadata": {},
   "source": [
    "#### Оценка сезонных факторов (общая и всрезе двух дней), трендов и шумов"
   ]
  },
  {
   "cell_type": "code",
   "execution_count": 58,
   "metadata": {},
   "outputs": [],
   "source": [
    "def decomp(data):\n",
    "    \"\"\"\n",
    "    Функция проводит декомпозицию заанного датасета и строит графики тренда, сезонности и шумов\n",
    "    \"\"\"\n",
    "    decomposed = seasonal_decompose(data)\n",
    "    plt.figure(figsize=(6, 10))\n",
    "\n",
    "    plt.subplot(411)\n",
    "    decomposed.trend.plot(ax=plt.gca())\n",
    "    plt.title('Trend')\n",
    "\n",
    "    plt.subplot(412)\n",
    "    decomposed.seasonal.plot(ax=plt.gca())\n",
    "    plt.title('Seasonality')\n",
    "\n",
    "    plt.subplot(413)\n",
    "    decomposed.seasonal['2018-03-10':'2018-03-11'].plot(ax=plt.gca())\n",
    "    plt.title('2-days Seasonality')\n",
    "\n",
    "    plt.subplot(414)\n",
    "    decomposed.resid.plot(ax=plt.gca())\n",
    "    plt.title('Residuals')\n",
    "\n",
    "    plt.tight_layout()"
   ]
  },
  {
   "cell_type": "code",
   "execution_count": 59,
   "metadata": {},
   "outputs": [
    {
     "data": {
      "image/png": "[encoded data removed]",
      "text/plain": [
       "<Figure size 432x720 with 4 Axes>"
      ]
     },
     "metadata": {
      "needs_background": "light"
     },
     "output_type": "display_data"
    }
   ],
   "source": [
    "decomp(data)"
   ]
  },
  {
   "cell_type": "markdown",
   "metadata": {},
   "source": [
    "## Выводы:\n",
    "    1. Заданный процесс - стахостический нестационарный. \n",
    "    2. График тренда показывает трехкратный рост количества заказов с марта по сентябрь.\n",
    "    3. Сезонность, связанная, видимо, со временем суток, в который совершались заказы - стационарна, минимальное количество заказов приходится на 6 утра, максимум - в вечерние часы 22-23.\n",
    "    4. Шумы практически стационарны, и нарастают к концу временного периода. Возможно это негативно скажется на результатах предсказаний, так как в тестовую выборку войдет как раз последние 10% датасета."
   ]
  },
  {
   "cell_type": "markdown",
   "metadata": {},
   "source": [
    "# 3. Обучение"
   ]
  },
  {
   "cell_type": "markdown",
   "metadata": {},
   "source": [
    "#### Добавление признаков в датасет."
   ]
  },
  {
   "cell_type": "code",
   "execution_count": 67,
   "metadata": {},
   "outputs": [],
   "source": [
    "def make_features(data, max_lag, rolling_size):\n",
    "    \"\"\"\n",
    "    Функция добавляет признаки в датасет:\n",
    "    - календарные: день, день недели;\n",
    "    - отстающие значения(предыдущее, а также значение заказов в то же время каждого дня прошедшей недели плюс-минус 1 час;\n",
    "    - скользящее среднее (смещение при этом равно 24-м часам)\n",
    "    \"\"\"\n",
    "    data_temp = data.copy()\n",
    "    data_temp['day'] = data.index.day\n",
    "    data_temp['dayofweek'] = data.index.dayofweek\n",
    "    \n",
    "    \n",
    "    data_temp['lag_1'] = data['num_orders'].shift()\n",
    "    for lag in range(24, max_lag+1, 24):\n",
    "        data_temp['lag_{}'.format(lag-1)] = data['num_orders'].shift(lag-1)\n",
    "        data_temp['lag_{}'.format(lag+1)] = data['num_orders'].shift(lag+1)\n",
    "        data_temp['lag_{}'.format(lag)] = data['num_orders'].shift(lag)\n",
    "\n",
    "    data_temp['rolling_mean'] = data['num_orders'].shift(24).rolling(rolling_size).mean()\n",
    "    data_temp = data_temp.dropna()\n",
    "    return data_temp"
   ]
  },
  {
   "cell_type": "markdown",
   "metadata": {},
   "source": [
    "#### Оставлен за скобками подбор размера смещения отстающих признаков. \n",
    "Перебор проходил по наименьшему значению RMSE линейной регрессии. Подбор показал, что:\n",
    "    1. Календарный признак \"месяц\" негативно (хоть и не значительно) влияет на предсказания. \n",
    "    2. Наилучшие предсказания, при поочередном добавлении отстающих значений, при знчении max_lag = 168. \n",
    "    3. Не все отстающие значения положительно сказывались на предсказаниях. Лучший результат показало добавление первого отстающего значения и значений целевого признака в каждый из предыдущих дней за 7 прошедших дней плюс-минус один час.\n",
    "    4. При подборе размера окна скользящего среднего наилучший результат показало смещение в 24 часа.\n",
    "    5. Большее влияние на качество предсказаний оказывают отстающие значения, календарные признаки и скользящее среднее улучшают RMSE незначительно"
   ]
  },
  {
   "cell_type": "markdown",
   "metadata": {},
   "source": [
    "#### Разделение датасета на тренировочную и тестовую выборки"
   ]
  },
  {
   "cell_type": "code",
   "execution_count": 68,
   "metadata": {},
   "outputs": [],
   "source": [
    "def split_data(data, return_train_valid = False):\n",
    "    \"\"\"\n",
    "    Функция разделяет датасет на выборки тренировочную, валидационную и тестовую. \n",
    "    С параметром return_train_valid = False (default), возвращает тренировочную и валидационную.\n",
    "    С параметром return_train_valid = True, возвращает тестовую и суммарную тренировочно-валидационную.\n",
    "    \"\"\"\n",
    "    train_valid, test = train_test_split(\n",
    "        data, \n",
    "        shuffle=False, \n",
    "        test_size=0.1)\n",
    "    \n",
    "    train_valid = train_valid.dropna()\n",
    "    train, valid = train_test_split(\n",
    "        train_valid, \n",
    "        shuffle=False, \n",
    "        test_size=0.1)\n",
    "    \n",
    "    if return_train_valid:\n",
    "        return train_valid, test\n",
    "    return train, valid"
   ]
  },
  {
   "cell_type": "markdown",
   "metadata": {},
   "source": [
    "#### Выделение признаков и целевого признака"
   ]
  },
  {
   "cell_type": "code",
   "execution_count": 69,
   "metadata": {},
   "outputs": [],
   "source": [
    "def feat_target(train, test):\n",
    "    \"\"\"\n",
    "    Функция выделяет из тренировочной и тестовой выборок признаки и целевой признак.\n",
    "    \"\"\"\n",
    "    features_train = train.drop('num_orders', axis=1)\n",
    "    features_test = test.drop('num_orders', axis=1)\n",
    "    target_train = train['num_orders']\n",
    "    target_test = test['num_orders']\n",
    "    return features_train, target_train, features_test, target_test"
   ]
  },
  {
   "cell_type": "markdown",
   "metadata": {},
   "source": [
    "#### Подготовка признаков"
   ]
  },
  {
   "cell_type": "code",
   "execution_count": 70,
   "metadata": {},
   "outputs": [],
   "source": [
    "def features_prepeared(data, max_lag, rolling_size, return_tv = False):\n",
    "    \"\"\"\n",
    "    Функция, поочередным вызовом функций make_features, split_data, feat_target выделяет из датасета \n",
    "    выборки с готовыми признаками. Параметр return_tv отвечает за возврат валидационной или тестовой выборки.\n",
    "    \"\"\"\n",
    "    data_temp = make_features(\n",
    "        data, \n",
    "        max_lag, \n",
    "        rolling_size)\n",
    "    \n",
    "    train, test = split_data(\n",
    "        data_temp, \n",
    "        return_tv)\n",
    "    features_train, target_train, features_test, target_test = feat_target(train, test)\n",
    "    return features_train, target_train, features_test, target_test"
   ]
  },
  {
   "cell_type": "markdown",
   "metadata": {},
   "source": [
    "#### Обучение и прогнозирование линейной регрессией"
   ]
  },
  {
   "cell_type": "code",
   "execution_count": 71,
   "metadata": {},
   "outputs": [],
   "source": [
    "def linReg(features_train, target_train, features_test, target_test):\n",
    "    \"\"\"\n",
    "    Функция обучает модель линейной регресии и выдает предсказания по тренировочной и тестовой выборкам\n",
    "    \"\"\"\n",
    "    model = LinearRegression()\n",
    "    model.fit(features_train, target_train)\n",
    "    pred_train = model.predict(features_train)\n",
    "    pred_test = model.predict(features_test)\n",
    "    return pred_train, pred_test"
   ]
  },
  {
   "cell_type": "markdown",
   "metadata": {},
   "source": [
    "#### Моделирование"
   ]
  },
  {
   "cell_type": "code",
   "execution_count": 72,
   "metadata": {},
   "outputs": [],
   "source": [
    "def modeling(data, max_lag, rolling_size, return_tv=False):\n",
    "    \"\"\"\n",
    "    Функция рассчитывает RMSE модели линейной регресии\n",
    "    \"\"\"\n",
    "    features_train, target_train, features_test, target_test = features_prepeared(data, max_lag, rolling_size, return_tv)\n",
    "    \n",
    "    pred_train, pred_test = linReg(\n",
    "        features_train, \n",
    "        target_train, \n",
    "        features_test, \n",
    "        target_test)\n",
    "    \n",
    "    rmse_test = mean_squared_error(target_test, pred_test)**0.5\n",
    "    rmse_train = mean_squared_error(target_train, pred_train)**0.5\n",
    "    return rmse_train, rmse_test"
   ]
  },
  {
   "cell_type": "markdown",
   "metadata": {},
   "source": [
    "#### Проведем подбор лучшего размера скользящего окна (проводится по транировочной и валидационной выборкам)"
   ]
  },
  {
   "cell_type": "code",
   "execution_count": 73,
   "metadata": {},
   "outputs": [
    {
     "name": "stdout",
     "output_type": "stream",
     "text": [
      "20.295746631226777 28.976615296814536 1\n",
      "20.292695404635246 28.97395945843852 6\n",
      "20.29369902341689 28.9714833746226 7\n",
      "20.293726429843524 28.969367514204272 8\n",
      "Наилучший размер скользящего окна составил  8\n"
     ]
    }
   ],
   "source": [
    "flag = 100\n",
    "best_roll = 0\n",
    "rmse_train = 0\n",
    "for i in range (1, 200, 1):\n",
    "    rmse_train, rmse_valid = modeling(data, 168 , i)\n",
    "    if flag > rmse_valid:\n",
    "        flag = rmse_valid\n",
    "        best_roll = i\n",
    "        print(rmse_train, flag, best_roll)\n",
    "print('Наилучший размер скользящего окна составил ', best_roll)"
   ]
  },
  {
   "cell_type": "markdown",
   "metadata": {},
   "source": [
    "#### Подбор гиперпараметров моделей ( так как подбор будет проводится при помощи кросс-валидации, выделять отдельную валидационную выборку не нужно)"
   ]
  },
  {
   "cell_type": "code",
   "execution_count": 74,
   "metadata": {},
   "outputs": [],
   "source": [
    "features_tv, target_tv, features_test, target_test = features_prepeared(data, 168,8, return_tv=True)"
   ]
  },
  {
   "cell_type": "markdown",
   "metadata": {},
   "source": [
    "#### Модели, которые будут обучены: \n",
    "    1. линейная регрессия;\n",
    "    2. дерево решений;\n",
    "    3. случайны лес;\n",
    "    4. бэггинг дерева решений."
   ]
  },
  {
   "cell_type": "code",
   "execution_count": 75,
   "metadata": {},
   "outputs": [],
   "source": [
    "model_linear = LinearRegression()\n",
    "model_forest = RandomForestRegressor(random_state = 12345, n_jobs=-1)\n",
    "model_tree = DecisionTreeRegressor(random_state = 12345)\n",
    "model_bagging = BaggingRegressor(random_state=12345, n_jobs=-1)"
   ]
  },
  {
   "cell_type": "markdown",
   "metadata": {},
   "source": [
    "#### Выбор параметров для перебора в GridSearch"
   ]
  },
  {
   "cell_type": "code",
   "execution_count": 76,
   "metadata": {},
   "outputs": [],
   "source": [
    "params_forest = {\n",
    "    'n_estimators': [50,300,50],\n",
    "    'max_depth':[5,15],\n",
    "    'max_features' : [1,20, 2]\n",
    "}"
   ]
  },
  {
   "cell_type": "code",
   "execution_count": 77,
   "metadata": {},
   "outputs": [],
   "source": [
    "params_tree = {   \n",
    "    'max_depth':[1,20]  \n",
    "}"
   ]
  },
  {
   "cell_type": "code",
   "execution_count": 78,
   "metadata": {},
   "outputs": [],
   "source": [
    "params_bagging ={\n",
    "    'n_estimators': [50,300,50],\n",
    "    'max_features' : [1,20],     \n",
    "}"
   ]
  },
  {
   "cell_type": "markdown",
   "metadata": {},
   "source": [
    "#### Подбор параметров модели дерева решений"
   ]
  },
  {
   "cell_type": "code",
   "execution_count": 79,
   "metadata": {},
   "outputs": [
    {
     "name": "stderr",
     "output_type": "stream",
     "text": [
      "C:\\Users\\bvfrc\\Anaconda3\\lib\\site-packages\\sklearn\\model_selection\\_search.py:813: DeprecationWarning: The default of the `iid` parameter will change from True to False in version 0.22 and will be removed in 0.24. This will change numeric results when test-set sizes are unequal.\n",
      "  DeprecationWarning)\n"
     ]
    },
    {
     "data": {
      "text/plain": [
       "GridSearchCV(cv=5, error_score='raise-deprecating',\n",
       "             estimator=DecisionTreeRegressor(criterion='mse', max_depth=None,\n",
       "                                             max_features=None,\n",
       "                                             max_leaf_nodes=None,\n",
       "                                             min_impurity_decrease=0.0,\n",
       "                                             min_impurity_split=None,\n",
       "                                             min_samples_leaf=1,\n",
       "                                             min_samples_split=2,\n",
       "                                             min_weight_fraction_leaf=0.0,\n",
       "                                             presort=False, random_state=12345,\n",
       "                                             splitter='best'),\n",
       "             iid='warn', n_jobs=None, param_grid={'max_depth': [1, 20]},\n",
       "             pre_dispatch='2*n_jobs', refit=True, return_train_score=False,\n",
       "             scoring='neg_mean_squared_error', verbose=0)"
      ]
     },
     "execution_count": 79,
     "metadata": {},
     "output_type": "execute_result"
    }
   ],
   "source": [
    "CV_tree = GridSearchCV(model_tree, param_grid=params_tree, scoring = 'neg_mean_squared_error', cv=5)\n",
    "CV_tree.fit(features_tv, target_tv)"
   ]
  },
  {
   "cell_type": "code",
   "execution_count": 80,
   "metadata": {},
   "outputs": [
    {
     "name": "stdout",
     "output_type": "stream",
     "text": [
      "Лучшее значение RMSE: 31.021919618005672\n",
      "С параметром {'max_depth': 20}\n"
     ]
    }
   ],
   "source": [
    "print('Лучшее значение RMSE:', abs(CV_tree.best_score_)**0.5)\n",
    "print('С параметром', CV_tree.best_params_)"
   ]
  },
  {
   "cell_type": "markdown",
   "metadata": {},
   "source": [
    "#### Подбор параметров модели бэггинга"
   ]
  },
  {
   "cell_type": "code",
   "execution_count": 81,
   "metadata": {},
   "outputs": [
    {
     "name": "stderr",
     "output_type": "stream",
     "text": [
      "C:\\Users\\bvfrc\\Anaconda3\\lib\\site-packages\\sklearn\\model_selection\\_search.py:813: DeprecationWarning: The default of the `iid` parameter will change from True to False in version 0.22 and will be removed in 0.24. This will change numeric results when test-set sizes are unequal.\n",
      "  DeprecationWarning)\n"
     ]
    },
    {
     "data": {
      "text/plain": [
       "GridSearchCV(cv=5, error_score='raise-deprecating',\n",
       "             estimator=BaggingRegressor(base_estimator=None, bootstrap=True,\n",
       "                                        bootstrap_features=False,\n",
       "                                        max_features=1.0, max_samples=1.0,\n",
       "                                        n_estimators=10, n_jobs=-1,\n",
       "                                        oob_score=False, random_state=12345,\n",
       "                                        verbose=0, warm_start=False),\n",
       "             iid='warn', n_jobs=None,\n",
       "             param_grid={'max_features': [1, 20],\n",
       "                         'n_estimators': [50, 300, 50]},\n",
       "             pre_dispatch='2*n_jobs', refit=True, return_train_score=False,\n",
       "             scoring='neg_mean_squared_error', verbose=0)"
      ]
     },
     "execution_count": 81,
     "metadata": {},
     "output_type": "execute_result"
    }
   ],
   "source": [
    "CV_bagging = GridSearchCV(model_bagging, param_grid=params_bagging, scoring= 'neg_mean_squared_error', cv=5)\n",
    "CV_bagging.fit(features_tv, target_tv)"
   ]
  },
  {
   "cell_type": "code",
   "execution_count": 82,
   "metadata": {},
   "outputs": [
    {
     "name": "stdout",
     "output_type": "stream",
     "text": [
      "Лучшее значение RMSE 22.166849181531894\n",
      "С параметром {'max_features': 20, 'n_estimators': 300}\n"
     ]
    }
   ],
   "source": [
    "print('Лучшее значение RMSE', abs(CV_bagging.best_score_)**0.5)\n",
    "print('С параметром', CV_bagging.best_params_)"
   ]
  },
  {
   "cell_type": "markdown",
   "metadata": {},
   "source": [
    "#### Подбор параметров модели случайного леса"
   ]
  },
  {
   "cell_type": "code",
   "execution_count": 83,
   "metadata": {},
   "outputs": [
    {
     "name": "stderr",
     "output_type": "stream",
     "text": [
      "C:\\Users\\bvfrc\\Anaconda3\\lib\\site-packages\\sklearn\\model_selection\\_search.py:813: DeprecationWarning: The default of the `iid` parameter will change from True to False in version 0.22 and will be removed in 0.24. This will change numeric results when test-set sizes are unequal.\n",
      "  DeprecationWarning)\n"
     ]
    },
    {
     "data": {
      "text/plain": [
       "GridSearchCV(cv=5, error_score='raise-deprecating',\n",
       "             estimator=RandomForestRegressor(bootstrap=True, criterion='mse',\n",
       "                                             max_depth=None,\n",
       "                                             max_features='auto',\n",
       "                                             max_leaf_nodes=None,\n",
       "                                             min_impurity_decrease=0.0,\n",
       "                                             min_impurity_split=None,\n",
       "                                             min_samples_leaf=1,\n",
       "                                             min_samples_split=2,\n",
       "                                             min_weight_fraction_leaf=0.0,\n",
       "                                             n_estimators='warn', n_jobs=-1,\n",
       "                                             oob_score=False,\n",
       "                                             random_state=12345, verbose=0,\n",
       "                                             warm_start=False),\n",
       "             iid='warn', n_jobs=None,\n",
       "             param_grid={'max_depth': [5, 15], 'max_features': [1, 20, 2],\n",
       "                         'n_estimators': [50, 300, 50]},\n",
       "             pre_dispatch='2*n_jobs', refit=True, return_train_score=False,\n",
       "             scoring='neg_mean_squared_error', verbose=0)"
      ]
     },
     "execution_count": 83,
     "metadata": {},
     "output_type": "execute_result"
    }
   ],
   "source": [
    "CV_forest = GridSearchCV(model_forest, param_grid=params_forest, scoring='neg_mean_squared_error', cv=5)\n",
    "CV_forest.fit(features_tv, target_tv)"
   ]
  },
  {
   "cell_type": "code",
   "execution_count": 84,
   "metadata": {},
   "outputs": [
    {
     "name": "stdout",
     "output_type": "stream",
     "text": [
      "Лучшее значение RMSE: 22.211058450084913\n",
      "С параметром {'max_depth': 15, 'max_features': 20, 'n_estimators': 300}\n"
     ]
    }
   ],
   "source": [
    "print('Лучшее значение RMSE:',abs(CV_forest.best_score_)**0.5)\n",
    "print('С параметром', CV_forest.best_params_)"
   ]
  },
  {
   "cell_type": "markdown",
   "metadata": {},
   "source": [
    "#### Также проведем кросс-валидацию модели линейной регрессии"
   ]
  },
  {
   "cell_type": "code",
   "execution_count": 85,
   "metadata": {},
   "outputs": [],
   "source": [
    "def cr_val_sc(model, features, target):\n",
    "    \"\"\"\n",
    "    Функция проводит кросс-валидацию и считает среднюю метрику\n",
    "    \"\"\"\n",
    "    score = cross_val_score(model, features, target, cv=5, scoring = 'neg_mean_squared_error')\n",
    "    final_score = score.mean()\n",
    "    return abs(final_score)**0.5"
   ]
  },
  {
   "cell_type": "code",
   "execution_count": 86,
   "metadata": {
    "scrolled": true
   },
   "outputs": [
    {
     "name": "stdout",
     "output_type": "stream",
     "text": [
      "RMSE линейной регрессии:  21.592874608544513\n"
     ]
    }
   ],
   "source": [
    "print('RMSE линейной регрессии: ',cr_val_sc(model_linear, features_tv, target_tv))"
   ]
  },
  {
   "cell_type": "markdown",
   "metadata": {},
   "source": [
    "## Вывод.\n",
    "    1. Выбраны признаки для обучения моделей:\n",
    "        - календарные: день, день недели;\n",
    "        - отстающие значения(предыдущее, а также значение заказов в то же время каждого дня прошедшей недели плюс-минус 1 час;\n",
    "        - скользящее среднее (смещение при этом равно 24-м часам).\n",
    "    2. Признаки добавлены.\n",
    "    3. Выбраны модели для обучения : линейна регрессия, дерево решений, случайны лес, бэггинг деревьев.\n",
    "    4. Проведена кросс-валидация. При этом перемешивание не мешает предсказаниям, так как признаки, зависящие от предыдущих значений уже добавлены.\n",
    "    5. Выбрана наилучшая модель - модель линейной регрессии."
   ]
  },
  {
   "cell_type": "markdown",
   "metadata": {},
   "source": [
    "# 4. Тестирование"
   ]
  },
  {
   "cell_type": "markdown",
   "metadata": {},
   "source": [
    "#### Построим константные модели для оценки прогноза на адекватность"
   ]
  },
  {
   "cell_type": "code",
   "execution_count": 87,
   "metadata": {},
   "outputs": [
    {
     "name": "stdout",
     "output_type": "stream",
     "text": [
      "Модель предсказаний медианным значением имеет RMSE = 87.03915278566916\n"
     ]
    }
   ],
   "source": [
    "pred_median = np.ones(target_test.shape) * target_tv.median()\n",
    "rmse_median = mean_squared_error(target_test, pred_median)**0.5\n",
    "print('Модель предсказаний медианным значением имеет RMSE =',rmse_median)"
   ]
  },
  {
   "cell_type": "code",
   "execution_count": 88,
   "metadata": {},
   "outputs": [
    {
     "name": "stdout",
     "output_type": "stream",
     "text": [
      "Модель предсказаний предыдущим значением имеет RMSE = 58.819724582830204\n"
     ]
    }
   ],
   "source": [
    "pred_previous = target_test.shift()\n",
    "pred_previous.iloc[0] = target_tv.iloc[-1]\n",
    "rmse_previous = mean_squared_error(target_test, pred_previous)**0.5\n",
    "print('Модель предсказаний предыдущим значением имеет RMSE =',rmse_previous)"
   ]
  },
  {
   "cell_type": "markdown",
   "metadata": {},
   "source": [
    "#### Проверка наилучшей модели на тестовой выборке"
   ]
  },
  {
   "cell_type": "code",
   "execution_count": 89,
   "metadata": {},
   "outputs": [],
   "source": [
    "model_best = LinearRegression()\n",
    "model_best.fit(features_tv, target_tv)\n",
    "pred_train = model_best.predict(features_tv)\n",
    "pred_test = model_best.predict(features_test)"
   ]
  },
  {
   "cell_type": "code",
   "execution_count": 90,
   "metadata": {},
   "outputs": [],
   "source": [
    "rmse_test = mean_squared_error(target_test, pred_test)**0.5\n",
    "rmse_train = mean_squared_error(target_tv, pred_train)**0.5"
   ]
  },
  {
   "cell_type": "code",
   "execution_count": 91,
   "metadata": {},
   "outputs": [
    {
     "name": "stdout",
     "output_type": "stream",
     "text": [
      "RMSE модели на тренировочной выборке составило  21.2984860190179\n"
     ]
    }
   ],
   "source": [
    "print('RMSE модели на тренировочной выборке составило ', rmse_train)"
   ]
  },
  {
   "cell_type": "code",
   "execution_count": 92,
   "metadata": {},
   "outputs": [
    {
     "name": "stdout",
     "output_type": "stream",
     "text": [
      "RMSE модели на тестовой выборке составило  35.283903579925436\n"
     ]
    }
   ],
   "source": [
    "print('RMSE модели на тестовой выборке составило ', rmse_test)"
   ]
  },
  {
   "cell_type": "markdown",
   "metadata": {},
   "source": [
    "## Вывод. \n",
    "    1. Константные модели показали:\n",
    "        - RMSE медианной модели = 86\n",
    "        - RMSE модели предсказания предыдущим значением = 58\n",
    "    2. Лучшая выбранная модель линейной регрессии на тестовой выборке показала RMSE = 35,5.\n",
    "    3. Модель можно признать адекватной, она предсказывает лучше константных моделей.\n",
    "    4. Модель показала RMSE менее заданных 48."
   ]
  },
  {
   "cell_type": "code",
   "execution_count": null,
   "metadata": {},
   "outputs": [],
   "source": []
  }
 ],
 "metadata": {
  "kernelspec": {
   "display_name": "Python 3",
   "language": "python",
   "name": "python3"
  },
  "language_info": {
   "codemirror_mode": {
    "name": "ipython",
    "version": 3
   },
   "file_extension": ".py",
   "mimetype": "text/x-python",
   "name": "python",
   "nbconvert_exporter": "python",
   "pygments_lexer": "ipython3",
   "version": "3.7.6"
  }
 },
 "nbformat": 4,
 "nbformat_minor": 2
}
