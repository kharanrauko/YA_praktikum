{
 "cells": [
  {
   "cell_type": "markdown",
   "metadata": {},
   "source": [
    "## Краткое описание проекта - провести анализ тарифов мобильного оператора на небольшой выборке клиентов и выбрать лучший для фирмы."
   ]
  },
  {
   "cell_type": "markdown",
   "metadata": {},
   "source": [
    "Описание данных:\n",
    "    \n",
    "    Таблица users :\n",
    "        user_id — id пользователя\n",
    "        first_name — имя \n",
    "        last_name — фамилия\n",
    "        age — возраст (г)\n",
    "        reg_date — дата подключения (день, месяц, год)\n",
    "        churn_date — дата прекращения пользования тарифом (если значение пропущено, то тариф ещё действовал на момент выгрузки данных)\n",
    "        city — город проживания\n",
    "        tariff — название тарифного плана\n",
    "\n",
    "    Таблица calls :\n",
    "        id — id звонка\n",
    "        call_date — дата звонка\n",
    "        duration — длительность звонка (м)\n",
    "        user_id — id пользователя\n",
    "        \n",
    "    Таблица messages :\n",
    "        id — id сообщения\n",
    "        message_date — дата сообщения\n",
    "        user_id — id пользователя\n",
    "\n",
    "    Таблица internet :\n",
    "        id — id сессии\n",
    "        mb_used — объём потраченного трафика (mb)\n",
    "        session_date — дата сессии\n",
    "        user_id — id пользователя\n",
    "\n",
    "    Таблица tariffs :\n",
    "        tariff_name — название тарифа\n",
    "        rub_monthly_fee — абонентская плата в рублях\n",
    "        minutes_included — количество минут\n",
    "        messages_included — количество сообщений \n",
    "        mb_per_month_included — объём интернет-трафика\n",
    "        rub_per_minute — минута разговора сверх тарифа \n",
    "        rub_per_message — стоимость сообщения сверх тарифа\n",
    "        rub_per_gb — трафика сверх тарифа"
   ]
  },
  {
   "cell_type": "markdown",
   "metadata": {},
   "source": [
    "## Шаг 1. Откроем файл и посмотрим на данные"
   ]
  },
  {
   "cell_type": "code",
   "execution_count": 69,
   "metadata": {},
   "outputs": [],
   "source": [
    "import pandas as pd\n",
    "import numpy as np\n",
    "import math\n",
    "from scipy import stats as st\n",
    "pd.set_option('display.max_columns', 100)\n",
    "calls = pd.read_csv('calls.csv')\n",
    "internet = pd.read_csv('internet.csv')\n",
    "tariffs = pd.read_csv('tariffs.csv')\n",
    "messages = pd.read_csv('messages.csv')\n",
    "users = pd.read_csv('users.csv')"
   ]
  },
  {
   "cell_type": "code",
   "execution_count": 70,
   "metadata": {},
   "outputs": [
    {
     "name": "stdout",
     "output_type": "stream",
     "text": [
      "<class 'pandas.core.frame.DataFrame'>\n",
      "RangeIndex: 202607 entries, 0 to 202606\n",
      "Data columns (total 4 columns):\n",
      " #   Column     Non-Null Count   Dtype  \n",
      "---  ------     --------------   -----  \n",
      " 0   id         202607 non-null  object \n",
      " 1   call_date  202607 non-null  object \n",
      " 2   duration   202607 non-null  float64\n",
      " 3   user_id    202607 non-null  int64  \n",
      "dtypes: float64(1), int64(1), object(2)\n",
      "memory usage: 6.2+ MB\n"
     ]
    }
   ],
   "source": [
    "calls.info()"
   ]
  },
  {
   "cell_type": "code",
   "execution_count": 71,
   "metadata": {},
   "outputs": [
    {
     "data": {
      "text/html": [
       "<div>\n",
       "<style scoped>\n",
       "    .dataframe tbody tr th:only-of-type {\n",
       "        vertical-align: middle;\n",
       "    }\n",
       "\n",
       "    .dataframe tbody tr th {\n",
       "        vertical-align: top;\n",
       "    }\n",
       "\n",
       "    .dataframe thead th {\n",
       "        text-align: right;\n",
       "    }\n",
       "</style>\n",
       "<table border=\"1\" class=\"dataframe\">\n",
       "  <thead>\n",
       "    <tr style=\"text-align: right;\">\n",
       "      <th></th>\n",
       "      <th>id</th>\n",
       "      <th>call_date</th>\n",
       "      <th>duration</th>\n",
       "      <th>user_id</th>\n",
       "    </tr>\n",
       "  </thead>\n",
       "  <tbody>\n",
       "    <tr>\n",
       "      <th>0</th>\n",
       "      <td>1000_0</td>\n",
       "      <td>2018-07-25</td>\n",
       "      <td>0.00</td>\n",
       "      <td>1000</td>\n",
       "    </tr>\n",
       "    <tr>\n",
       "      <th>1</th>\n",
       "      <td>1000_1</td>\n",
       "      <td>2018-08-17</td>\n",
       "      <td>0.00</td>\n",
       "      <td>1000</td>\n",
       "    </tr>\n",
       "    <tr>\n",
       "      <th>2</th>\n",
       "      <td>1000_2</td>\n",
       "      <td>2018-06-11</td>\n",
       "      <td>2.85</td>\n",
       "      <td>1000</td>\n",
       "    </tr>\n",
       "    <tr>\n",
       "      <th>3</th>\n",
       "      <td>1000_3</td>\n",
       "      <td>2018-09-21</td>\n",
       "      <td>13.80</td>\n",
       "      <td>1000</td>\n",
       "    </tr>\n",
       "    <tr>\n",
       "      <th>4</th>\n",
       "      <td>1000_4</td>\n",
       "      <td>2018-12-15</td>\n",
       "      <td>5.18</td>\n",
       "      <td>1000</td>\n",
       "    </tr>\n",
       "  </tbody>\n",
       "</table>\n",
       "</div>"
      ],
      "text/plain": [
       "       id   call_date  duration  user_id\n",
       "0  1000_0  2018-07-25      0.00     1000\n",
       "1  1000_1  2018-08-17      0.00     1000\n",
       "2  1000_2  2018-06-11      2.85     1000\n",
       "3  1000_3  2018-09-21     13.80     1000\n",
       "4  1000_4  2018-12-15      5.18     1000"
      ]
     },
     "execution_count": 71,
     "metadata": {},
     "output_type": "execute_result"
    }
   ],
   "source": [
    "calls.head()"
   ]
  },
  {
   "cell_type": "code",
   "execution_count": 72,
   "metadata": {},
   "outputs": [
    {
     "name": "stdout",
     "output_type": "stream",
     "text": [
      "<class 'pandas.core.frame.DataFrame'>\n",
      "RangeIndex: 149396 entries, 0 to 149395\n",
      "Data columns (total 5 columns):\n",
      " #   Column        Non-Null Count   Dtype  \n",
      "---  ------        --------------   -----  \n",
      " 0   Unnamed: 0    149396 non-null  int64  \n",
      " 1   id            149396 non-null  object \n",
      " 2   mb_used       149396 non-null  float64\n",
      " 3   session_date  149396 non-null  object \n",
      " 4   user_id       149396 non-null  int64  \n",
      "dtypes: float64(1), int64(2), object(2)\n",
      "memory usage: 5.7+ MB\n"
     ]
    }
   ],
   "source": [
    "internet.info()"
   ]
  },
  {
   "cell_type": "code",
   "execution_count": 73,
   "metadata": {},
   "outputs": [
    {
     "data": {
      "text/html": [
       "<div>\n",
       "<style scoped>\n",
       "    .dataframe tbody tr th:only-of-type {\n",
       "        vertical-align: middle;\n",
       "    }\n",
       "\n",
       "    .dataframe tbody tr th {\n",
       "        vertical-align: top;\n",
       "    }\n",
       "\n",
       "    .dataframe thead th {\n",
       "        text-align: right;\n",
       "    }\n",
       "</style>\n",
       "<table border=\"1\" class=\"dataframe\">\n",
       "  <thead>\n",
       "    <tr style=\"text-align: right;\">\n",
       "      <th></th>\n",
       "      <th>Unnamed: 0</th>\n",
       "      <th>id</th>\n",
       "      <th>mb_used</th>\n",
       "      <th>session_date</th>\n",
       "      <th>user_id</th>\n",
       "    </tr>\n",
       "  </thead>\n",
       "  <tbody>\n",
       "    <tr>\n",
       "      <th>0</th>\n",
       "      <td>0</td>\n",
       "      <td>1000_0</td>\n",
       "      <td>112.95</td>\n",
       "      <td>2018-11-25</td>\n",
       "      <td>1000</td>\n",
       "    </tr>\n",
       "    <tr>\n",
       "      <th>1</th>\n",
       "      <td>1</td>\n",
       "      <td>1000_1</td>\n",
       "      <td>1052.81</td>\n",
       "      <td>2018-09-07</td>\n",
       "      <td>1000</td>\n",
       "    </tr>\n",
       "    <tr>\n",
       "      <th>2</th>\n",
       "      <td>2</td>\n",
       "      <td>1000_2</td>\n",
       "      <td>1197.26</td>\n",
       "      <td>2018-06-25</td>\n",
       "      <td>1000</td>\n",
       "    </tr>\n",
       "    <tr>\n",
       "      <th>3</th>\n",
       "      <td>3</td>\n",
       "      <td>1000_3</td>\n",
       "      <td>550.27</td>\n",
       "      <td>2018-08-22</td>\n",
       "      <td>1000</td>\n",
       "    </tr>\n",
       "    <tr>\n",
       "      <th>4</th>\n",
       "      <td>4</td>\n",
       "      <td>1000_4</td>\n",
       "      <td>302.56</td>\n",
       "      <td>2018-09-24</td>\n",
       "      <td>1000</td>\n",
       "    </tr>\n",
       "  </tbody>\n",
       "</table>\n",
       "</div>"
      ],
      "text/plain": [
       "   Unnamed: 0      id  mb_used session_date  user_id\n",
       "0           0  1000_0   112.95   2018-11-25     1000\n",
       "1           1  1000_1  1052.81   2018-09-07     1000\n",
       "2           2  1000_2  1197.26   2018-06-25     1000\n",
       "3           3  1000_3   550.27   2018-08-22     1000\n",
       "4           4  1000_4   302.56   2018-09-24     1000"
      ]
     },
     "execution_count": 73,
     "metadata": {},
     "output_type": "execute_result"
    }
   ],
   "source": [
    "internet.head()"
   ]
  },
  {
   "cell_type": "code",
   "execution_count": 74,
   "metadata": {},
   "outputs": [
    {
     "name": "stdout",
     "output_type": "stream",
     "text": [
      "<class 'pandas.core.frame.DataFrame'>\n",
      "RangeIndex: 123036 entries, 0 to 123035\n",
      "Data columns (total 3 columns):\n",
      " #   Column        Non-Null Count   Dtype \n",
      "---  ------        --------------   ----- \n",
      " 0   id            123036 non-null  object\n",
      " 1   message_date  123036 non-null  object\n",
      " 2   user_id       123036 non-null  int64 \n",
      "dtypes: int64(1), object(2)\n",
      "memory usage: 2.8+ MB\n"
     ]
    }
   ],
   "source": [
    "messages.info()"
   ]
  },
  {
   "cell_type": "code",
   "execution_count": 75,
   "metadata": {},
   "outputs": [
    {
     "data": {
      "text/html": [
       "<div>\n",
       "<style scoped>\n",
       "    .dataframe tbody tr th:only-of-type {\n",
       "        vertical-align: middle;\n",
       "    }\n",
       "\n",
       "    .dataframe tbody tr th {\n",
       "        vertical-align: top;\n",
       "    }\n",
       "\n",
       "    .dataframe thead th {\n",
       "        text-align: right;\n",
       "    }\n",
       "</style>\n",
       "<table border=\"1\" class=\"dataframe\">\n",
       "  <thead>\n",
       "    <tr style=\"text-align: right;\">\n",
       "      <th></th>\n",
       "      <th>id</th>\n",
       "      <th>message_date</th>\n",
       "      <th>user_id</th>\n",
       "    </tr>\n",
       "  </thead>\n",
       "  <tbody>\n",
       "    <tr>\n",
       "      <th>0</th>\n",
       "      <td>1000_0</td>\n",
       "      <td>2018-06-27</td>\n",
       "      <td>1000</td>\n",
       "    </tr>\n",
       "    <tr>\n",
       "      <th>1</th>\n",
       "      <td>1000_1</td>\n",
       "      <td>2018-10-08</td>\n",
       "      <td>1000</td>\n",
       "    </tr>\n",
       "    <tr>\n",
       "      <th>2</th>\n",
       "      <td>1000_2</td>\n",
       "      <td>2018-08-04</td>\n",
       "      <td>1000</td>\n",
       "    </tr>\n",
       "    <tr>\n",
       "      <th>3</th>\n",
       "      <td>1000_3</td>\n",
       "      <td>2018-06-16</td>\n",
       "      <td>1000</td>\n",
       "    </tr>\n",
       "    <tr>\n",
       "      <th>4</th>\n",
       "      <td>1000_4</td>\n",
       "      <td>2018-12-05</td>\n",
       "      <td>1000</td>\n",
       "    </tr>\n",
       "  </tbody>\n",
       "</table>\n",
       "</div>"
      ],
      "text/plain": [
       "       id message_date  user_id\n",
       "0  1000_0   2018-06-27     1000\n",
       "1  1000_1   2018-10-08     1000\n",
       "2  1000_2   2018-08-04     1000\n",
       "3  1000_3   2018-06-16     1000\n",
       "4  1000_4   2018-12-05     1000"
      ]
     },
     "execution_count": 75,
     "metadata": {},
     "output_type": "execute_result"
    }
   ],
   "source": [
    "messages.head()"
   ]
  },
  {
   "cell_type": "code",
   "execution_count": 76,
   "metadata": {},
   "outputs": [
    {
     "name": "stdout",
     "output_type": "stream",
     "text": [
      "<class 'pandas.core.frame.DataFrame'>\n",
      "RangeIndex: 2 entries, 0 to 1\n",
      "Data columns (total 8 columns):\n",
      " #   Column                 Non-Null Count  Dtype \n",
      "---  ------                 --------------  ----- \n",
      " 0   messages_included      2 non-null      int64 \n",
      " 1   mb_per_month_included  2 non-null      int64 \n",
      " 2   minutes_included       2 non-null      int64 \n",
      " 3   rub_monthly_fee        2 non-null      int64 \n",
      " 4   rub_per_gb             2 non-null      int64 \n",
      " 5   rub_per_message        2 non-null      int64 \n",
      " 6   rub_per_minute         2 non-null      int64 \n",
      " 7   tariff_name            2 non-null      object\n",
      "dtypes: int64(7), object(1)\n",
      "memory usage: 256.0+ bytes\n"
     ]
    }
   ],
   "source": [
    "tariffs.info()"
   ]
  },
  {
   "cell_type": "code",
   "execution_count": 77,
   "metadata": {},
   "outputs": [
    {
     "data": {
      "text/html": [
       "<div>\n",
       "<style scoped>\n",
       "    .dataframe tbody tr th:only-of-type {\n",
       "        vertical-align: middle;\n",
       "    }\n",
       "\n",
       "    .dataframe tbody tr th {\n",
       "        vertical-align: top;\n",
       "    }\n",
       "\n",
       "    .dataframe thead th {\n",
       "        text-align: right;\n",
       "    }\n",
       "</style>\n",
       "<table border=\"1\" class=\"dataframe\">\n",
       "  <thead>\n",
       "    <tr style=\"text-align: right;\">\n",
       "      <th></th>\n",
       "      <th>messages_included</th>\n",
       "      <th>mb_per_month_included</th>\n",
       "      <th>minutes_included</th>\n",
       "      <th>rub_monthly_fee</th>\n",
       "      <th>rub_per_gb</th>\n",
       "      <th>rub_per_message</th>\n",
       "      <th>rub_per_minute</th>\n",
       "      <th>tariff_name</th>\n",
       "    </tr>\n",
       "  </thead>\n",
       "  <tbody>\n",
       "    <tr>\n",
       "      <th>0</th>\n",
       "      <td>50</td>\n",
       "      <td>15360</td>\n",
       "      <td>500</td>\n",
       "      <td>550</td>\n",
       "      <td>200</td>\n",
       "      <td>3</td>\n",
       "      <td>3</td>\n",
       "      <td>smart</td>\n",
       "    </tr>\n",
       "    <tr>\n",
       "      <th>1</th>\n",
       "      <td>1000</td>\n",
       "      <td>30720</td>\n",
       "      <td>3000</td>\n",
       "      <td>1950</td>\n",
       "      <td>150</td>\n",
       "      <td>1</td>\n",
       "      <td>1</td>\n",
       "      <td>ultra</td>\n",
       "    </tr>\n",
       "  </tbody>\n",
       "</table>\n",
       "</div>"
      ],
      "text/plain": [
       "   messages_included  mb_per_month_included  minutes_included  \\\n",
       "0                 50                  15360               500   \n",
       "1               1000                  30720              3000   \n",
       "\n",
       "   rub_monthly_fee  rub_per_gb  rub_per_message  rub_per_minute tariff_name  \n",
       "0              550         200                3               3       smart  \n",
       "1             1950         150                1               1       ultra  "
      ]
     },
     "execution_count": 77,
     "metadata": {},
     "output_type": "execute_result"
    }
   ],
   "source": [
    "tariffs.head()"
   ]
  },
  {
   "cell_type": "code",
   "execution_count": 78,
   "metadata": {},
   "outputs": [
    {
     "name": "stdout",
     "output_type": "stream",
     "text": [
      "<class 'pandas.core.frame.DataFrame'>\n",
      "RangeIndex: 500 entries, 0 to 499\n",
      "Data columns (total 8 columns):\n",
      " #   Column      Non-Null Count  Dtype \n",
      "---  ------      --------------  ----- \n",
      " 0   user_id     500 non-null    int64 \n",
      " 1   age         500 non-null    int64 \n",
      " 2   churn_date  38 non-null     object\n",
      " 3   city        500 non-null    object\n",
      " 4   first_name  500 non-null    object\n",
      " 5   last_name   500 non-null    object\n",
      " 6   reg_date    500 non-null    object\n",
      " 7   tariff      500 non-null    object\n",
      "dtypes: int64(2), object(6)\n",
      "memory usage: 31.4+ KB\n"
     ]
    }
   ],
   "source": [
    "users.info()"
   ]
  },
  {
   "cell_type": "code",
   "execution_count": 79,
   "metadata": {},
   "outputs": [
    {
     "data": {
      "text/html": [
       "<div>\n",
       "<style scoped>\n",
       "    .dataframe tbody tr th:only-of-type {\n",
       "        vertical-align: middle;\n",
       "    }\n",
       "\n",
       "    .dataframe tbody tr th {\n",
       "        vertical-align: top;\n",
       "    }\n",
       "\n",
       "    .dataframe thead th {\n",
       "        text-align: right;\n",
       "    }\n",
       "</style>\n",
       "<table border=\"1\" class=\"dataframe\">\n",
       "  <thead>\n",
       "    <tr style=\"text-align: right;\">\n",
       "      <th></th>\n",
       "      <th>user_id</th>\n",
       "      <th>age</th>\n",
       "      <th>churn_date</th>\n",
       "      <th>city</th>\n",
       "      <th>first_name</th>\n",
       "      <th>last_name</th>\n",
       "      <th>reg_date</th>\n",
       "      <th>tariff</th>\n",
       "    </tr>\n",
       "  </thead>\n",
       "  <tbody>\n",
       "    <tr>\n",
       "      <th>0</th>\n",
       "      <td>1000</td>\n",
       "      <td>52</td>\n",
       "      <td>NaN</td>\n",
       "      <td>Краснодар</td>\n",
       "      <td>Рафаил</td>\n",
       "      <td>Верещагин</td>\n",
       "      <td>2018-05-25</td>\n",
       "      <td>ultra</td>\n",
       "    </tr>\n",
       "    <tr>\n",
       "      <th>1</th>\n",
       "      <td>1001</td>\n",
       "      <td>41</td>\n",
       "      <td>NaN</td>\n",
       "      <td>Москва</td>\n",
       "      <td>Иван</td>\n",
       "      <td>Ежов</td>\n",
       "      <td>2018-11-01</td>\n",
       "      <td>smart</td>\n",
       "    </tr>\n",
       "    <tr>\n",
       "      <th>2</th>\n",
       "      <td>1002</td>\n",
       "      <td>59</td>\n",
       "      <td>NaN</td>\n",
       "      <td>Стерлитамак</td>\n",
       "      <td>Евгений</td>\n",
       "      <td>Абрамович</td>\n",
       "      <td>2018-06-17</td>\n",
       "      <td>smart</td>\n",
       "    </tr>\n",
       "    <tr>\n",
       "      <th>3</th>\n",
       "      <td>1003</td>\n",
       "      <td>23</td>\n",
       "      <td>NaN</td>\n",
       "      <td>Москва</td>\n",
       "      <td>Белла</td>\n",
       "      <td>Белякова</td>\n",
       "      <td>2018-08-17</td>\n",
       "      <td>ultra</td>\n",
       "    </tr>\n",
       "    <tr>\n",
       "      <th>4</th>\n",
       "      <td>1004</td>\n",
       "      <td>68</td>\n",
       "      <td>NaN</td>\n",
       "      <td>Новокузнецк</td>\n",
       "      <td>Татьяна</td>\n",
       "      <td>Авдеенко</td>\n",
       "      <td>2018-05-14</td>\n",
       "      <td>ultra</td>\n",
       "    </tr>\n",
       "  </tbody>\n",
       "</table>\n",
       "</div>"
      ],
      "text/plain": [
       "   user_id  age churn_date         city first_name  last_name    reg_date  \\\n",
       "0     1000   52        NaN    Краснодар     Рафаил  Верещагин  2018-05-25   \n",
       "1     1001   41        NaN       Москва       Иван       Ежов  2018-11-01   \n",
       "2     1002   59        NaN  Стерлитамак    Евгений  Абрамович  2018-06-17   \n",
       "3     1003   23        NaN       Москва      Белла   Белякова  2018-08-17   \n",
       "4     1004   68        NaN  Новокузнецк    Татьяна   Авдеенко  2018-05-14   \n",
       "\n",
       "  tariff  \n",
       "0  ultra  \n",
       "1  smart  \n",
       "2  smart  \n",
       "3  ultra  \n",
       "4  ultra  "
      ]
     },
     "execution_count": 79,
     "metadata": {},
     "output_type": "execute_result"
    }
   ],
   "source": [
    "users.head()"
   ]
  },
  {
   "cell_type": "code",
   "execution_count": 80,
   "metadata": {},
   "outputs": [
    {
     "data": {
      "text/html": [
       "<div>\n",
       "<style scoped>\n",
       "    .dataframe tbody tr th:only-of-type {\n",
       "        vertical-align: middle;\n",
       "    }\n",
       "\n",
       "    .dataframe tbody tr th {\n",
       "        vertical-align: top;\n",
       "    }\n",
       "\n",
       "    .dataframe thead th {\n",
       "        text-align: right;\n",
       "    }\n",
       "</style>\n",
       "<table border=\"1\" class=\"dataframe\">\n",
       "  <thead>\n",
       "    <tr style=\"text-align: right;\">\n",
       "      <th></th>\n",
       "      <th>user_id</th>\n",
       "      <th>age</th>\n",
       "      <th>churn_date</th>\n",
       "      <th>city</th>\n",
       "      <th>first_name</th>\n",
       "      <th>last_name</th>\n",
       "      <th>reg_date</th>\n",
       "    </tr>\n",
       "    <tr>\n",
       "      <th>tariff</th>\n",
       "      <th></th>\n",
       "      <th></th>\n",
       "      <th></th>\n",
       "      <th></th>\n",
       "      <th></th>\n",
       "      <th></th>\n",
       "      <th></th>\n",
       "    </tr>\n",
       "  </thead>\n",
       "  <tbody>\n",
       "    <tr>\n",
       "      <th>smart</th>\n",
       "      <td>351</td>\n",
       "      <td>351</td>\n",
       "      <td>23</td>\n",
       "      <td>351</td>\n",
       "      <td>351</td>\n",
       "      <td>351</td>\n",
       "      <td>351</td>\n",
       "    </tr>\n",
       "    <tr>\n",
       "      <th>ultra</th>\n",
       "      <td>149</td>\n",
       "      <td>149</td>\n",
       "      <td>15</td>\n",
       "      <td>149</td>\n",
       "      <td>149</td>\n",
       "      <td>149</td>\n",
       "      <td>149</td>\n",
       "    </tr>\n",
       "  </tbody>\n",
       "</table>\n",
       "</div>"
      ],
      "text/plain": [
       "        user_id  age  churn_date  city  first_name  last_name  reg_date\n",
       "tariff                                                                 \n",
       "smart       351  351          23   351         351        351       351\n",
       "ultra       149  149          15   149         149        149       149"
      ]
     },
     "execution_count": 80,
     "metadata": {},
     "output_type": "execute_result"
    }
   ],
   "source": [
    "users.groupby('tariff').count()"
   ]
  },
  {
   "cell_type": "markdown",
   "metadata": {},
   "source": [
    "## Вывод по шагу 1.\n",
    "В данных датафреймах на первый взгляд отсутствуют пропущенные значения (кроме столбца 'churn_date' датафрейма 'users'). "
   ]
  },
  {
   "cell_type": "markdown",
   "metadata": {},
   "source": [
    "# Шаг 2. Подготовка данных"
   ]
  },
  {
   "cell_type": "markdown",
   "metadata": {},
   "source": [
    "#### Исправление ошибок в данных. В датафреймах calls и internet были обнаружены нули в столбцах duration и mb_used. Заменим нули значениями средней продолжительности разговора и потребленного трафика для каждого пользователя."
   ]
  },
  {
   "cell_type": "code",
   "execution_count": 81,
   "metadata": {},
   "outputs": [],
   "source": [
    "def zero_replace_by_mean(df, column):\n",
    "    \"\"\"\n",
    "    Функция замены нулей в столбцах на среднее значение для каждого пользователя\n",
    "    \"\"\"\n",
    "    df['mean_1'] = df.groupby('user_id')[column].transform(lambda x: x.mean())\n",
    "    df[column] = df.apply(lambda x: x.mean_1 if x[column] ==0 else x[column], axis = 1)\n",
    "    del df['mean_1']"
   ]
  },
  {
   "cell_type": "code",
   "execution_count": 82,
   "metadata": {},
   "outputs": [],
   "source": [
    "zero_replace_by_mean(calls, 'duration')"
   ]
  },
  {
   "cell_type": "code",
   "execution_count": 83,
   "metadata": {},
   "outputs": [],
   "source": [
    "zero_replace_by_mean(internet, 'mb_used')"
   ]
  },
  {
   "cell_type": "markdown",
   "metadata": {},
   "source": [
    "#### Перевод столбцов с датами в формат DateTime"
   ]
  },
  {
   "cell_type": "code",
   "execution_count": 84,
   "metadata": {},
   "outputs": [],
   "source": [
    "def to_date(df, column=[]):\n",
    "    \"\"\"\n",
    "    Функция перевода столбца датафрейма в типа DateTime\n",
    "    На вход подаем название датафрейма и список столбцов\n",
    "    \"\"\"\n",
    "    for name in column:\n",
    "        df[name] = pd.to_datetime(df[name], format='%Y-%m-%d')\n",
    "        "
   ]
  },
  {
   "cell_type": "code",
   "execution_count": 85,
   "metadata": {},
   "outputs": [],
   "source": [
    "to_date(calls, ['call_date'])"
   ]
  },
  {
   "cell_type": "code",
   "execution_count": 86,
   "metadata": {},
   "outputs": [],
   "source": [
    "to_date(internet, ['session_date'])"
   ]
  },
  {
   "cell_type": "code",
   "execution_count": 87,
   "metadata": {},
   "outputs": [],
   "source": [
    "to_date(messages, ['message_date'])"
   ]
  },
  {
   "cell_type": "code",
   "execution_count": 88,
   "metadata": {},
   "outputs": [],
   "source": [
    "to_date(users, ['churn_date', 'reg_date'])"
   ]
  },
  {
   "cell_type": "markdown",
   "metadata": {},
   "source": [
    "#### Приведение столбцов к соответствующим типам\n",
    "Округление дробных значений длительности разговора и потраченных мегабайт трафика вверх.\n",
    "\n"
   ]
  },
  {
   "cell_type": "code",
   "execution_count": 89,
   "metadata": {},
   "outputs": [],
   "source": [
    "calls['duration'] = calls['duration'].apply(np.ceil).astype('int16')"
   ]
  },
  {
   "cell_type": "code",
   "execution_count": 90,
   "metadata": {},
   "outputs": [],
   "source": [
    "internet['mb_used'] = internet['mb_used'].apply(np.ceil).astype('int16')"
   ]
  },
  {
   "cell_type": "code",
   "execution_count": 91,
   "metadata": {},
   "outputs": [],
   "source": [
    "for df in [calls, internet, messages, users]:\n",
    "    df['user_id'] = df['user_id'].astype('int16')"
   ]
  },
  {
   "cell_type": "markdown",
   "metadata": {},
   "source": [
    "#### Добавление столбцов месяц к датафреймам calls, messages и internet"
   ]
  },
  {
   "cell_type": "code",
   "execution_count": 92,
   "metadata": {},
   "outputs": [],
   "source": [
    "def month_add(df, column, month_column = 'month'):\n",
    "    \"\"\"\n",
    "    Функция добавляет в датафрейм столбец месяц на основе столбца с датой\n",
    "    \"\"\"\n",
    "    df[month_column] = pd.DatetimeIndex(df[column]).month"
   ]
  },
  {
   "cell_type": "code",
   "execution_count": 93,
   "metadata": {},
   "outputs": [],
   "source": [
    "month_add(calls, 'call_date')\n",
    "month_add(internet, 'session_date')\n",
    "month_add(messages, 'message_date')"
   ]
  },
  {
   "cell_type": "markdown",
   "metadata": {},
   "source": [
    "#### Сформируем сводные таблицы звонков, интернета и сообщений по месяцам"
   ]
  },
  {
   "cell_type": "code",
   "execution_count": 94,
   "metadata": {},
   "outputs": [
    {
     "data": {
      "text/html": [
       "<div>\n",
       "<style scoped>\n",
       "    .dataframe tbody tr th:only-of-type {\n",
       "        vertical-align: middle;\n",
       "    }\n",
       "\n",
       "    .dataframe tbody tr th {\n",
       "        vertical-align: top;\n",
       "    }\n",
       "\n",
       "    .dataframe thead th {\n",
       "        text-align: right;\n",
       "    }\n",
       "</style>\n",
       "<table border=\"1\" class=\"dataframe\">\n",
       "  <thead>\n",
       "    <tr style=\"text-align: right;\">\n",
       "      <th>month</th>\n",
       "      <th>1</th>\n",
       "      <th>2</th>\n",
       "      <th>3</th>\n",
       "      <th>4</th>\n",
       "      <th>5</th>\n",
       "      <th>6</th>\n",
       "      <th>7</th>\n",
       "      <th>8</th>\n",
       "      <th>9</th>\n",
       "      <th>10</th>\n",
       "      <th>11</th>\n",
       "      <th>12</th>\n",
       "    </tr>\n",
       "    <tr>\n",
       "      <th>user_id</th>\n",
       "      <th></th>\n",
       "      <th></th>\n",
       "      <th></th>\n",
       "      <th></th>\n",
       "      <th></th>\n",
       "      <th></th>\n",
       "      <th></th>\n",
       "      <th></th>\n",
       "      <th></th>\n",
       "      <th></th>\n",
       "      <th></th>\n",
       "      <th></th>\n",
       "    </tr>\n",
       "  </thead>\n",
       "  <tbody>\n",
       "    <tr>\n",
       "      <th>1254</th>\n",
       "      <td>538.0</td>\n",
       "      <td>597.0</td>\n",
       "      <td>624.0</td>\n",
       "      <td>609.0</td>\n",
       "      <td>855.0</td>\n",
       "      <td>674.0</td>\n",
       "      <td>811.0</td>\n",
       "      <td>255.0</td>\n",
       "      <td>NaN</td>\n",
       "      <td>NaN</td>\n",
       "      <td>NaN</td>\n",
       "      <td>NaN</td>\n",
       "    </tr>\n",
       "    <tr>\n",
       "      <th>1390</th>\n",
       "      <td>NaN</td>\n",
       "      <td>NaN</td>\n",
       "      <td>NaN</td>\n",
       "      <td>NaN</td>\n",
       "      <td>NaN</td>\n",
       "      <td>NaN</td>\n",
       "      <td>2.0</td>\n",
       "      <td>245.0</td>\n",
       "      <td>219.0</td>\n",
       "      <td>239.0</td>\n",
       "      <td>258.0</td>\n",
       "      <td>227.0</td>\n",
       "    </tr>\n",
       "    <tr>\n",
       "      <th>1416</th>\n",
       "      <td>NaN</td>\n",
       "      <td>NaN</td>\n",
       "      <td>NaN</td>\n",
       "      <td>NaN</td>\n",
       "      <td>NaN</td>\n",
       "      <td>NaN</td>\n",
       "      <td>645.0</td>\n",
       "      <td>1039.0</td>\n",
       "      <td>927.0</td>\n",
       "      <td>1259.0</td>\n",
       "      <td>1029.0</td>\n",
       "      <td>447.0</td>\n",
       "    </tr>\n",
       "    <tr>\n",
       "      <th>1443</th>\n",
       "      <td>NaN</td>\n",
       "      <td>NaN</td>\n",
       "      <td>NaN</td>\n",
       "      <td>NaN</td>\n",
       "      <td>NaN</td>\n",
       "      <td>NaN</td>\n",
       "      <td>NaN</td>\n",
       "      <td>NaN</td>\n",
       "      <td>455.0</td>\n",
       "      <td>1109.0</td>\n",
       "      <td>913.0</td>\n",
       "      <td>779.0</td>\n",
       "    </tr>\n",
       "    <tr>\n",
       "      <th>1408</th>\n",
       "      <td>NaN</td>\n",
       "      <td>NaN</td>\n",
       "      <td>NaN</td>\n",
       "      <td>NaN</td>\n",
       "      <td>130.0</td>\n",
       "      <td>709.0</td>\n",
       "      <td>637.0</td>\n",
       "      <td>675.0</td>\n",
       "      <td>869.0</td>\n",
       "      <td>764.0</td>\n",
       "      <td>775.0</td>\n",
       "      <td>681.0</td>\n",
       "    </tr>\n",
       "  </tbody>\n",
       "</table>\n",
       "</div>"
      ],
      "text/plain": [
       "month       1      2      3      4      5      6      7       8      9   \\\n",
       "user_id                                                                   \n",
       "1254     538.0  597.0  624.0  609.0  855.0  674.0  811.0   255.0    NaN   \n",
       "1390       NaN    NaN    NaN    NaN    NaN    NaN    2.0   245.0  219.0   \n",
       "1416       NaN    NaN    NaN    NaN    NaN    NaN  645.0  1039.0  927.0   \n",
       "1443       NaN    NaN    NaN    NaN    NaN    NaN    NaN     NaN  455.0   \n",
       "1408       NaN    NaN    NaN    NaN  130.0  709.0  637.0   675.0  869.0   \n",
       "\n",
       "month        10      11     12  \n",
       "user_id                         \n",
       "1254        NaN     NaN    NaN  \n",
       "1390      239.0   258.0  227.0  \n",
       "1416     1259.0  1029.0  447.0  \n",
       "1443     1109.0   913.0  779.0  \n",
       "1408      764.0   775.0  681.0  "
      ]
     },
     "execution_count": 94,
     "metadata": {},
     "output_type": "execute_result"
    }
   ],
   "source": [
    "calls_pivot = calls.pivot_table(index = 'user_id', \n",
    "                                columns = 'month', \n",
    "                                values = 'duration', \n",
    "                                aggfunc='sum', \n",
    "                                dropna=False)\n",
    "calls_pivot.sample(5)"
   ]
  },
  {
   "cell_type": "code",
   "execution_count": 95,
   "metadata": {},
   "outputs": [
    {
     "data": {
      "text/html": [
       "<div>\n",
       "<style scoped>\n",
       "    .dataframe tbody tr th:only-of-type {\n",
       "        vertical-align: middle;\n",
       "    }\n",
       "\n",
       "    .dataframe tbody tr th {\n",
       "        vertical-align: top;\n",
       "    }\n",
       "\n",
       "    .dataframe thead th {\n",
       "        text-align: right;\n",
       "    }\n",
       "</style>\n",
       "<table border=\"1\" class=\"dataframe\">\n",
       "  <thead>\n",
       "    <tr style=\"text-align: right;\">\n",
       "      <th>month</th>\n",
       "      <th>1</th>\n",
       "      <th>2</th>\n",
       "      <th>3</th>\n",
       "      <th>4</th>\n",
       "      <th>5</th>\n",
       "      <th>6</th>\n",
       "      <th>7</th>\n",
       "      <th>8</th>\n",
       "      <th>9</th>\n",
       "      <th>10</th>\n",
       "      <th>11</th>\n",
       "      <th>12</th>\n",
       "    </tr>\n",
       "    <tr>\n",
       "      <th>user_id</th>\n",
       "      <th></th>\n",
       "      <th></th>\n",
       "      <th></th>\n",
       "      <th></th>\n",
       "      <th></th>\n",
       "      <th></th>\n",
       "      <th></th>\n",
       "      <th></th>\n",
       "      <th></th>\n",
       "      <th></th>\n",
       "      <th></th>\n",
       "      <th></th>\n",
       "    </tr>\n",
       "  </thead>\n",
       "  <tbody>\n",
       "    <tr>\n",
       "      <th>1071</th>\n",
       "      <td>16.0</td>\n",
       "      <td>19.0</td>\n",
       "      <td>15.0</td>\n",
       "      <td>16.0</td>\n",
       "      <td>8.0</td>\n",
       "      <td>23.0</td>\n",
       "      <td>17.0</td>\n",
       "      <td>19.0</td>\n",
       "      <td>NaN</td>\n",
       "      <td>NaN</td>\n",
       "      <td>NaN</td>\n",
       "      <td>NaN</td>\n",
       "    </tr>\n",
       "    <tr>\n",
       "      <th>1330</th>\n",
       "      <td>NaN</td>\n",
       "      <td>56.0</td>\n",
       "      <td>69.0</td>\n",
       "      <td>78.0</td>\n",
       "      <td>61.0</td>\n",
       "      <td>78.0</td>\n",
       "      <td>76.0</td>\n",
       "      <td>72.0</td>\n",
       "      <td>81.0</td>\n",
       "      <td>84.0</td>\n",
       "      <td>79.0</td>\n",
       "      <td>69.0</td>\n",
       "    </tr>\n",
       "    <tr>\n",
       "      <th>1243</th>\n",
       "      <td>NaN</td>\n",
       "      <td>NaN</td>\n",
       "      <td>NaN</td>\n",
       "      <td>NaN</td>\n",
       "      <td>NaN</td>\n",
       "      <td>62.0</td>\n",
       "      <td>60.0</td>\n",
       "      <td>82.0</td>\n",
       "      <td>82.0</td>\n",
       "      <td>82.0</td>\n",
       "      <td>79.0</td>\n",
       "      <td>85.0</td>\n",
       "    </tr>\n",
       "    <tr>\n",
       "      <th>1171</th>\n",
       "      <td>NaN</td>\n",
       "      <td>NaN</td>\n",
       "      <td>23.0</td>\n",
       "      <td>64.0</td>\n",
       "      <td>70.0</td>\n",
       "      <td>54.0</td>\n",
       "      <td>68.0</td>\n",
       "      <td>72.0</td>\n",
       "      <td>71.0</td>\n",
       "      <td>70.0</td>\n",
       "      <td>78.0</td>\n",
       "      <td>90.0</td>\n",
       "    </tr>\n",
       "    <tr>\n",
       "      <th>1037</th>\n",
       "      <td>NaN</td>\n",
       "      <td>NaN</td>\n",
       "      <td>NaN</td>\n",
       "      <td>NaN</td>\n",
       "      <td>NaN</td>\n",
       "      <td>NaN</td>\n",
       "      <td>NaN</td>\n",
       "      <td>NaN</td>\n",
       "      <td>NaN</td>\n",
       "      <td>16.0</td>\n",
       "      <td>18.0</td>\n",
       "      <td>26.0</td>\n",
       "    </tr>\n",
       "  </tbody>\n",
       "</table>\n",
       "</div>"
      ],
      "text/plain": [
       "month      1     2     3     4     5     6     7     8     9     10    11  \\\n",
       "user_id                                                                     \n",
       "1071     16.0  19.0  15.0  16.0   8.0  23.0  17.0  19.0   NaN   NaN   NaN   \n",
       "1330      NaN  56.0  69.0  78.0  61.0  78.0  76.0  72.0  81.0  84.0  79.0   \n",
       "1243      NaN   NaN   NaN   NaN   NaN  62.0  60.0  82.0  82.0  82.0  79.0   \n",
       "1171      NaN   NaN  23.0  64.0  70.0  54.0  68.0  72.0  71.0  70.0  78.0   \n",
       "1037      NaN   NaN   NaN   NaN   NaN   NaN   NaN   NaN   NaN  16.0  18.0   \n",
       "\n",
       "month      12  \n",
       "user_id        \n",
       "1071      NaN  \n",
       "1330     69.0  \n",
       "1243     85.0  \n",
       "1171     90.0  \n",
       "1037     26.0  "
      ]
     },
     "execution_count": 95,
     "metadata": {},
     "output_type": "execute_result"
    }
   ],
   "source": [
    "messages_pivot = messages.pivot_table(index = 'user_id', \n",
    "                                      columns = 'month', \n",
    "                                      values = 'id', \n",
    "                                      aggfunc='count', \n",
    "                                      dropna=False)\n",
    "messages_pivot.sample(5)"
   ]
  },
  {
   "cell_type": "code",
   "execution_count": 96,
   "metadata": {},
   "outputs": [
    {
     "data": {
      "text/html": [
       "<div>\n",
       "<style scoped>\n",
       "    .dataframe tbody tr th:only-of-type {\n",
       "        vertical-align: middle;\n",
       "    }\n",
       "\n",
       "    .dataframe tbody tr th {\n",
       "        vertical-align: top;\n",
       "    }\n",
       "\n",
       "    .dataframe thead th {\n",
       "        text-align: right;\n",
       "    }\n",
       "</style>\n",
       "<table border=\"1\" class=\"dataframe\">\n",
       "  <thead>\n",
       "    <tr style=\"text-align: right;\">\n",
       "      <th>month</th>\n",
       "      <th>1</th>\n",
       "      <th>2</th>\n",
       "      <th>3</th>\n",
       "      <th>4</th>\n",
       "      <th>5</th>\n",
       "      <th>6</th>\n",
       "      <th>7</th>\n",
       "      <th>8</th>\n",
       "      <th>9</th>\n",
       "      <th>10</th>\n",
       "      <th>11</th>\n",
       "      <th>12</th>\n",
       "    </tr>\n",
       "    <tr>\n",
       "      <th>user_id</th>\n",
       "      <th></th>\n",
       "      <th></th>\n",
       "      <th></th>\n",
       "      <th></th>\n",
       "      <th></th>\n",
       "      <th></th>\n",
       "      <th></th>\n",
       "      <th></th>\n",
       "      <th></th>\n",
       "      <th></th>\n",
       "      <th></th>\n",
       "      <th></th>\n",
       "    </tr>\n",
       "  </thead>\n",
       "  <tbody>\n",
       "    <tr>\n",
       "      <th>1402</th>\n",
       "      <td>NaN</td>\n",
       "      <td>NaN</td>\n",
       "      <td>19036.0</td>\n",
       "      <td>25151.0</td>\n",
       "      <td>28974.0</td>\n",
       "      <td>27444.0</td>\n",
       "      <td>27260.0</td>\n",
       "      <td>33121.0</td>\n",
       "      <td>22431.0</td>\n",
       "      <td>22877.0</td>\n",
       "      <td>20727.0</td>\n",
       "      <td>27819.0</td>\n",
       "    </tr>\n",
       "    <tr>\n",
       "      <th>1417</th>\n",
       "      <td>NaN</td>\n",
       "      <td>NaN</td>\n",
       "      <td>NaN</td>\n",
       "      <td>NaN</td>\n",
       "      <td>NaN</td>\n",
       "      <td>NaN</td>\n",
       "      <td>4702.0</td>\n",
       "      <td>12952.0</td>\n",
       "      <td>15787.0</td>\n",
       "      <td>12040.0</td>\n",
       "      <td>17604.0</td>\n",
       "      <td>14638.0</td>\n",
       "    </tr>\n",
       "    <tr>\n",
       "      <th>1450</th>\n",
       "      <td>NaN</td>\n",
       "      <td>NaN</td>\n",
       "      <td>NaN</td>\n",
       "      <td>NaN</td>\n",
       "      <td>NaN</td>\n",
       "      <td>NaN</td>\n",
       "      <td>NaN</td>\n",
       "      <td>NaN</td>\n",
       "      <td>NaN</td>\n",
       "      <td>13394.0</td>\n",
       "      <td>23195.0</td>\n",
       "      <td>18129.0</td>\n",
       "    </tr>\n",
       "    <tr>\n",
       "      <th>1327</th>\n",
       "      <td>NaN</td>\n",
       "      <td>NaN</td>\n",
       "      <td>NaN</td>\n",
       "      <td>9827.0</td>\n",
       "      <td>15310.0</td>\n",
       "      <td>20634.0</td>\n",
       "      <td>11610.0</td>\n",
       "      <td>17374.0</td>\n",
       "      <td>16064.0</td>\n",
       "      <td>18775.0</td>\n",
       "      <td>14625.0</td>\n",
       "      <td>19018.0</td>\n",
       "    </tr>\n",
       "    <tr>\n",
       "      <th>1153</th>\n",
       "      <td>NaN</td>\n",
       "      <td>NaN</td>\n",
       "      <td>NaN</td>\n",
       "      <td>NaN</td>\n",
       "      <td>NaN</td>\n",
       "      <td>NaN</td>\n",
       "      <td>NaN</td>\n",
       "      <td>NaN</td>\n",
       "      <td>NaN</td>\n",
       "      <td>8367.0</td>\n",
       "      <td>18784.0</td>\n",
       "      <td>28515.0</td>\n",
       "    </tr>\n",
       "  </tbody>\n",
       "</table>\n",
       "</div>"
      ],
      "text/plain": [
       "month    1   2        3        4        5        6        7        8   \\\n",
       "user_id                                                                 \n",
       "1402    NaN NaN  19036.0  25151.0  28974.0  27444.0  27260.0  33121.0   \n",
       "1417    NaN NaN      NaN      NaN      NaN      NaN   4702.0  12952.0   \n",
       "1450    NaN NaN      NaN      NaN      NaN      NaN      NaN      NaN   \n",
       "1327    NaN NaN      NaN   9827.0  15310.0  20634.0  11610.0  17374.0   \n",
       "1153    NaN NaN      NaN      NaN      NaN      NaN      NaN      NaN   \n",
       "\n",
       "month         9        10       11       12  \n",
       "user_id                                      \n",
       "1402     22431.0  22877.0  20727.0  27819.0  \n",
       "1417     15787.0  12040.0  17604.0  14638.0  \n",
       "1450         NaN  13394.0  23195.0  18129.0  \n",
       "1327     16064.0  18775.0  14625.0  19018.0  \n",
       "1153         NaN   8367.0  18784.0  28515.0  "
      ]
     },
     "execution_count": 96,
     "metadata": {},
     "output_type": "execute_result"
    }
   ],
   "source": [
    "internet_pivot = internet.pivot_table(index = 'user_id', \n",
    "                                      columns = 'month', \n",
    "                                      values = 'mb_used', \n",
    "                                      aggfunc='sum', \n",
    "                                      dropna=False)\n",
    "internet_pivot.sample(5)"
   ]
  },
  {
   "cell_type": "markdown",
   "metadata": {},
   "source": [
    "#### Добавим в датафрейм users месяц начала пользования тарифом и месяц окончания (12, если нет указаний о том что закончен раньше)"
   ]
  },
  {
   "cell_type": "code",
   "execution_count": 97,
   "metadata": {},
   "outputs": [],
   "source": [
    "month_add(users, 'reg_date', 'start_month')"
   ]
  },
  {
   "cell_type": "code",
   "execution_count": 98,
   "metadata": {},
   "outputs": [],
   "source": [
    "month_add(users, 'churn_date', 'stop_month')"
   ]
  },
  {
   "cell_type": "code",
   "execution_count": 99,
   "metadata": {},
   "outputs": [],
   "source": [
    "users['stop_month'] = users['stop_month'].fillna(12).astype('int16')"
   ]
  },
  {
   "cell_type": "markdown",
   "metadata": {},
   "source": [
    "#### Проверим, с первого ли месяца подключения начинали пользоваться тарифом"
   ]
  },
  {
   "cell_type": "code",
   "execution_count": 100,
   "metadata": {},
   "outputs": [],
   "source": [
    "def use_check(df):\n",
    "    \"\"\"\n",
    "    Функция ищет пропуски в сводных таблицах и заменяет их на 0 \n",
    "    если тариф был подключен а звонки, сообщения или интернет не использовались\n",
    "    \"\"\"\n",
    "    index_of_bad ={}\n",
    "    for index in df.index:\n",
    "        for column in df.columns:\n",
    "            start = users.loc[(index-1000), 'start_month']\n",
    "            stop = users.loc[(index-1000), 'stop_month']\n",
    "            if np.isnan(df.loc[index, column]) and column >= start and column <= stop:\n",
    "                df.loc[index, column] = 0\n",
    "                index_of_bad[index] = column\n",
    "            elif not np.isnan(df.loc[index, column]) and column < start and column > stop:\n",
    "                df.loc[index, column] = np.nan\n",
    "                index_of_bad[index] = ('x',column)\n",
    "    return print('Пропуски найдены в следующих ячейках:', index_of_bad)"
   ]
  },
  {
   "cell_type": "code",
   "execution_count": 101,
   "metadata": {},
   "outputs": [
    {
     "name": "stdout",
     "output_type": "stream",
     "text": [
      "Пропуски найдены в следующих ячейках: {1373: 6, 1476: 4}\n"
     ]
    }
   ],
   "source": [
    "use_check(calls_pivot)"
   ]
  },
  {
   "cell_type": "code",
   "execution_count": 102,
   "metadata": {},
   "outputs": [
    {
     "name": "stdout",
     "output_type": "stream",
     "text": [
      "Пропуски найдены в следующих ячейках: {1377: 2, 1392: 2, 1446: 8}\n"
     ]
    }
   ],
   "source": [
    "use_check(internet_pivot)"
   ]
  },
  {
   "cell_type": "code",
   "execution_count": 103,
   "metadata": {},
   "outputs": [
    {
     "name": "stdout",
     "output_type": "stream",
     "text": [
      "Пропуски найдены в следующих ячейках: {1036: 12, 1041: 11, 1051: 10, 1090: 12, 1109: 7, 1159: 11, 1198: 12, 1263: 4, 1279: 9, 1287: 9, 1340: 1, 1384: 4, 1389: 9, 1413: 12, 1439: 6, 1455: 3, 1458: 2, 1476: 4}\n"
     ]
    }
   ],
   "source": [
    "use_check(messages_pivot)"
   ]
  },
  {
   "cell_type": "markdown",
   "metadata": {},
   "source": [
    "#### Добавим в сводные таблицы людей не пользовавшихся соответствующими услугами связи"
   ]
  },
  {
   "cell_type": "code",
   "execution_count": 104,
   "metadata": {},
   "outputs": [],
   "source": [
    "def add_indexes(df):\n",
    "    \"\"\"\n",
    "    Функция добавления в сводные информации о людях не пользовавшихся соответствующими услугами связи\n",
    "    \"\"\"\n",
    "    for index in users.query('user_id not in @df.index').index:\n",
    "        user_id_1 = users.loc[index]['user_id']\n",
    "        df.loc[user_id_1] = np.nan\n",
    "        for column in df.columns:\n",
    "            if column >= users.loc[index]['start_month'] and column <= users.loc[index]['stop_month']:\n",
    "                df.loc[user_id_1][column] = 0\n",
    "    df.sort_index(inplace = True)"
   ]
  },
  {
   "cell_type": "code",
   "execution_count": 105,
   "metadata": {},
   "outputs": [],
   "source": [
    "add_indexes(internet_pivot)\n",
    "add_indexes(calls_pivot)\n",
    "add_indexes(messages_pivot)"
   ]
  },
  {
   "cell_type": "code",
   "execution_count": 106,
   "metadata": {},
   "outputs": [
    {
     "data": {
      "text/html": [
       "<div>\n",
       "<style scoped>\n",
       "    .dataframe tbody tr th:only-of-type {\n",
       "        vertical-align: middle;\n",
       "    }\n",
       "\n",
       "    .dataframe tbody tr th {\n",
       "        vertical-align: top;\n",
       "    }\n",
       "\n",
       "    .dataframe thead th {\n",
       "        text-align: right;\n",
       "    }\n",
       "</style>\n",
       "<table border=\"1\" class=\"dataframe\">\n",
       "  <thead>\n",
       "    <tr style=\"text-align: right;\">\n",
       "      <th>month</th>\n",
       "      <th>1</th>\n",
       "      <th>2</th>\n",
       "      <th>3</th>\n",
       "      <th>4</th>\n",
       "      <th>5</th>\n",
       "      <th>6</th>\n",
       "      <th>7</th>\n",
       "      <th>8</th>\n",
       "      <th>9</th>\n",
       "      <th>10</th>\n",
       "      <th>11</th>\n",
       "      <th>12</th>\n",
       "    </tr>\n",
       "    <tr>\n",
       "      <th>user_id</th>\n",
       "      <th></th>\n",
       "      <th></th>\n",
       "      <th></th>\n",
       "      <th></th>\n",
       "      <th></th>\n",
       "      <th></th>\n",
       "      <th></th>\n",
       "      <th></th>\n",
       "      <th></th>\n",
       "      <th></th>\n",
       "      <th></th>\n",
       "      <th></th>\n",
       "    </tr>\n",
       "  </thead>\n",
       "  <tbody>\n",
       "    <tr>\n",
       "      <th>1468</th>\n",
       "      <td>NaN</td>\n",
       "      <td>10777.0</td>\n",
       "      <td>7457.0</td>\n",
       "      <td>12228.0</td>\n",
       "      <td>18224.0</td>\n",
       "      <td>19698.0</td>\n",
       "      <td>14901.0</td>\n",
       "      <td>12987.0</td>\n",
       "      <td>14894.0</td>\n",
       "      <td>15986.0</td>\n",
       "      <td>14101.0</td>\n",
       "      <td>16614.0</td>\n",
       "    </tr>\n",
       "    <tr>\n",
       "      <th>1440</th>\n",
       "      <td>NaN</td>\n",
       "      <td>NaN</td>\n",
       "      <td>NaN</td>\n",
       "      <td>NaN</td>\n",
       "      <td>3373.0</td>\n",
       "      <td>19825.0</td>\n",
       "      <td>27098.0</td>\n",
       "      <td>26039.0</td>\n",
       "      <td>23135.0</td>\n",
       "      <td>21470.0</td>\n",
       "      <td>18255.0</td>\n",
       "      <td>24806.0</td>\n",
       "    </tr>\n",
       "    <tr>\n",
       "      <th>1020</th>\n",
       "      <td>NaN</td>\n",
       "      <td>NaN</td>\n",
       "      <td>NaN</td>\n",
       "      <td>NaN</td>\n",
       "      <td>NaN</td>\n",
       "      <td>NaN</td>\n",
       "      <td>NaN</td>\n",
       "      <td>NaN</td>\n",
       "      <td>NaN</td>\n",
       "      <td>5609.0</td>\n",
       "      <td>20194.0</td>\n",
       "      <td>11036.0</td>\n",
       "    </tr>\n",
       "    <tr>\n",
       "      <th>1241</th>\n",
       "      <td>NaN</td>\n",
       "      <td>NaN</td>\n",
       "      <td>NaN</td>\n",
       "      <td>NaN</td>\n",
       "      <td>26964.0</td>\n",
       "      <td>23819.0</td>\n",
       "      <td>34800.0</td>\n",
       "      <td>34437.0</td>\n",
       "      <td>25415.0</td>\n",
       "      <td>29246.0</td>\n",
       "      <td>26432.0</td>\n",
       "      <td>27489.0</td>\n",
       "    </tr>\n",
       "    <tr>\n",
       "      <th>1293</th>\n",
       "      <td>NaN</td>\n",
       "      <td>NaN</td>\n",
       "      <td>NaN</td>\n",
       "      <td>NaN</td>\n",
       "      <td>NaN</td>\n",
       "      <td>NaN</td>\n",
       "      <td>NaN</td>\n",
       "      <td>NaN</td>\n",
       "      <td>15792.0</td>\n",
       "      <td>10033.0</td>\n",
       "      <td>9282.0</td>\n",
       "      <td>NaN</td>\n",
       "    </tr>\n",
       "  </tbody>\n",
       "</table>\n",
       "</div>"
      ],
      "text/plain": [
       "month    1        2       3        4        5        6        7        8   \\\n",
       "user_id                                                                     \n",
       "1468    NaN  10777.0  7457.0  12228.0  18224.0  19698.0  14901.0  12987.0   \n",
       "1440    NaN      NaN     NaN      NaN   3373.0  19825.0  27098.0  26039.0   \n",
       "1020    NaN      NaN     NaN      NaN      NaN      NaN      NaN      NaN   \n",
       "1241    NaN      NaN     NaN      NaN  26964.0  23819.0  34800.0  34437.0   \n",
       "1293    NaN      NaN     NaN      NaN      NaN      NaN      NaN      NaN   \n",
       "\n",
       "month         9        10       11       12  \n",
       "user_id                                      \n",
       "1468     14894.0  15986.0  14101.0  16614.0  \n",
       "1440     23135.0  21470.0  18255.0  24806.0  \n",
       "1020         NaN   5609.0  20194.0  11036.0  \n",
       "1241     25415.0  29246.0  26432.0  27489.0  \n",
       "1293     15792.0  10033.0   9282.0      NaN  "
      ]
     },
     "execution_count": 106,
     "metadata": {},
     "output_type": "execute_result"
    }
   ],
   "source": [
    "internet_pivot.sample(5)"
   ]
  },
  {
   "cell_type": "code",
   "execution_count": 107,
   "metadata": {},
   "outputs": [
    {
     "data": {
      "text/html": [
       "<div>\n",
       "<style scoped>\n",
       "    .dataframe tbody tr th:only-of-type {\n",
       "        vertical-align: middle;\n",
       "    }\n",
       "\n",
       "    .dataframe tbody tr th {\n",
       "        vertical-align: top;\n",
       "    }\n",
       "\n",
       "    .dataframe thead th {\n",
       "        text-align: right;\n",
       "    }\n",
       "</style>\n",
       "<table border=\"1\" class=\"dataframe\">\n",
       "  <thead>\n",
       "    <tr style=\"text-align: right;\">\n",
       "      <th>month</th>\n",
       "      <th>1</th>\n",
       "      <th>2</th>\n",
       "      <th>3</th>\n",
       "      <th>4</th>\n",
       "      <th>5</th>\n",
       "      <th>6</th>\n",
       "      <th>7</th>\n",
       "      <th>8</th>\n",
       "      <th>9</th>\n",
       "      <th>10</th>\n",
       "      <th>11</th>\n",
       "      <th>12</th>\n",
       "    </tr>\n",
       "    <tr>\n",
       "      <th>user_id</th>\n",
       "      <th></th>\n",
       "      <th></th>\n",
       "      <th></th>\n",
       "      <th></th>\n",
       "      <th></th>\n",
       "      <th></th>\n",
       "      <th></th>\n",
       "      <th></th>\n",
       "      <th></th>\n",
       "      <th></th>\n",
       "      <th></th>\n",
       "      <th></th>\n",
       "    </tr>\n",
       "  </thead>\n",
       "  <tbody>\n",
       "    <tr>\n",
       "      <th>1292</th>\n",
       "      <td>NaN</td>\n",
       "      <td>74.0</td>\n",
       "      <td>248.0</td>\n",
       "      <td>378.0</td>\n",
       "      <td>268.0</td>\n",
       "      <td>355.0</td>\n",
       "      <td>262.0</td>\n",
       "      <td>304.0</td>\n",
       "      <td>307.0</td>\n",
       "      <td>333.0</td>\n",
       "      <td>274.0</td>\n",
       "      <td>274.0</td>\n",
       "    </tr>\n",
       "    <tr>\n",
       "      <th>1226</th>\n",
       "      <td>NaN</td>\n",
       "      <td>NaN</td>\n",
       "      <td>NaN</td>\n",
       "      <td>NaN</td>\n",
       "      <td>NaN</td>\n",
       "      <td>177.0</td>\n",
       "      <td>280.0</td>\n",
       "      <td>180.0</td>\n",
       "      <td>179.0</td>\n",
       "      <td>199.0</td>\n",
       "      <td>154.0</td>\n",
       "      <td>166.0</td>\n",
       "    </tr>\n",
       "    <tr>\n",
       "      <th>1366</th>\n",
       "      <td>NaN</td>\n",
       "      <td>NaN</td>\n",
       "      <td>NaN</td>\n",
       "      <td>NaN</td>\n",
       "      <td>NaN</td>\n",
       "      <td>201.0</td>\n",
       "      <td>258.0</td>\n",
       "      <td>185.0</td>\n",
       "      <td>183.0</td>\n",
       "      <td>310.0</td>\n",
       "      <td>289.0</td>\n",
       "      <td>285.0</td>\n",
       "    </tr>\n",
       "    <tr>\n",
       "      <th>1356</th>\n",
       "      <td>NaN</td>\n",
       "      <td>NaN</td>\n",
       "      <td>NaN</td>\n",
       "      <td>399.0</td>\n",
       "      <td>1145.0</td>\n",
       "      <td>916.0</td>\n",
       "      <td>997.0</td>\n",
       "      <td>1119.0</td>\n",
       "      <td>1020.0</td>\n",
       "      <td>911.0</td>\n",
       "      <td>1191.0</td>\n",
       "      <td>1093.0</td>\n",
       "    </tr>\n",
       "    <tr>\n",
       "      <th>1432</th>\n",
       "      <td>NaN</td>\n",
       "      <td>NaN</td>\n",
       "      <td>NaN</td>\n",
       "      <td>NaN</td>\n",
       "      <td>NaN</td>\n",
       "      <td>NaN</td>\n",
       "      <td>NaN</td>\n",
       "      <td>520.0</td>\n",
       "      <td>874.0</td>\n",
       "      <td>918.0</td>\n",
       "      <td>769.0</td>\n",
       "      <td>745.0</td>\n",
       "    </tr>\n",
       "  </tbody>\n",
       "</table>\n",
       "</div>"
      ],
      "text/plain": [
       "month    1     2      3      4       5      6      7       8       9      10  \\\n",
       "user_id                                                                        \n",
       "1292    NaN  74.0  248.0  378.0   268.0  355.0  262.0   304.0   307.0  333.0   \n",
       "1226    NaN   NaN    NaN    NaN     NaN  177.0  280.0   180.0   179.0  199.0   \n",
       "1366    NaN   NaN    NaN    NaN     NaN  201.0  258.0   185.0   183.0  310.0   \n",
       "1356    NaN   NaN    NaN  399.0  1145.0  916.0  997.0  1119.0  1020.0  911.0   \n",
       "1432    NaN   NaN    NaN    NaN     NaN    NaN    NaN   520.0   874.0  918.0   \n",
       "\n",
       "month        11      12  \n",
       "user_id                  \n",
       "1292      274.0   274.0  \n",
       "1226      154.0   166.0  \n",
       "1366      289.0   285.0  \n",
       "1356     1191.0  1093.0  \n",
       "1432      769.0   745.0  "
      ]
     },
     "execution_count": 107,
     "metadata": {},
     "output_type": "execute_result"
    }
   ],
   "source": [
    "calls_pivot.sample(5)"
   ]
  },
  {
   "cell_type": "code",
   "execution_count": 108,
   "metadata": {},
   "outputs": [
    {
     "data": {
      "text/html": [
       "<div>\n",
       "<style scoped>\n",
       "    .dataframe tbody tr th:only-of-type {\n",
       "        vertical-align: middle;\n",
       "    }\n",
       "\n",
       "    .dataframe tbody tr th {\n",
       "        vertical-align: top;\n",
       "    }\n",
       "\n",
       "    .dataframe thead th {\n",
       "        text-align: right;\n",
       "    }\n",
       "</style>\n",
       "<table border=\"1\" class=\"dataframe\">\n",
       "  <thead>\n",
       "    <tr style=\"text-align: right;\">\n",
       "      <th>month</th>\n",
       "      <th>1</th>\n",
       "      <th>2</th>\n",
       "      <th>3</th>\n",
       "      <th>4</th>\n",
       "      <th>5</th>\n",
       "      <th>6</th>\n",
       "      <th>7</th>\n",
       "      <th>8</th>\n",
       "      <th>9</th>\n",
       "      <th>10</th>\n",
       "      <th>11</th>\n",
       "      <th>12</th>\n",
       "    </tr>\n",
       "    <tr>\n",
       "      <th>user_id</th>\n",
       "      <th></th>\n",
       "      <th></th>\n",
       "      <th></th>\n",
       "      <th></th>\n",
       "      <th></th>\n",
       "      <th></th>\n",
       "      <th></th>\n",
       "      <th></th>\n",
       "      <th></th>\n",
       "      <th></th>\n",
       "      <th></th>\n",
       "      <th></th>\n",
       "    </tr>\n",
       "  </thead>\n",
       "  <tbody>\n",
       "    <tr>\n",
       "      <th>1128</th>\n",
       "      <td>NaN</td>\n",
       "      <td>NaN</td>\n",
       "      <td>NaN</td>\n",
       "      <td>NaN</td>\n",
       "      <td>NaN</td>\n",
       "      <td>NaN</td>\n",
       "      <td>NaN</td>\n",
       "      <td>NaN</td>\n",
       "      <td>NaN</td>\n",
       "      <td>NaN</td>\n",
       "      <td>NaN</td>\n",
       "      <td>0.0</td>\n",
       "    </tr>\n",
       "    <tr>\n",
       "      <th>1046</th>\n",
       "      <td>NaN</td>\n",
       "      <td>NaN</td>\n",
       "      <td>NaN</td>\n",
       "      <td>NaN</td>\n",
       "      <td>NaN</td>\n",
       "      <td>NaN</td>\n",
       "      <td>NaN</td>\n",
       "      <td>13.0</td>\n",
       "      <td>34.0</td>\n",
       "      <td>37.0</td>\n",
       "      <td>33.0</td>\n",
       "      <td>48.0</td>\n",
       "    </tr>\n",
       "    <tr>\n",
       "      <th>1381</th>\n",
       "      <td>32.0</td>\n",
       "      <td>44.0</td>\n",
       "      <td>41.0</td>\n",
       "      <td>40.0</td>\n",
       "      <td>46.0</td>\n",
       "      <td>36.0</td>\n",
       "      <td>29.0</td>\n",
       "      <td>42.0</td>\n",
       "      <td>43.0</td>\n",
       "      <td>43.0</td>\n",
       "      <td>41.0</td>\n",
       "      <td>55.0</td>\n",
       "    </tr>\n",
       "    <tr>\n",
       "      <th>1227</th>\n",
       "      <td>27.0</td>\n",
       "      <td>27.0</td>\n",
       "      <td>32.0</td>\n",
       "      <td>28.0</td>\n",
       "      <td>38.0</td>\n",
       "      <td>20.0</td>\n",
       "      <td>23.0</td>\n",
       "      <td>20.0</td>\n",
       "      <td>30.0</td>\n",
       "      <td>34.0</td>\n",
       "      <td>26.0</td>\n",
       "      <td>31.0</td>\n",
       "    </tr>\n",
       "    <tr>\n",
       "      <th>1086</th>\n",
       "      <td>NaN</td>\n",
       "      <td>NaN</td>\n",
       "      <td>NaN</td>\n",
       "      <td>6.0</td>\n",
       "      <td>28.0</td>\n",
       "      <td>23.0</td>\n",
       "      <td>41.0</td>\n",
       "      <td>43.0</td>\n",
       "      <td>30.0</td>\n",
       "      <td>52.0</td>\n",
       "      <td>36.0</td>\n",
       "      <td>29.0</td>\n",
       "    </tr>\n",
       "  </tbody>\n",
       "</table>\n",
       "</div>"
      ],
      "text/plain": [
       "month      1     2     3     4     5     6     7     8     9     10    11  \\\n",
       "user_id                                                                     \n",
       "1128      NaN   NaN   NaN   NaN   NaN   NaN   NaN   NaN   NaN   NaN   NaN   \n",
       "1046      NaN   NaN   NaN   NaN   NaN   NaN   NaN  13.0  34.0  37.0  33.0   \n",
       "1381     32.0  44.0  41.0  40.0  46.0  36.0  29.0  42.0  43.0  43.0  41.0   \n",
       "1227     27.0  27.0  32.0  28.0  38.0  20.0  23.0  20.0  30.0  34.0  26.0   \n",
       "1086      NaN   NaN   NaN   6.0  28.0  23.0  41.0  43.0  30.0  52.0  36.0   \n",
       "\n",
       "month      12  \n",
       "user_id        \n",
       "1128      0.0  \n",
       "1046     48.0  \n",
       "1381     55.0  \n",
       "1227     31.0  \n",
       "1086     29.0  "
      ]
     },
     "execution_count": 108,
     "metadata": {},
     "output_type": "execute_result"
    }
   ],
   "source": [
    "messages_pivot.sample(5)"
   ]
  },
  {
   "cell_type": "markdown",
   "metadata": {},
   "source": [
    "#### Соберем сводную таблицу с затратами на услуги связи по месяцам\n"
   ]
  },
  {
   "cell_type": "code",
   "execution_count": 109,
   "metadata": {},
   "outputs": [],
   "source": [
    "users_1 = users.copy(deep=True)"
   ]
  },
  {
   "cell_type": "code",
   "execution_count": 110,
   "metadata": {},
   "outputs": [
    {
     "data": {
      "text/html": [
       "<div>\n",
       "<style scoped>\n",
       "    .dataframe tbody tr th:only-of-type {\n",
       "        vertical-align: middle;\n",
       "    }\n",
       "\n",
       "    .dataframe tbody tr th {\n",
       "        vertical-align: top;\n",
       "    }\n",
       "\n",
       "    .dataframe thead th {\n",
       "        text-align: right;\n",
       "    }\n",
       "</style>\n",
       "<table border=\"1\" class=\"dataframe\">\n",
       "  <thead>\n",
       "    <tr style=\"text-align: right;\">\n",
       "      <th></th>\n",
       "      <th>messages_included</th>\n",
       "      <th>mb_per_month_included</th>\n",
       "      <th>minutes_included</th>\n",
       "      <th>rub_monthly_fee</th>\n",
       "      <th>rub_per_gb</th>\n",
       "      <th>rub_per_message</th>\n",
       "      <th>rub_per_minute</th>\n",
       "      <th>tariff_name</th>\n",
       "    </tr>\n",
       "  </thead>\n",
       "  <tbody>\n",
       "    <tr>\n",
       "      <th>0</th>\n",
       "      <td>50</td>\n",
       "      <td>15360</td>\n",
       "      <td>500</td>\n",
       "      <td>550</td>\n",
       "      <td>200</td>\n",
       "      <td>3</td>\n",
       "      <td>3</td>\n",
       "      <td>smart</td>\n",
       "    </tr>\n",
       "    <tr>\n",
       "      <th>1</th>\n",
       "      <td>1000</td>\n",
       "      <td>30720</td>\n",
       "      <td>3000</td>\n",
       "      <td>1950</td>\n",
       "      <td>150</td>\n",
       "      <td>1</td>\n",
       "      <td>1</td>\n",
       "      <td>ultra</td>\n",
       "    </tr>\n",
       "  </tbody>\n",
       "</table>\n",
       "</div>"
      ],
      "text/plain": [
       "   messages_included  mb_per_month_included  minutes_included  \\\n",
       "0                 50                  15360               500   \n",
       "1               1000                  30720              3000   \n",
       "\n",
       "   rub_monthly_fee  rub_per_gb  rub_per_message  rub_per_minute tariff_name  \n",
       "0              550         200                3               3       smart  \n",
       "1             1950         150                1               1       ultra  "
      ]
     },
     "execution_count": 110,
     "metadata": {},
     "output_type": "execute_result"
    }
   ],
   "source": [
    "tariffs"
   ]
  },
  {
   "cell_type": "code",
   "execution_count": 111,
   "metadata": {},
   "outputs": [],
   "source": [
    "internet_over_cost = internet_pivot.copy(deep=True).fillna(0)"
   ]
  },
  {
   "cell_type": "code",
   "execution_count": 112,
   "metadata": {},
   "outputs": [],
   "source": [
    "internet_over_cost = internet_over_cost.merge(\n",
    "    users[['user_id','tariff']], \n",
    "    on='user_id', \n",
    "    right_index=True)"
   ]
  },
  {
   "cell_type": "code",
   "execution_count": 113,
   "metadata": {},
   "outputs": [],
   "source": [
    "internet_over_cost = internet_over_cost.reset_index().merge(\n",
    "    tariffs[['tariff_name','mb_per_month_included','rub_per_gb']],\n",
    "    left_on=['tariff'], \n",
    "    right_on='tariff_name', \n",
    "    how='left').set_index('user_id')"
   ]
  },
  {
   "cell_type": "code",
   "execution_count": 114,
   "metadata": {},
   "outputs": [],
   "source": [
    "def cost_int_count(row):\n",
    "    \n",
    "    for column in range(1, 13):\n",
    "        row[column] = (max(math.ceil((row[column] - row['mb_per_month_included'])/1024),0)*row['rub_per_gb'])\n",
    "    return row"
   ]
  },
  {
   "cell_type": "code",
   "execution_count": 115,
   "metadata": {},
   "outputs": [],
   "source": [
    "internet_over_cost = internet_over_cost.apply(cost_int_count, axis=1)"
   ]
  },
  {
   "cell_type": "code",
   "execution_count": 116,
   "metadata": {},
   "outputs": [],
   "source": [
    "messages_over_cost = messages_pivot.copy(deep=True).fillna(0)"
   ]
  },
  {
   "cell_type": "code",
   "execution_count": 117,
   "metadata": {},
   "outputs": [],
   "source": [
    "messages_over_cost = messages_over_cost.merge(\n",
    "    users[['user_id','tariff']], \n",
    "    on='user_id', \n",
    "    right_index=True)"
   ]
  },
  {
   "cell_type": "code",
   "execution_count": 119,
   "metadata": {},
   "outputs": [],
   "source": [
    "messages_over_cost = messages_over_cost.reset_index().merge(\n",
    "    tariffs[['tariff_name','messages_included','rub_per_message']],\n",
    "    left_on=['tariff'], \n",
    "    right_on='tariff_name', \n",
    "    how='left').set_index('user_id')"
   ]
  },
  {
   "cell_type": "code",
   "execution_count": 120,
   "metadata": {},
   "outputs": [
    {
     "data": {
      "text/html": [
       "<div>\n",
       "<style scoped>\n",
       "    .dataframe tbody tr th:only-of-type {\n",
       "        vertical-align: middle;\n",
       "    }\n",
       "\n",
       "    .dataframe tbody tr th {\n",
       "        vertical-align: top;\n",
       "    }\n",
       "\n",
       "    .dataframe thead th {\n",
       "        text-align: right;\n",
       "    }\n",
       "</style>\n",
       "<table border=\"1\" class=\"dataframe\">\n",
       "  <thead>\n",
       "    <tr style=\"text-align: right;\">\n",
       "      <th></th>\n",
       "      <th>1</th>\n",
       "      <th>2</th>\n",
       "      <th>3</th>\n",
       "      <th>4</th>\n",
       "      <th>5</th>\n",
       "      <th>6</th>\n",
       "      <th>7</th>\n",
       "      <th>8</th>\n",
       "      <th>9</th>\n",
       "      <th>10</th>\n",
       "      <th>11</th>\n",
       "      <th>12</th>\n",
       "      <th>tariff</th>\n",
       "      <th>tariff_name</th>\n",
       "      <th>messages_included</th>\n",
       "      <th>rub_per_message</th>\n",
       "    </tr>\n",
       "    <tr>\n",
       "      <th>user_id</th>\n",
       "      <th></th>\n",
       "      <th></th>\n",
       "      <th></th>\n",
       "      <th></th>\n",
       "      <th></th>\n",
       "      <th></th>\n",
       "      <th></th>\n",
       "      <th></th>\n",
       "      <th></th>\n",
       "      <th></th>\n",
       "      <th></th>\n",
       "      <th></th>\n",
       "      <th></th>\n",
       "      <th></th>\n",
       "      <th></th>\n",
       "      <th></th>\n",
       "    </tr>\n",
       "  </thead>\n",
       "  <tbody>\n",
       "    <tr>\n",
       "      <th>1000</th>\n",
       "      <td>0.0</td>\n",
       "      <td>0.0</td>\n",
       "      <td>0.0</td>\n",
       "      <td>0.0</td>\n",
       "      <td>22.0</td>\n",
       "      <td>60.0</td>\n",
       "      <td>75.0</td>\n",
       "      <td>81.0</td>\n",
       "      <td>57.0</td>\n",
       "      <td>73.0</td>\n",
       "      <td>58.0</td>\n",
       "      <td>70.0</td>\n",
       "      <td>ultra</td>\n",
       "      <td>ultra</td>\n",
       "      <td>1000</td>\n",
       "      <td>1</td>\n",
       "    </tr>\n",
       "    <tr>\n",
       "      <th>1001</th>\n",
       "      <td>0.0</td>\n",
       "      <td>0.0</td>\n",
       "      <td>0.0</td>\n",
       "      <td>0.0</td>\n",
       "      <td>0.0</td>\n",
       "      <td>0.0</td>\n",
       "      <td>0.0</td>\n",
       "      <td>0.0</td>\n",
       "      <td>0.0</td>\n",
       "      <td>0.0</td>\n",
       "      <td>0.0</td>\n",
       "      <td>0.0</td>\n",
       "      <td>smart</td>\n",
       "      <td>smart</td>\n",
       "      <td>50</td>\n",
       "      <td>3</td>\n",
       "    </tr>\n",
       "    <tr>\n",
       "      <th>1002</th>\n",
       "      <td>0.0</td>\n",
       "      <td>0.0</td>\n",
       "      <td>0.0</td>\n",
       "      <td>0.0</td>\n",
       "      <td>0.0</td>\n",
       "      <td>4.0</td>\n",
       "      <td>11.0</td>\n",
       "      <td>13.0</td>\n",
       "      <td>4.0</td>\n",
       "      <td>10.0</td>\n",
       "      <td>16.0</td>\n",
       "      <td>12.0</td>\n",
       "      <td>smart</td>\n",
       "      <td>smart</td>\n",
       "      <td>50</td>\n",
       "      <td>3</td>\n",
       "    </tr>\n",
       "    <tr>\n",
       "      <th>1003</th>\n",
       "      <td>0.0</td>\n",
       "      <td>0.0</td>\n",
       "      <td>0.0</td>\n",
       "      <td>0.0</td>\n",
       "      <td>0.0</td>\n",
       "      <td>0.0</td>\n",
       "      <td>0.0</td>\n",
       "      <td>37.0</td>\n",
       "      <td>91.0</td>\n",
       "      <td>83.0</td>\n",
       "      <td>94.0</td>\n",
       "      <td>75.0</td>\n",
       "      <td>ultra</td>\n",
       "      <td>ultra</td>\n",
       "      <td>1000</td>\n",
       "      <td>1</td>\n",
       "    </tr>\n",
       "    <tr>\n",
       "      <th>1004</th>\n",
       "      <td>0.0</td>\n",
       "      <td>0.0</td>\n",
       "      <td>0.0</td>\n",
       "      <td>0.0</td>\n",
       "      <td>95.0</td>\n",
       "      <td>134.0</td>\n",
       "      <td>181.0</td>\n",
       "      <td>151.0</td>\n",
       "      <td>146.0</td>\n",
       "      <td>165.0</td>\n",
       "      <td>158.0</td>\n",
       "      <td>162.0</td>\n",
       "      <td>ultra</td>\n",
       "      <td>ultra</td>\n",
       "      <td>1000</td>\n",
       "      <td>1</td>\n",
       "    </tr>\n",
       "    <tr>\n",
       "      <th>...</th>\n",
       "      <td>...</td>\n",
       "      <td>...</td>\n",
       "      <td>...</td>\n",
       "      <td>...</td>\n",
       "      <td>...</td>\n",
       "      <td>...</td>\n",
       "      <td>...</td>\n",
       "      <td>...</td>\n",
       "      <td>...</td>\n",
       "      <td>...</td>\n",
       "      <td>...</td>\n",
       "      <td>...</td>\n",
       "      <td>...</td>\n",
       "      <td>...</td>\n",
       "      <td>...</td>\n",
       "      <td>...</td>\n",
       "    </tr>\n",
       "    <tr>\n",
       "      <th>1495</th>\n",
       "      <td>0.0</td>\n",
       "      <td>0.0</td>\n",
       "      <td>0.0</td>\n",
       "      <td>0.0</td>\n",
       "      <td>0.0</td>\n",
       "      <td>0.0</td>\n",
       "      <td>0.0</td>\n",
       "      <td>13.0</td>\n",
       "      <td>82.0</td>\n",
       "      <td>82.0</td>\n",
       "      <td>79.0</td>\n",
       "      <td>84.0</td>\n",
       "      <td>ultra</td>\n",
       "      <td>ultra</td>\n",
       "      <td>1000</td>\n",
       "      <td>1</td>\n",
       "    </tr>\n",
       "    <tr>\n",
       "      <th>1496</th>\n",
       "      <td>9.0</td>\n",
       "      <td>45.0</td>\n",
       "      <td>46.0</td>\n",
       "      <td>49.0</td>\n",
       "      <td>40.0</td>\n",
       "      <td>35.0</td>\n",
       "      <td>42.0</td>\n",
       "      <td>41.0</td>\n",
       "      <td>29.0</td>\n",
       "      <td>35.0</td>\n",
       "      <td>46.0</td>\n",
       "      <td>51.0</td>\n",
       "      <td>smart</td>\n",
       "      <td>smart</td>\n",
       "      <td>50</td>\n",
       "      <td>3</td>\n",
       "    </tr>\n",
       "    <tr>\n",
       "      <th>1497</th>\n",
       "      <td>0.0</td>\n",
       "      <td>0.0</td>\n",
       "      <td>0.0</td>\n",
       "      <td>0.0</td>\n",
       "      <td>0.0</td>\n",
       "      <td>0.0</td>\n",
       "      <td>0.0</td>\n",
       "      <td>0.0</td>\n",
       "      <td>0.0</td>\n",
       "      <td>20.0</td>\n",
       "      <td>14.0</td>\n",
       "      <td>17.0</td>\n",
       "      <td>smart</td>\n",
       "      <td>smart</td>\n",
       "      <td>50</td>\n",
       "      <td>3</td>\n",
       "    </tr>\n",
       "    <tr>\n",
       "      <th>1498</th>\n",
       "      <td>0.0</td>\n",
       "      <td>0.0</td>\n",
       "      <td>0.0</td>\n",
       "      <td>0.0</td>\n",
       "      <td>0.0</td>\n",
       "      <td>0.0</td>\n",
       "      <td>20.0</td>\n",
       "      <td>62.0</td>\n",
       "      <td>44.0</td>\n",
       "      <td>42.0</td>\n",
       "      <td>0.0</td>\n",
       "      <td>0.0</td>\n",
       "      <td>smart</td>\n",
       "      <td>smart</td>\n",
       "      <td>50</td>\n",
       "      <td>3</td>\n",
       "    </tr>\n",
       "    <tr>\n",
       "      <th>1499</th>\n",
       "      <td>0.0</td>\n",
       "      <td>0.0</td>\n",
       "      <td>0.0</td>\n",
       "      <td>0.0</td>\n",
       "      <td>0.0</td>\n",
       "      <td>0.0</td>\n",
       "      <td>0.0</td>\n",
       "      <td>0.0</td>\n",
       "      <td>11.0</td>\n",
       "      <td>48.0</td>\n",
       "      <td>59.0</td>\n",
       "      <td>66.0</td>\n",
       "      <td>smart</td>\n",
       "      <td>smart</td>\n",
       "      <td>50</td>\n",
       "      <td>3</td>\n",
       "    </tr>\n",
       "  </tbody>\n",
       "</table>\n",
       "<p>500 rows × 16 columns</p>\n",
       "</div>"
      ],
      "text/plain": [
       "           1     2     3     4     5      6      7      8      9     10  \\\n",
       "user_id                                                                   \n",
       "1000     0.0   0.0   0.0   0.0  22.0   60.0   75.0   81.0   57.0   73.0   \n",
       "1001     0.0   0.0   0.0   0.0   0.0    0.0    0.0    0.0    0.0    0.0   \n",
       "1002     0.0   0.0   0.0   0.0   0.0    4.0   11.0   13.0    4.0   10.0   \n",
       "1003     0.0   0.0   0.0   0.0   0.0    0.0    0.0   37.0   91.0   83.0   \n",
       "1004     0.0   0.0   0.0   0.0  95.0  134.0  181.0  151.0  146.0  165.0   \n",
       "...      ...   ...   ...   ...   ...    ...    ...    ...    ...    ...   \n",
       "1495     0.0   0.0   0.0   0.0   0.0    0.0    0.0   13.0   82.0   82.0   \n",
       "1496     9.0  45.0  46.0  49.0  40.0   35.0   42.0   41.0   29.0   35.0   \n",
       "1497     0.0   0.0   0.0   0.0   0.0    0.0    0.0    0.0    0.0   20.0   \n",
       "1498     0.0   0.0   0.0   0.0   0.0    0.0   20.0   62.0   44.0   42.0   \n",
       "1499     0.0   0.0   0.0   0.0   0.0    0.0    0.0    0.0   11.0   48.0   \n",
       "\n",
       "            11     12 tariff tariff_name  messages_included  rub_per_message  \n",
       "user_id                                                                       \n",
       "1000      58.0   70.0  ultra       ultra               1000                1  \n",
       "1001       0.0    0.0  smart       smart                 50                3  \n",
       "1002      16.0   12.0  smart       smart                 50                3  \n",
       "1003      94.0   75.0  ultra       ultra               1000                1  \n",
       "1004     158.0  162.0  ultra       ultra               1000                1  \n",
       "...        ...    ...    ...         ...                ...              ...  \n",
       "1495      79.0   84.0  ultra       ultra               1000                1  \n",
       "1496      46.0   51.0  smart       smart                 50                3  \n",
       "1497      14.0   17.0  smart       smart                 50                3  \n",
       "1498       0.0    0.0  smart       smart                 50                3  \n",
       "1499      59.0   66.0  smart       smart                 50                3  \n",
       "\n",
       "[500 rows x 16 columns]"
      ]
     },
     "execution_count": 120,
     "metadata": {},
     "output_type": "execute_result"
    }
   ],
   "source": [
    "messages_over_cost"
   ]
  },
  {
   "cell_type": "code",
   "execution_count": 121,
   "metadata": {},
   "outputs": [],
   "source": [
    "def cost_mes_count(row):\n",
    "    for column in range(1, 13):\n",
    "        row[column] = (max((row[column] - row['messages_included']),0)*row['rub_per_message'])\n",
    "    return row"
   ]
  },
  {
   "cell_type": "code",
   "execution_count": 122,
   "metadata": {},
   "outputs": [],
   "source": [
    "messages_over_cost = messages_over_cost.apply(cost_mes_count, axis=1)"
   ]
  },
  {
   "cell_type": "code",
   "execution_count": 123,
   "metadata": {},
   "outputs": [],
   "source": [
    "cost = pd.DataFrame(index = calls_pivot.index, columns = calls_pivot.columns)"
   ]
  },
  {
   "cell_type": "code",
   "execution_count": 124,
   "metadata": {},
   "outputs": [],
   "source": [
    "#Цикл заполняет таблицу cost величиной ежемесячного платежа в зависимости от тарифного плана\n",
    "for index in users.index:\n",
    "    user_id_1 = users.loc[index]['user_id']\n",
    "    tariff_1 = users.loc[index]['tariff']\n",
    "    for column in cost.columns:\n",
    "        if column >= users.loc[index]['start_month'] and column <= users.loc[index]['stop_month']:\n",
    "            cost.loc[user_id_1, column] = tariffs.query('tariff_name == @tariff_1')['rub_monthly_fee'].values[0]"
   ]
  },
  {
   "cell_type": "code",
   "execution_count": 125,
   "metadata": {},
   "outputs": [],
   "source": [
    "internet_over_cost = internet_pivot.copy(deep=True).fillna(0)"
   ]
  },
  {
   "cell_type": "code",
   "execution_count": 128,
   "metadata": {},
   "outputs": [
    {
     "data": {
      "text/html": [
       "<div>\n",
       "<style scoped>\n",
       "    .dataframe tbody tr th:only-of-type {\n",
       "        vertical-align: middle;\n",
       "    }\n",
       "\n",
       "    .dataframe tbody tr th {\n",
       "        vertical-align: top;\n",
       "    }\n",
       "\n",
       "    .dataframe thead th {\n",
       "        text-align: right;\n",
       "    }\n",
       "</style>\n",
       "<table border=\"1\" class=\"dataframe\">\n",
       "  <thead>\n",
       "    <tr style=\"text-align: right;\">\n",
       "      <th>month</th>\n",
       "      <th>1</th>\n",
       "      <th>2</th>\n",
       "      <th>3</th>\n",
       "      <th>4</th>\n",
       "      <th>5</th>\n",
       "      <th>6</th>\n",
       "      <th>7</th>\n",
       "      <th>8</th>\n",
       "      <th>9</th>\n",
       "      <th>10</th>\n",
       "      <th>11</th>\n",
       "      <th>12</th>\n",
       "    </tr>\n",
       "    <tr>\n",
       "      <th>user_id</th>\n",
       "      <th></th>\n",
       "      <th></th>\n",
       "      <th></th>\n",
       "      <th></th>\n",
       "      <th></th>\n",
       "      <th></th>\n",
       "      <th></th>\n",
       "      <th></th>\n",
       "      <th></th>\n",
       "      <th></th>\n",
       "      <th></th>\n",
       "      <th></th>\n",
       "    </tr>\n",
       "  </thead>\n",
       "  <tbody>\n",
       "    <tr>\n",
       "      <th>1000</th>\n",
       "      <td>0.0</td>\n",
       "      <td>0.0</td>\n",
       "      <td>0.0</td>\n",
       "      <td>0.0</td>\n",
       "      <td>0.0</td>\n",
       "      <td>0.0</td>\n",
       "      <td>0.0</td>\n",
       "      <td>0.0</td>\n",
       "      <td>0.0</td>\n",
       "      <td>0.0</td>\n",
       "      <td>0.0</td>\n",
       "      <td>0.0</td>\n",
       "    </tr>\n",
       "    <tr>\n",
       "      <th>1001</th>\n",
       "      <td>0.0</td>\n",
       "      <td>0.0</td>\n",
       "      <td>0.0</td>\n",
       "      <td>0.0</td>\n",
       "      <td>0.0</td>\n",
       "      <td>0.0</td>\n",
       "      <td>0.0</td>\n",
       "      <td>0.0</td>\n",
       "      <td>0.0</td>\n",
       "      <td>0.0</td>\n",
       "      <td>1200.0</td>\n",
       "      <td>200.0</td>\n",
       "    </tr>\n",
       "    <tr>\n",
       "      <th>1002</th>\n",
       "      <td>0.0</td>\n",
       "      <td>0.0</td>\n",
       "      <td>0.0</td>\n",
       "      <td>0.0</td>\n",
       "      <td>0.0</td>\n",
       "      <td>0.0</td>\n",
       "      <td>1400.0</td>\n",
       "      <td>1600.0</td>\n",
       "      <td>1200.0</td>\n",
       "      <td>400.0</td>\n",
       "      <td>1400.0</td>\n",
       "      <td>1200.0</td>\n",
       "    </tr>\n",
       "    <tr>\n",
       "      <th>1003</th>\n",
       "      <td>0.0</td>\n",
       "      <td>0.0</td>\n",
       "      <td>0.0</td>\n",
       "      <td>0.0</td>\n",
       "      <td>0.0</td>\n",
       "      <td>0.0</td>\n",
       "      <td>0.0</td>\n",
       "      <td>0.0</td>\n",
       "      <td>0.0</td>\n",
       "      <td>0.0</td>\n",
       "      <td>0.0</td>\n",
       "      <td>0.0</td>\n",
       "    </tr>\n",
       "    <tr>\n",
       "      <th>1004</th>\n",
       "      <td>0.0</td>\n",
       "      <td>0.0</td>\n",
       "      <td>0.0</td>\n",
       "      <td>0.0</td>\n",
       "      <td>0.0</td>\n",
       "      <td>0.0</td>\n",
       "      <td>0.0</td>\n",
       "      <td>0.0</td>\n",
       "      <td>0.0</td>\n",
       "      <td>0.0</td>\n",
       "      <td>0.0</td>\n",
       "      <td>0.0</td>\n",
       "    </tr>\n",
       "    <tr>\n",
       "      <th>...</th>\n",
       "      <td>...</td>\n",
       "      <td>...</td>\n",
       "      <td>...</td>\n",
       "      <td>...</td>\n",
       "      <td>...</td>\n",
       "      <td>...</td>\n",
       "      <td>...</td>\n",
       "      <td>...</td>\n",
       "      <td>...</td>\n",
       "      <td>...</td>\n",
       "      <td>...</td>\n",
       "      <td>...</td>\n",
       "    </tr>\n",
       "    <tr>\n",
       "      <th>1495</th>\n",
       "      <td>0.0</td>\n",
       "      <td>0.0</td>\n",
       "      <td>0.0</td>\n",
       "      <td>0.0</td>\n",
       "      <td>0.0</td>\n",
       "      <td>0.0</td>\n",
       "      <td>0.0</td>\n",
       "      <td>0.0</td>\n",
       "      <td>600.0</td>\n",
       "      <td>300.0</td>\n",
       "      <td>1350.0</td>\n",
       "      <td>0.0</td>\n",
       "    </tr>\n",
       "    <tr>\n",
       "      <th>1496</th>\n",
       "      <td>0.0</td>\n",
       "      <td>3600.0</td>\n",
       "      <td>2600.0</td>\n",
       "      <td>2200.0</td>\n",
       "      <td>2400.0</td>\n",
       "      <td>1800.0</td>\n",
       "      <td>2600.0</td>\n",
       "      <td>2200.0</td>\n",
       "      <td>3200.0</td>\n",
       "      <td>3400.0</td>\n",
       "      <td>3400.0</td>\n",
       "      <td>2000.0</td>\n",
       "    </tr>\n",
       "    <tr>\n",
       "      <th>1497</th>\n",
       "      <td>0.0</td>\n",
       "      <td>0.0</td>\n",
       "      <td>0.0</td>\n",
       "      <td>0.0</td>\n",
       "      <td>0.0</td>\n",
       "      <td>0.0</td>\n",
       "      <td>0.0</td>\n",
       "      <td>0.0</td>\n",
       "      <td>0.0</td>\n",
       "      <td>0.0</td>\n",
       "      <td>400.0</td>\n",
       "      <td>1400.0</td>\n",
       "    </tr>\n",
       "    <tr>\n",
       "      <th>1498</th>\n",
       "      <td>0.0</td>\n",
       "      <td>0.0</td>\n",
       "      <td>0.0</td>\n",
       "      <td>0.0</td>\n",
       "      <td>0.0</td>\n",
       "      <td>0.0</td>\n",
       "      <td>0.0</td>\n",
       "      <td>2400.0</td>\n",
       "      <td>2600.0</td>\n",
       "      <td>1800.0</td>\n",
       "      <td>0.0</td>\n",
       "      <td>0.0</td>\n",
       "    </tr>\n",
       "    <tr>\n",
       "      <th>1499</th>\n",
       "      <td>0.0</td>\n",
       "      <td>0.0</td>\n",
       "      <td>0.0</td>\n",
       "      <td>0.0</td>\n",
       "      <td>0.0</td>\n",
       "      <td>0.0</td>\n",
       "      <td>0.0</td>\n",
       "      <td>0.0</td>\n",
       "      <td>0.0</td>\n",
       "      <td>1600.0</td>\n",
       "      <td>1200.0</td>\n",
       "      <td>0.0</td>\n",
       "    </tr>\n",
       "  </tbody>\n",
       "</table>\n",
       "<p>500 rows × 12 columns</p>\n",
       "</div>"
      ],
      "text/plain": [
       "month     1       2       3       4       5       6       7       8       9   \\\n",
       "user_id                                                                        \n",
       "1000     0.0     0.0     0.0     0.0     0.0     0.0     0.0     0.0     0.0   \n",
       "1001     0.0     0.0     0.0     0.0     0.0     0.0     0.0     0.0     0.0   \n",
       "1002     0.0     0.0     0.0     0.0     0.0     0.0  1400.0  1600.0  1200.0   \n",
       "1003     0.0     0.0     0.0     0.0     0.0     0.0     0.0     0.0     0.0   \n",
       "1004     0.0     0.0     0.0     0.0     0.0     0.0     0.0     0.0     0.0   \n",
       "...      ...     ...     ...     ...     ...     ...     ...     ...     ...   \n",
       "1495     0.0     0.0     0.0     0.0     0.0     0.0     0.0     0.0   600.0   \n",
       "1496     0.0  3600.0  2600.0  2200.0  2400.0  1800.0  2600.0  2200.0  3200.0   \n",
       "1497     0.0     0.0     0.0     0.0     0.0     0.0     0.0     0.0     0.0   \n",
       "1498     0.0     0.0     0.0     0.0     0.0     0.0     0.0  2400.0  2600.0   \n",
       "1499     0.0     0.0     0.0     0.0     0.0     0.0     0.0     0.0     0.0   \n",
       "\n",
       "month        10      11      12  \n",
       "user_id                          \n",
       "1000        0.0     0.0     0.0  \n",
       "1001        0.0  1200.0   200.0  \n",
       "1002      400.0  1400.0  1200.0  \n",
       "1003        0.0     0.0     0.0  \n",
       "1004        0.0     0.0     0.0  \n",
       "...         ...     ...     ...  \n",
       "1495      300.0  1350.0     0.0  \n",
       "1496     3400.0  3400.0  2000.0  \n",
       "1497        0.0   400.0  1400.0  \n",
       "1498     1800.0     0.0     0.0  \n",
       "1499     1600.0  1200.0     0.0  \n",
       "\n",
       "[500 rows x 12 columns]"
      ]
     },
     "execution_count": 128,
     "metadata": {},
     "output_type": "execute_result"
    }
   ],
   "source": [
    "internet_over_cost"
   ]
  },
  {
   "cell_type": "code",
   "execution_count": 127,
   "metadata": {},
   "outputs": [],
   "source": [
    "#Цикл считает стоимость перерасходованного трафика\n",
    "for ind in internet_over_cost.index:\n",
    "    tariff_1 = users.query('user_id == @ind')['tariff'].values[0]\n",
    "    for column in internet_over_cost.columns:\n",
    "        internet_over_cost.loc[ind, column] = max(((math.ceil((internet_over_cost.loc[ind, column]\n",
    "                                               - tariffs.query('tariff_name == @tariff_1')['mb_per_month_included'].values[0]) / 1024)) \n",
    "                                               * tariffs.query('tariff_name == @tariff_1')['rub_per_gb'].values[0]), 0)"
   ]
  },
  {
   "cell_type": "code",
   "execution_count": 129,
   "metadata": {},
   "outputs": [],
   "source": [
    "messages_over_cost = messages_pivot.copy(deep=True).fillna(0)"
   ]
  },
  {
   "cell_type": "code",
   "execution_count": 130,
   "metadata": {},
   "outputs": [],
   "source": [
    "#Цикл считает стоимость перерасходованных СМСок\n",
    "for ind in messages_over_cost.index:\n",
    "    tariff_1 = users.query('user_id == @ind')['tariff'].values[0]\n",
    "    for column in messages_over_cost.columns:\n",
    "        messages_over_cost.loc[ind, column] = max(((messages_over_cost.loc[ind, column] \n",
    "                                                    - tariffs.query('tariff_name == @tariff_1')['messages_included'].values[0]) \n",
    "                                               * tariffs.query('tariff_name == @tariff_1')['rub_per_message'].values[0]), 0)"
   ]
  },
  {
   "cell_type": "code",
   "execution_count": 131,
   "metadata": {},
   "outputs": [],
   "source": [
    "calls_over_cost = calls_pivot.copy(deep=True).fillna(0)"
   ]
  },
  {
   "cell_type": "code",
   "execution_count": 132,
   "metadata": {},
   "outputs": [],
   "source": [
    "#Цикл считает стоимость перерасходованных минут разговора\n",
    "for ind in calls_over_cost.index:\n",
    "    tariff_1 = users.query('user_id == @ind')['tariff'].values[0]\n",
    "    for column in calls_over_cost.columns:\n",
    "        calls_over_cost.loc[ind, column] = max(((calls_over_cost.loc[ind, column] \n",
    "                                                    - tariffs.query('tariff_name == @tariff_1')['minutes_included'].values[0]) \n",
    "                                               * tariffs.query('tariff_name == @tariff_1')['rub_per_minute'].values[0]), 0)"
   ]
  },
  {
   "cell_type": "code",
   "execution_count": 133,
   "metadata": {},
   "outputs": [],
   "source": [
    "#Складывая таблицы получим выручку с каждого пользователя в месяц\n",
    "cost = cost + calls_over_cost + internet_over_cost + messages_over_cost"
   ]
  },
  {
   "cell_type": "code",
   "execution_count": 134,
   "metadata": {},
   "outputs": [
    {
     "data": {
      "text/html": [
       "<div>\n",
       "<style scoped>\n",
       "    .dataframe tbody tr th:only-of-type {\n",
       "        vertical-align: middle;\n",
       "    }\n",
       "\n",
       "    .dataframe tbody tr th {\n",
       "        vertical-align: top;\n",
       "    }\n",
       "\n",
       "    .dataframe thead th {\n",
       "        text-align: right;\n",
       "    }\n",
       "</style>\n",
       "<table border=\"1\" class=\"dataframe\">\n",
       "  <thead>\n",
       "    <tr style=\"text-align: right;\">\n",
       "      <th>month</th>\n",
       "      <th>1</th>\n",
       "      <th>2</th>\n",
       "      <th>3</th>\n",
       "      <th>4</th>\n",
       "      <th>5</th>\n",
       "      <th>6</th>\n",
       "      <th>7</th>\n",
       "      <th>8</th>\n",
       "      <th>9</th>\n",
       "      <th>10</th>\n",
       "      <th>11</th>\n",
       "      <th>12</th>\n",
       "    </tr>\n",
       "    <tr>\n",
       "      <th>user_id</th>\n",
       "      <th></th>\n",
       "      <th></th>\n",
       "      <th></th>\n",
       "      <th></th>\n",
       "      <th></th>\n",
       "      <th></th>\n",
       "      <th></th>\n",
       "      <th></th>\n",
       "      <th></th>\n",
       "      <th></th>\n",
       "      <th></th>\n",
       "      <th></th>\n",
       "    </tr>\n",
       "  </thead>\n",
       "  <tbody>\n",
       "    <tr>\n",
       "      <th>1016</th>\n",
       "      <td>NaN</td>\n",
       "      <td>NaN</td>\n",
       "      <td>NaN</td>\n",
       "      <td>NaN</td>\n",
       "      <td>NaN</td>\n",
       "      <td>NaN</td>\n",
       "      <td>NaN</td>\n",
       "      <td>NaN</td>\n",
       "      <td>NaN</td>\n",
       "      <td>NaN</td>\n",
       "      <td>1950</td>\n",
       "      <td>1950</td>\n",
       "    </tr>\n",
       "    <tr>\n",
       "      <th>1122</th>\n",
       "      <td>NaN</td>\n",
       "      <td>NaN</td>\n",
       "      <td>NaN</td>\n",
       "      <td>NaN</td>\n",
       "      <td>NaN</td>\n",
       "      <td>NaN</td>\n",
       "      <td>NaN</td>\n",
       "      <td>NaN</td>\n",
       "      <td>NaN</td>\n",
       "      <td>NaN</td>\n",
       "      <td>1950</td>\n",
       "      <td>1950</td>\n",
       "    </tr>\n",
       "    <tr>\n",
       "      <th>1231</th>\n",
       "      <td>NaN</td>\n",
       "      <td>NaN</td>\n",
       "      <td>NaN</td>\n",
       "      <td>NaN</td>\n",
       "      <td>1950</td>\n",
       "      <td>1950</td>\n",
       "      <td>1950</td>\n",
       "      <td>2400</td>\n",
       "      <td>2550</td>\n",
       "      <td>2100</td>\n",
       "      <td>1950</td>\n",
       "      <td>2400</td>\n",
       "    </tr>\n",
       "    <tr>\n",
       "      <th>1471</th>\n",
       "      <td>NaN</td>\n",
       "      <td>1950</td>\n",
       "      <td>1950</td>\n",
       "      <td>1950</td>\n",
       "      <td>1950</td>\n",
       "      <td>1950</td>\n",
       "      <td>1950</td>\n",
       "      <td>1950</td>\n",
       "      <td>1950</td>\n",
       "      <td>1950</td>\n",
       "      <td>1950</td>\n",
       "      <td>1950</td>\n",
       "    </tr>\n",
       "    <tr>\n",
       "      <th>1365</th>\n",
       "      <td>NaN</td>\n",
       "      <td>NaN</td>\n",
       "      <td>NaN</td>\n",
       "      <td>NaN</td>\n",
       "      <td>NaN</td>\n",
       "      <td>NaN</td>\n",
       "      <td>NaN</td>\n",
       "      <td>NaN</td>\n",
       "      <td>NaN</td>\n",
       "      <td>550</td>\n",
       "      <td>3945</td>\n",
       "      <td>5637</td>\n",
       "    </tr>\n",
       "  </tbody>\n",
       "</table>\n",
       "</div>"
      ],
      "text/plain": [
       "month     1     2     3     4     5     6     7     8     9     10    11    12\n",
       "user_id                                                                       \n",
       "1016     NaN   NaN   NaN   NaN   NaN   NaN   NaN   NaN   NaN   NaN  1950  1950\n",
       "1122     NaN   NaN   NaN   NaN   NaN   NaN   NaN   NaN   NaN   NaN  1950  1950\n",
       "1231     NaN   NaN   NaN   NaN  1950  1950  1950  2400  2550  2100  1950  2400\n",
       "1471     NaN  1950  1950  1950  1950  1950  1950  1950  1950  1950  1950  1950\n",
       "1365     NaN   NaN   NaN   NaN   NaN   NaN   NaN   NaN   NaN   550  3945  5637"
      ]
     },
     "execution_count": 134,
     "metadata": {},
     "output_type": "execute_result"
    }
   ],
   "source": [
    "cost.sample(5)"
   ]
  },
  {
   "cell_type": "markdown",
   "metadata": {},
   "source": [
    "## Вывод по шагу 2.\n",
    "\n",
    "При анализе и обработке датафреймов обнаружено и выполнено следующее:\n",
    "1. В таблицах calls и internet в столбцах duration и mb_used нулевые значения. Вероятно нулевые значения возникли при переносе датафреймов. Нулевые значения были заменены средним значением продолжительности разговора и средним потребленным траффиком за сессию для каждого пользователя.\n",
    "2. Значения столбцов call_date, session_date, message_date, churn_date, reg_date датафреймов calls, internet, messages, users имели строковый формат и были приведены к формату DateTime.\n",
    "3. Значения столбцов duration и mb_used датафреймов calls и internet имели дробные значения. Они были округлены вверх, согласно условию предоставления тарифа, и преведены в формат int.\n",
    "4. В датафреймы calls, internet, messages добавлены столбцы с месяцем использования из соответствующих столбцов дат.\n",
    "5. Сформированы сводные таблицы звонков, использованного траффика и сообщений по каждому месяцу для каждого пользователя.\n",
    "6. В датафрейм users добавлены столбцы месяца начала использования тарифа и дату окончания. Если дата окончания использования не была указана, она назначалась 12-м месяцем.\n",
    "7. Сводные таблицы были проверены на предмет пользования всеми услугами связи с момента подключения до момента окончания. Если были обнаружены пропуски то они заполнялись нулями.\n",
    "8. Сводные таблицы были проверены на наличе тех пользователей которые не пользовались определенными услугами свзяи (например в течение года не отправляли сообщений или не пользовались интернетом). Для таких пользователей добавлены строки с нулевыми значениями.\n",
    "9. Сформирована сводная таблица затрат каждого пользователя на услуги связи по каждому месяцу.\n"
   ]
  },
  {
   "cell_type": "markdown",
   "metadata": {},
   "source": [
    "# Шаг 3. Проанализируйте данные"
   ]
  },
  {
   "cell_type": "markdown",
   "metadata": {},
   "source": [
    "#### Добавим в сводные таблицы для каждого пользователя название его тарифа"
   ]
  },
  {
   "cell_type": "code",
   "execution_count": 135,
   "metadata": {},
   "outputs": [],
   "source": [
    "def add_column(df, columns = ['tariff']):\n",
    "    \"\"\"\n",
    "    Функция добавления в датафрейм столбца из датафрейма users по значению user_id.\n",
    "    По умолчанию добавляется столбец tariff\n",
    "    \"\"\"\n",
    "    for column in columns:\n",
    "        df = df.merge(users[['user_id', column]], on ='user_id', right_index=True)\n",
    "    return df"
   ]
  },
  {
   "cell_type": "code",
   "execution_count": 136,
   "metadata": {},
   "outputs": [],
   "source": [
    "calls_pivot = add_column(calls_pivot)\n",
    "internet_pivot = add_column(internet_pivot)\n",
    "messages_pivot = add_column(messages_pivot)"
   ]
  },
  {
   "cell_type": "markdown",
   "metadata": {},
   "source": [
    "#### Добавим в сводные таблицы значения среднего за год (если не полный год использование тарифа то за количество месяцев использования)"
   ]
  },
  {
   "cell_type": "code",
   "execution_count": 137,
   "metadata": {},
   "outputs": [],
   "source": [
    "def count_year_mean(row):\n",
    "    \"\"\"\n",
    "    Функция добавляет столбец со средним значением объема пользования услугой.\n",
    "    \"\"\"\n",
    "    mean = 0\n",
    "    x = 0\n",
    "    i = 0\n",
    "    for column in range(1,13):\n",
    "        if row[column] > 0 and not np.isnan(row[column]):\n",
    "            i +=1\n",
    "            x = x + row[column]\n",
    "    try:\n",
    "        return np.ceil(x / i)\n",
    "    except ZeroDivisionError:\n",
    "        return 0"
   ]
  },
  {
   "cell_type": "code",
   "execution_count": 138,
   "metadata": {},
   "outputs": [],
   "source": [
    "calls_pivot['year_mean'] = calls_pivot.apply(count_year_mean, axis =1)\n",
    "internet_pivot['year_mean'] = internet_pivot.apply(count_year_mean, axis =1)\n",
    "messages_pivot['year_mean'] = messages_pivot.apply(count_year_mean, axis =1)"
   ]
  },
  {
   "cell_type": "markdown",
   "metadata": {},
   "source": [
    "#### Построим гистограммы по видам услуг для каждого месяца и в среднем за год использования"
   ]
  },
  {
   "cell_type": "code",
   "execution_count": 141,
   "metadata": {},
   "outputs": [],
   "source": [
    "def pivot_plot(df, b=40, f = (10,8), all_hist = False ):\n",
    "    \"\"\"\n",
    "    Функция выводит гистограммы и среднее, дисперсию и стандартное отклонение\n",
    "    по в среднем за год (по умолчанию) или по каждому месяцу (all_hist = True).\n",
    "    \"\"\"\n",
    "    print('Среднее значение:')\n",
    "    \n",
    "    if all_hist:\n",
    "        print(df.groupby('tariff').mean().round(0))\n",
    "    else:\n",
    "        print(df.groupby('tariff')['year_mean'].mean().round(0))\n",
    "    print()\n",
    "    print('Дисперсия:')\n",
    "    \n",
    "    if all_hist:\n",
    "        print(df.groupby('tariff').var().round(0))\n",
    "    else:\n",
    "        print(df.groupby('tariff')['year_mean'].var().round(0))\n",
    "    \n",
    "    print()\n",
    "    print('Стандартное отклонение')\n",
    "    if all_hist:\n",
    "        print(df.groupby('tariff').std().round(0))\n",
    "    else:\n",
    "        print(df.groupby('tariff')['year_mean'].std().round(0))\n",
    "    \n",
    "    if all_hist:\n",
    "        df.groupby('tariff').hist(bins = b, figsize = f)\n",
    "    else:\n",
    "        df.groupby('tariff')['year_mean'].hist(bins = b, figsize = f, alpha=0.5)\n",
    "        \n",
    "    if not all_hist:\n",
    "        df.groupby('tariff').boxplot(column = 'year_mean', figsize = f)\n",
    "      "
   ]
  },
  {
   "cell_type": "code",
   "execution_count": 142,
   "metadata": {},
   "outputs": [
    {
     "name": "stdout",
     "output_type": "stream",
     "text": [
      "Среднее значение:\n",
      "tariff\n",
      "smart    18736.0\n",
      "ultra    20368.0\n",
      "Name: year_mean, dtype: float64\n",
      "\n",
      "Дисперсия:\n",
      "tariff\n",
      "smart    18120240.0\n",
      "ultra    77516509.0\n",
      "Name: year_mean, dtype: float64\n",
      "\n",
      "Стандартное отклонение\n",
      "tariff\n",
      "smart    4257.0\n",
      "ultra    8804.0\n",
      "Name: year_mean, dtype: float64\n"
     ]
    },
    {
     "data": {
      "image/png": "[encoded data removed]",
      "text/plain": [
       "<Figure size 720x576 with 1 Axes>"
      ]
     },
     "metadata": {
      "needs_background": "light"
     },
     "output_type": "display_data"
    },
    {
     "data": {
      "image/png": "[encoded data removed]",
      "text/plain": [
       "<Figure size 720x576 with 2 Axes>"
      ]
     },
     "metadata": {
      "needs_background": "light"
     },
     "output_type": "display_data"
    }
   ],
   "source": [
    "pivot_plot(internet_pivot)"
   ]
  },
  {
   "cell_type": "code",
   "execution_count": 143,
   "metadata": {},
   "outputs": [
    {
     "name": "stdout",
     "output_type": "stream",
     "text": [
      "Среднее значение:\n",
      "tariff\n",
      "smart    501.0\n",
      "ultra    626.0\n",
      "Name: year_mean, dtype: float64\n",
      "\n",
      "Дисперсия:\n",
      "tariff\n",
      "smart     30432.0\n",
      "ultra    113837.0\n",
      "Name: year_mean, dtype: float64\n",
      "\n",
      "Стандартное отклонение\n",
      "tariff\n",
      "smart    174.0\n",
      "ultra    337.0\n",
      "Name: year_mean, dtype: float64\n"
     ]
    },
    {
     "data": {
      "image/png": "[encoded data removed]",
      "text/plain": [
       "<Figure size 720x576 with 1 Axes>"
      ]
     },
     "metadata": {
      "needs_background": "light"
     },
     "output_type": "display_data"
    },
    {
     "data": {
      "image/png": "[encoded data removed]",
      "text/plain": [
       "<Figure size 720x576 with 2 Axes>"
      ]
     },
     "metadata": {
      "needs_background": "light"
     },
     "output_type": "display_data"
    }
   ],
   "source": [
    "pivot_plot(calls_pivot)"
   ]
  },
  {
   "cell_type": "code",
   "execution_count": 144,
   "metadata": {},
   "outputs": [
    {
     "name": "stdout",
     "output_type": "stream",
     "text": [
      "Среднее значение:\n",
      "tariff\n",
      "smart    32.0\n",
      "ultra    54.0\n",
      "Name: year_mean, dtype: float64\n",
      "\n",
      "Дисперсия:\n",
      "tariff\n",
      "smart     701.0\n",
      "ultra    2149.0\n",
      "Name: year_mean, dtype: float64\n",
      "\n",
      "Стандартное отклонение\n",
      "tariff\n",
      "smart    26.0\n",
      "ultra    46.0\n",
      "Name: year_mean, dtype: float64\n"
     ]
    },
    {
     "data": {
      "image/png": "[encoded data removed]",
      "text/plain": [
       "<Figure size 720x576 with 1 Axes>"
      ]
     },
     "metadata": {
      "needs_background": "light"
     },
     "output_type": "display_data"
    },
    {
     "data": {
      "image/png": "[encoded data removed]",
      "text/plain": [
       "<Figure size 720x576 with 2 Axes>"
      ]
     },
     "metadata": {
      "needs_background": "light"
     },
     "output_type": "display_data"
    }
   ],
   "source": [
    "pivot_plot(messages_pivot)"
   ]
  },
  {
   "cell_type": "markdown",
   "metadata": {},
   "source": [
    "#### Определим процент пользователей пользовавшихся предоплаченным объемом услуг связи, представив генеральную совокупность как нормально-распределенную функцию со средним значением равным среднему значению выборки и среднеквадратичным отклонением как среднеквадратичное отклонение выборки"
   ]
  },
  {
   "cell_type": "code",
   "execution_count": 147,
   "metadata": {},
   "outputs": [],
   "source": [
    "def prepaid_norm(df, value, unit):\n",
    "    \"\"\"\n",
    "    Функция определяет процент пользователей воспользовавшихся услугами в предоплаченном объеме\n",
    "    \"\"\"\n",
    "    mu = df['year_mean'].mean()\n",
    "    sigma = df['year_mean'].std()\n",
    "    distr = st.norm(mu, sigma)\n",
    "    p = distr.cdf(value)\n",
    "    print('Процент пользователей пользовавшихся услугой связи в предоплаченном объеме ({} {}):'.format(value, unit))\n",
    "    return p.round(3)*100"
   ]
  },
  {
   "cell_type": "markdown",
   "metadata": {},
   "source": [
    "##### Услуги телефонной связи"
   ]
  },
  {
   "cell_type": "code",
   "execution_count": 148,
   "metadata": {},
   "outputs": [
    {
     "name": "stdout",
     "output_type": "stream",
     "text": [
      "Процент пользователей пользовавшихся услугой связи в предоплаченном объеме (500 минут):\n"
     ]
    },
    {
     "data": {
      "text/plain": [
       "49.8"
      ]
     },
     "execution_count": 148,
     "metadata": {},
     "output_type": "execute_result"
    }
   ],
   "source": [
    "prepaid_norm(calls_pivot.groupby('tariff').get_group('smart'), 500, 'минут')\n"
   ]
  },
  {
   "cell_type": "code",
   "execution_count": 149,
   "metadata": {},
   "outputs": [
    {
     "name": "stdout",
     "output_type": "stream",
     "text": [
      "Процент пользователей пользовавшихся услугой связи в предоплаченном объеме (3000 минут):\n"
     ]
    },
    {
     "data": {
      "text/plain": [
       "100.0"
      ]
     },
     "execution_count": 149,
     "metadata": {},
     "output_type": "execute_result"
    }
   ],
   "source": [
    "prepaid_norm(calls_pivot.groupby('tariff').get_group('ultra'), 3000, 'минут')\n"
   ]
  },
  {
   "cell_type": "markdown",
   "metadata": {},
   "source": [
    "##### Услуги мобильного интернета"
   ]
  },
  {
   "cell_type": "code",
   "execution_count": 150,
   "metadata": {},
   "outputs": [
    {
     "name": "stdout",
     "output_type": "stream",
     "text": [
      "Процент пользователей пользовавшихся услугой связи в предоплаченном объеме (15360 Мб):\n"
     ]
    },
    {
     "data": {
      "text/plain": [
       "21.4"
      ]
     },
     "execution_count": 150,
     "metadata": {},
     "output_type": "execute_result"
    }
   ],
   "source": [
    "prepaid_norm(internet_pivot.groupby('tariff').get_group('smart'), 15360, 'Мб')"
   ]
  },
  {
   "cell_type": "code",
   "execution_count": 151,
   "metadata": {},
   "outputs": [
    {
     "name": "stdout",
     "output_type": "stream",
     "text": [
      "Процент пользователей пользовавшихся услугой связи в предоплаченном объеме (30720 Мб):\n"
     ]
    },
    {
     "data": {
      "text/plain": [
       "88.0"
      ]
     },
     "execution_count": 151,
     "metadata": {},
     "output_type": "execute_result"
    }
   ],
   "source": [
    "prepaid_norm(internet_pivot.groupby('tariff').get_group('ultra'), 30720, 'Мб')"
   ]
  },
  {
   "cell_type": "markdown",
   "metadata": {},
   "source": [
    "##### Услуги СМС"
   ]
  },
  {
   "cell_type": "code",
   "execution_count": 152,
   "metadata": {},
   "outputs": [
    {
     "name": "stdout",
     "output_type": "stream",
     "text": [
      "Процент пользователей пользовавшихся услугой связи в предоплаченном объеме (50 sms):\n"
     ]
    },
    {
     "data": {
      "text/plain": [
       "74.7"
      ]
     },
     "execution_count": 152,
     "metadata": {},
     "output_type": "execute_result"
    }
   ],
   "source": [
    "prepaid_norm(messages_pivot.groupby('tariff').get_group('smart'), 50, 'sms')"
   ]
  },
  {
   "cell_type": "code",
   "execution_count": 153,
   "metadata": {},
   "outputs": [
    {
     "name": "stdout",
     "output_type": "stream",
     "text": [
      "Процент пользователей пользовавшихся услугой связи в предоплаченном объеме (1000 sms):\n"
     ]
    },
    {
     "data": {
      "text/plain": [
       "100.0"
      ]
     },
     "execution_count": 153,
     "metadata": {},
     "output_type": "execute_result"
    }
   ],
   "source": [
    "prepaid_norm(messages_pivot.groupby('tariff').get_group('ultra'), 1000, 'sms')"
   ]
  },
  {
   "cell_type": "markdown",
   "metadata": {},
   "source": [
    "## Вывод по шагу 3.\n",
    "#### Интернет:\n",
    "- Пользователи тарифа Смарт в среднем потребляют 18736 Мб трафика в месяц со среднеквадратичным отклонением 4257 Мб, при этом предоплачено по тарифу 15360 Мб.\n",
    "- Пользователи тарифа Ультра в среднем потребляют 20368 Мб трафика в месяц со среднеквадратичным отклонением 8804 Мб, при этом предоплачено по тарифу 30720 Мб.\n",
    "\n",
    "#### Звонки:\n",
    "- Пользователи тарифа Смарт разговаривают в среднем 501 минуту в месяц со среднеквадратичным отклонением в 174 минуты, при этом предоплачено по тарифу 500 минут разговора.\n",
    "- Пользователи тарифа Ультра разговаривают в среднем 626 минут в месяц со среднеквадратичным отклонением в 337 минут, при этом предоплачено по тарифу 3000 минут разговора.\n",
    "\n",
    "#### Сообщения:\n",
    "- Пользователи тарифа Смарт отправляют в среднем 32 сообщения в месяц со среднеквадратичным отклонением в 26 сообщений, при этом 50 сообщений.\n",
    "- Пользователи тарифа Ультра отправляют в среднем 54 сообщения в месяц со среднеквадратичным отклонением в 46 сообщений, при этом предоплачено 1000 сообщений.\n",
    "\n",
    "Большей части пользователей тарифа Ультра хватает предоплаченого объема услуг связи:\n",
    "- 100% пользователей не выговаривают 3000 минут,\n",
    "- 100% пользователей не отправляют более 1000 смс,\n",
    "- 88% пользователей не используют более 30Гб трафика.\n",
    "\n",
    "Иная ситуация с пользователями тарифа Смарт:\n",
    "- более 50% пользователей разговаривают больше 500 минут,\n",
    "- более 78% тратит больше 15Гб интернета,\n",
    "- почти 25% отправляют больше 50 смс."
   ]
  },
  {
   "cell_type": "markdown",
   "metadata": {},
   "source": [
    "## Шаг 4. Проверьте гипотезы"
   ]
  },
  {
   "cell_type": "code",
   "execution_count": 154,
   "metadata": {},
   "outputs": [],
   "source": [
    "for column in range(1,13):\n",
    "    cost[column] = pd.to_numeric(cost[column])"
   ]
  },
  {
   "cell_type": "markdown",
   "metadata": {},
   "source": [
    "#### Добавим к сводной таблице затрат название тарифа и город для каждого пользователя"
   ]
  },
  {
   "cell_type": "code",
   "execution_count": 155,
   "metadata": {},
   "outputs": [],
   "source": [
    "cost = add_column(cost, columns = ['city', 'tariff'])"
   ]
  },
  {
   "cell_type": "code",
   "execution_count": 156,
   "metadata": {},
   "outputs": [],
   "source": [
    "cost['year_mean'] = cost.apply(count_year_mean, axis =1)"
   ]
  },
  {
   "cell_type": "code",
   "execution_count": 157,
   "metadata": {},
   "outputs": [
    {
     "data": {
      "text/html": [
       "<div>\n",
       "<style scoped>\n",
       "    .dataframe tbody tr th:only-of-type {\n",
       "        vertical-align: middle;\n",
       "    }\n",
       "\n",
       "    .dataframe tbody tr th {\n",
       "        vertical-align: top;\n",
       "    }\n",
       "\n",
       "    .dataframe thead th {\n",
       "        text-align: right;\n",
       "    }\n",
       "</style>\n",
       "<table border=\"1\" class=\"dataframe\">\n",
       "  <thead>\n",
       "    <tr style=\"text-align: right;\">\n",
       "      <th></th>\n",
       "      <th>1</th>\n",
       "      <th>2</th>\n",
       "      <th>3</th>\n",
       "      <th>4</th>\n",
       "      <th>5</th>\n",
       "      <th>6</th>\n",
       "      <th>7</th>\n",
       "      <th>8</th>\n",
       "      <th>9</th>\n",
       "      <th>10</th>\n",
       "      <th>11</th>\n",
       "      <th>12</th>\n",
       "      <th>city</th>\n",
       "      <th>tariff</th>\n",
       "      <th>year_mean</th>\n",
       "    </tr>\n",
       "    <tr>\n",
       "      <th>user_id</th>\n",
       "      <th></th>\n",
       "      <th></th>\n",
       "      <th></th>\n",
       "      <th></th>\n",
       "      <th></th>\n",
       "      <th></th>\n",
       "      <th></th>\n",
       "      <th></th>\n",
       "      <th></th>\n",
       "      <th></th>\n",
       "      <th></th>\n",
       "      <th></th>\n",
       "      <th></th>\n",
       "      <th></th>\n",
       "      <th></th>\n",
       "    </tr>\n",
       "  </thead>\n",
       "  <tbody>\n",
       "    <tr>\n",
       "      <th>1000</th>\n",
       "      <td>NaN</td>\n",
       "      <td>NaN</td>\n",
       "      <td>NaN</td>\n",
       "      <td>NaN</td>\n",
       "      <td>1950.0</td>\n",
       "      <td>1950.0</td>\n",
       "      <td>1950.0</td>\n",
       "      <td>1950.0</td>\n",
       "      <td>1950.0</td>\n",
       "      <td>1950.0</td>\n",
       "      <td>1950.0</td>\n",
       "      <td>1950.0</td>\n",
       "      <td>Краснодар</td>\n",
       "      <td>ultra</td>\n",
       "      <td>1950.0</td>\n",
       "    </tr>\n",
       "    <tr>\n",
       "      <th>1001</th>\n",
       "      <td>NaN</td>\n",
       "      <td>NaN</td>\n",
       "      <td>NaN</td>\n",
       "      <td>NaN</td>\n",
       "      <td>NaN</td>\n",
       "      <td>NaN</td>\n",
       "      <td>NaN</td>\n",
       "      <td>NaN</td>\n",
       "      <td>NaN</td>\n",
       "      <td>NaN</td>\n",
       "      <td>1834.0</td>\n",
       "      <td>828.0</td>\n",
       "      <td>Москва</td>\n",
       "      <td>smart</td>\n",
       "      <td>1331.0</td>\n",
       "    </tr>\n",
       "    <tr>\n",
       "      <th>1002</th>\n",
       "      <td>NaN</td>\n",
       "      <td>NaN</td>\n",
       "      <td>NaN</td>\n",
       "      <td>NaN</td>\n",
       "      <td>NaN</td>\n",
       "      <td>550.0</td>\n",
       "      <td>1950.0</td>\n",
       "      <td>2150.0</td>\n",
       "      <td>1750.0</td>\n",
       "      <td>950.0</td>\n",
       "      <td>1950.0</td>\n",
       "      <td>1750.0</td>\n",
       "      <td>Стерлитамак</td>\n",
       "      <td>smart</td>\n",
       "      <td>1579.0</td>\n",
       "    </tr>\n",
       "    <tr>\n",
       "      <th>1003</th>\n",
       "      <td>NaN</td>\n",
       "      <td>NaN</td>\n",
       "      <td>NaN</td>\n",
       "      <td>NaN</td>\n",
       "      <td>NaN</td>\n",
       "      <td>NaN</td>\n",
       "      <td>NaN</td>\n",
       "      <td>1950.0</td>\n",
       "      <td>1950.0</td>\n",
       "      <td>1950.0</td>\n",
       "      <td>1950.0</td>\n",
       "      <td>1950.0</td>\n",
       "      <td>Москва</td>\n",
       "      <td>ultra</td>\n",
       "      <td>1950.0</td>\n",
       "    </tr>\n",
       "    <tr>\n",
       "      <th>1004</th>\n",
       "      <td>NaN</td>\n",
       "      <td>NaN</td>\n",
       "      <td>NaN</td>\n",
       "      <td>NaN</td>\n",
       "      <td>1950.0</td>\n",
       "      <td>1950.0</td>\n",
       "      <td>1950.0</td>\n",
       "      <td>1950.0</td>\n",
       "      <td>1950.0</td>\n",
       "      <td>1950.0</td>\n",
       "      <td>1950.0</td>\n",
       "      <td>1950.0</td>\n",
       "      <td>Новокузнецк</td>\n",
       "      <td>ultra</td>\n",
       "      <td>1950.0</td>\n",
       "    </tr>\n",
       "    <tr>\n",
       "      <th>...</th>\n",
       "      <td>...</td>\n",
       "      <td>...</td>\n",
       "      <td>...</td>\n",
       "      <td>...</td>\n",
       "      <td>...</td>\n",
       "      <td>...</td>\n",
       "      <td>...</td>\n",
       "      <td>...</td>\n",
       "      <td>...</td>\n",
       "      <td>...</td>\n",
       "      <td>...</td>\n",
       "      <td>...</td>\n",
       "      <td>...</td>\n",
       "      <td>...</td>\n",
       "      <td>...</td>\n",
       "    </tr>\n",
       "    <tr>\n",
       "      <th>1495</th>\n",
       "      <td>NaN</td>\n",
       "      <td>NaN</td>\n",
       "      <td>NaN</td>\n",
       "      <td>NaN</td>\n",
       "      <td>NaN</td>\n",
       "      <td>NaN</td>\n",
       "      <td>NaN</td>\n",
       "      <td>1950.0</td>\n",
       "      <td>2550.0</td>\n",
       "      <td>2250.0</td>\n",
       "      <td>3300.0</td>\n",
       "      <td>1950.0</td>\n",
       "      <td>Иркутск</td>\n",
       "      <td>ultra</td>\n",
       "      <td>2400.0</td>\n",
       "    </tr>\n",
       "    <tr>\n",
       "      <th>1496</th>\n",
       "      <td>550.0</td>\n",
       "      <td>4684.0</td>\n",
       "      <td>3573.0</td>\n",
       "      <td>3128.0</td>\n",
       "      <td>3175.0</td>\n",
       "      <td>2872.0</td>\n",
       "      <td>3606.0</td>\n",
       "      <td>3377.0</td>\n",
       "      <td>3918.0</td>\n",
       "      <td>4136.0</td>\n",
       "      <td>4730.0</td>\n",
       "      <td>2922.0</td>\n",
       "      <td>Вологда</td>\n",
       "      <td>smart</td>\n",
       "      <td>3390.0</td>\n",
       "    </tr>\n",
       "    <tr>\n",
       "      <th>1497</th>\n",
       "      <td>NaN</td>\n",
       "      <td>NaN</td>\n",
       "      <td>NaN</td>\n",
       "      <td>NaN</td>\n",
       "      <td>NaN</td>\n",
       "      <td>NaN</td>\n",
       "      <td>NaN</td>\n",
       "      <td>NaN</td>\n",
       "      <td>NaN</td>\n",
       "      <td>856.0</td>\n",
       "      <td>950.0</td>\n",
       "      <td>2358.0</td>\n",
       "      <td>Челябинск</td>\n",
       "      <td>smart</td>\n",
       "      <td>1388.0</td>\n",
       "    </tr>\n",
       "    <tr>\n",
       "      <th>1498</th>\n",
       "      <td>NaN</td>\n",
       "      <td>NaN</td>\n",
       "      <td>NaN</td>\n",
       "      <td>NaN</td>\n",
       "      <td>NaN</td>\n",
       "      <td>NaN</td>\n",
       "      <td>550.0</td>\n",
       "      <td>2986.0</td>\n",
       "      <td>3189.0</td>\n",
       "      <td>2350.0</td>\n",
       "      <td>NaN</td>\n",
       "      <td>NaN</td>\n",
       "      <td>Владикавказ</td>\n",
       "      <td>smart</td>\n",
       "      <td>2269.0</td>\n",
       "    </tr>\n",
       "    <tr>\n",
       "      <th>1499</th>\n",
       "      <td>NaN</td>\n",
       "      <td>NaN</td>\n",
       "      <td>NaN</td>\n",
       "      <td>NaN</td>\n",
       "      <td>NaN</td>\n",
       "      <td>NaN</td>\n",
       "      <td>NaN</td>\n",
       "      <td>NaN</td>\n",
       "      <td>550.0</td>\n",
       "      <td>2501.0</td>\n",
       "      <td>2365.0</td>\n",
       "      <td>847.0</td>\n",
       "      <td>Пермь</td>\n",
       "      <td>smart</td>\n",
       "      <td>1566.0</td>\n",
       "    </tr>\n",
       "  </tbody>\n",
       "</table>\n",
       "<p>500 rows × 15 columns</p>\n",
       "</div>"
      ],
      "text/plain": [
       "             1       2       3       4       5       6       7       8  \\\n",
       "user_id                                                                  \n",
       "1000       NaN     NaN     NaN     NaN  1950.0  1950.0  1950.0  1950.0   \n",
       "1001       NaN     NaN     NaN     NaN     NaN     NaN     NaN     NaN   \n",
       "1002       NaN     NaN     NaN     NaN     NaN   550.0  1950.0  2150.0   \n",
       "1003       NaN     NaN     NaN     NaN     NaN     NaN     NaN  1950.0   \n",
       "1004       NaN     NaN     NaN     NaN  1950.0  1950.0  1950.0  1950.0   \n",
       "...        ...     ...     ...     ...     ...     ...     ...     ...   \n",
       "1495       NaN     NaN     NaN     NaN     NaN     NaN     NaN  1950.0   \n",
       "1496     550.0  4684.0  3573.0  3128.0  3175.0  2872.0  3606.0  3377.0   \n",
       "1497       NaN     NaN     NaN     NaN     NaN     NaN     NaN     NaN   \n",
       "1498       NaN     NaN     NaN     NaN     NaN     NaN   550.0  2986.0   \n",
       "1499       NaN     NaN     NaN     NaN     NaN     NaN     NaN     NaN   \n",
       "\n",
       "              9      10      11      12         city tariff  year_mean  \n",
       "user_id                                                                 \n",
       "1000     1950.0  1950.0  1950.0  1950.0    Краснодар  ultra     1950.0  \n",
       "1001        NaN     NaN  1834.0   828.0       Москва  smart     1331.0  \n",
       "1002     1750.0   950.0  1950.0  1750.0  Стерлитамак  smart     1579.0  \n",
       "1003     1950.0  1950.0  1950.0  1950.0       Москва  ultra     1950.0  \n",
       "1004     1950.0  1950.0  1950.0  1950.0  Новокузнецк  ultra     1950.0  \n",
       "...         ...     ...     ...     ...          ...    ...        ...  \n",
       "1495     2550.0  2250.0  3300.0  1950.0      Иркутск  ultra     2400.0  \n",
       "1496     3918.0  4136.0  4730.0  2922.0      Вологда  smart     3390.0  \n",
       "1497        NaN   856.0   950.0  2358.0    Челябинск  smart     1388.0  \n",
       "1498     3189.0  2350.0     NaN     NaN  Владикавказ  smart     2269.0  \n",
       "1499      550.0  2501.0  2365.0   847.0        Пермь  smart     1566.0  \n",
       "\n",
       "[500 rows x 15 columns]"
      ]
     },
     "execution_count": 157,
     "metadata": {},
     "output_type": "execute_result"
    }
   ],
   "source": [
    "cost"
   ]
  },
  {
   "cell_type": "code",
   "execution_count": 158,
   "metadata": {},
   "outputs": [
    {
     "name": "stdout",
     "output_type": "stream",
     "text": [
      "Среднее значение:\n",
      "             1       2       3       4       5       6       7       8  \\\n",
      "tariff                                                                   \n",
      "smart    865.0  1116.0  1623.0  1352.0  1721.0  1707.0  1748.0  1888.0   \n",
      "ultra   1950.0  2000.0  2059.0  2032.0  2107.0  2071.0  2154.0  2135.0   \n",
      "\n",
      "             9      10      11      12  year_mean  \n",
      "tariff                                             \n",
      "smart   1809.0  1955.0  1949.0  2253.0     1870.0  \n",
      "ultra   2058.0  2102.0  2132.0  2189.0     2125.0  \n",
      "\n",
      "Дисперсия:\n",
      "               1         2         3         4         5          6  \\\n",
      "tariff                                                                \n",
      "smart   505123.0  628992.0  974455.0  723967.0  969678.0  1012947.0   \n",
      "ultra        0.0   28696.0   92061.0   66515.0  248477.0   146644.0   \n",
      "\n",
      "                7          8         9         10         11         12  \\\n",
      "tariff                                                                    \n",
      "smart   1005830.0  1122404.0  994730.0  1287401.0  1215759.0  1781672.0   \n",
      "ultra    269758.0   230765.0   96532.0   199543.0   232228.0   305902.0   \n",
      "\n",
      "        year_mean  \n",
      "tariff             \n",
      "smart    683781.0  \n",
      "ultra    127197.0  \n",
      "\n",
      "Стандартное отклонение\n",
      "            1      2      3      4      5       6       7       8      9  \\\n",
      "tariff                                                                     \n",
      "smart   711.0  793.0  987.0  851.0  985.0  1006.0  1003.0  1059.0  997.0   \n",
      "ultra     0.0  169.0  303.0  258.0  498.0   383.0   519.0   480.0  311.0   \n",
      "\n",
      "            10      11      12  year_mean  \n",
      "tariff                                     \n",
      "smart   1135.0  1103.0  1335.0      827.0  \n",
      "ultra    447.0   482.0   553.0      357.0  \n"
     ]
    },
    {
     "data": {
      "image/png": "[encoded data removed]",
      "text/plain": [
       "<Figure size 720x576 with 16 Axes>"
      ]
     },
     "metadata": {
      "needs_background": "light"
     },
     "output_type": "display_data"
    },
    {
     "data": {
      "image/png": "[encoded data removed]",
      "text/plain": [
       "<Figure size 720x576 with 16 Axes>"
      ]
     },
     "metadata": {
      "needs_background": "light"
     },
     "output_type": "display_data"
    }
   ],
   "source": [
    "pivot_plot(cost, all_hist=True)"
   ]
  },
  {
   "cell_type": "code",
   "execution_count": 159,
   "metadata": {},
   "outputs": [
    {
     "name": "stdout",
     "output_type": "stream",
     "text": [
      "Среднее значение:\n",
      "tariff\n",
      "smart    1870.0\n",
      "ultra    2125.0\n",
      "Name: year_mean, dtype: float64\n",
      "\n",
      "Дисперсия:\n",
      "tariff\n",
      "smart    683781.0\n",
      "ultra    127197.0\n",
      "Name: year_mean, dtype: float64\n",
      "\n",
      "Стандартное отклонение\n",
      "tariff\n",
      "smart    827.0\n",
      "ultra    357.0\n",
      "Name: year_mean, dtype: float64\n"
     ]
    },
    {
     "data": {
      "image/png": "[encoded data removed]",
      "text/plain": [
       "<Figure size 720x576 with 1 Axes>"
      ]
     },
     "metadata": {
      "needs_background": "light"
     },
     "output_type": "display_data"
    },
    {
     "data": {
      "image/png": "[encoded data removed]",
      "text/plain": [
       "<Figure size 720x576 with 2 Axes>"
      ]
     },
     "metadata": {
      "needs_background": "light"
     },
     "output_type": "display_data"
    }
   ],
   "source": [
    "pivot_plot(cost, b=10)"
   ]
  },
  {
   "cell_type": "markdown",
   "metadata": {},
   "source": [
    "#### Сформулируем нулевую гипотезу: Средние значения выручки тарифов Ультра и Самрт равны\n",
    "#### Альтернативаня гипотеза: Средние значения выручки тарифа Ультра больше тарифа Смарт"
   ]
  },
  {
   "cell_type": "code",
   "execution_count": 160,
   "metadata": {},
   "outputs": [],
   "source": [
    "alpha = 0.01"
   ]
  },
  {
   "cell_type": "code",
   "execution_count": 165,
   "metadata": {},
   "outputs": [
    {
     "name": "stdout",
     "output_type": "stream",
     "text": [
      "Среднее значение выручки пользователей тарифа Ultra: 2125.41\n",
      "Среднее значение выручки пользователей тарифа Smart: 1869.62\n",
      "p-значение: 0.00031\n"
     ]
    }
   ],
   "source": [
    "print('Среднее значение выручки пользователей тарифа Ultra: {:.2f}'.format(cost.groupby('tariff').get_group('ultra')['year_mean'].mean()))\n",
    "print('Среднее значение выручки пользователей тарифа Smart: {:.2f}'.format(cost.groupby('tariff').get_group('smart')['year_mean'].mean()))\n",
    "results =  st.ttest_ind(\n",
    "    cost.groupby('tariff').get_group('ultra')['year_mean'],\n",
    "    cost.groupby('tariff').get_group('smart')['year_mean'])\n",
    "print('p-значение: {:.5f}'.format(results.pvalue))"
   ]
  },
  {
   "cell_type": "code",
   "execution_count": 166,
   "metadata": {},
   "outputs": [
    {
     "name": "stdout",
     "output_type": "stream",
     "text": [
      "Отвергаем нулевую гипотезу\n"
     ]
    }
   ],
   "source": [
    "if (results.pvalue < alpha):\n",
    "    print(\"Отвергаем нулевую гипотезу\")\n",
    "else:\n",
    "    print(\"Не получилось отвергнуть нулевую гипотезу\")"
   ]
  },
  {
   "cell_type": "markdown",
   "metadata": {},
   "source": [
    "#### Сформулируем нулевую гипотезу: Выручка пользователей из Москвы равна выручке пользователей из других регионов\n",
    "#### Альтернативная гипотеза: Выручка пользователей из Москвы меньше выручки пользователей из других регионов"
   ]
  },
  {
   "cell_type": "code",
   "execution_count": 167,
   "metadata": {},
   "outputs": [
    {
     "name": "stdout",
     "output_type": "stream",
     "text": [
      "Средняя выручка пользователей Москвы: 1872.04\n",
      "Средняя выручка пользователей других регионов: 1964.06\n",
      "p-значение: 0.26091\n"
     ]
    }
   ],
   "source": [
    "print('Средняя выручка пользователей Москвы: {:.2f}'.format(cost.query('city == \"Москва\"')['year_mean'].mean()))\n",
    "print('Средняя выручка пользователей других регионов: {:.2f}'.format(cost.query('city != \"Москва\"')['year_mean'].mean()))\n",
    "results1 =  st.ttest_ind(\n",
    "    cost.query('city == \"Москва\"')['year_mean'],\n",
    "    cost.query('city != \"Москва\"')['year_mean'])\n",
    "print('p-значение: {:.5f}'.format(results1.pvalue))"
   ]
  },
  {
   "cell_type": "code",
   "execution_count": 168,
   "metadata": {},
   "outputs": [
    {
     "name": "stdout",
     "output_type": "stream",
     "text": [
      "Не получилось отвергнуть нулевую гипотезу\n"
     ]
    }
   ],
   "source": [
    "if (results1.pvalue < alpha):\n",
    "    print(\"Отвергаем нулевую гипотезу\")\n",
    "else:\n",
    "    print(\"Не получилось отвергнуть нулевую гипотезу\")"
   ]
  },
  {
   "cell_type": "markdown",
   "metadata": {},
   "source": [
    "## Выводы по шагу 4\n",
    "К сводной таблице затрат на связь для каждого пользователя в месяц были добавлены столбцы с названием используемого тарифа и региона использования.\n",
    "\n",
    "#### Были проверены гипотезы:\n",
    "1. Средняя выручка пользователей тарифов «Ультра» и «Смарт» различается.\n",
    "    - Так как нулевая гипотиза формулируется так чтобы использовать знак равенства, сформулируем ее так: \n",
    "    ##### Средняя выручка на тарифах Смарт и Ультра равны.\n",
    "    - Альтернативная гипотеза, так как выборочное среднее значение выручки тарифа Ультра больше чем у тарифа Смарт: \n",
    "    ##### Выручка тарифа Ультра больше Выручки тарифа Смарт.\n",
    "    - Величина статистической значимости выбрана в 1%.\n",
    "    - Полученное значение p-value составило 0,0003 и говорит о том, что средние значения двух генеральных совокупностей (выручки тарифов Смарт и Ультра) равны с вероятностью 0,03%, что маловероятно.\n",
    "    - Нулевая гипотеза была отвергнута и принята альтернативная: \n",
    "    ##### Среднее значение выручки тарифа Ультра больше тарифа Смарт.\n",
    "2. Средняя выручка пользователей из Москвы отличается от выручки пользователей из других регионов.\n",
    "    - Аналогично предыдущему пункту сформулирована нулевая гипотеза: \n",
    "    ##### Выручка пользователей из Москвы равна выручке пользователей из других регионов.\n",
    "    - Альтернативная, так как среднее выборочное значение пользователей из других регионов больше: \n",
    "    ##### Средняя выручка пользователей из Москвы ниже средней выручки пользователей из других регионов.\n",
    "    - Величина статистической значимости выбрана в 1%.\n",
    "    - Полученное значение p-value составило 0,2609 и говорит о том, что средние значения двух генеральных совокупностей (выручка пользователей из Москвы и выручка пользователей из других регионов) равны с вероятностью 26%. Значение много больше величины статистической значимости, поэтому: \n",
    "    ##### Нулевая гипотеза принимается.\n",
    "\n",
    "##### Для обоих гипотез использовался критерий равенства дисперсий выборок из генеральных совокупностей.\n"
   ]
  },
  {
   "cell_type": "markdown",
   "metadata": {},
   "source": [
    "# Общий вывод:"
   ]
  },
  {
   "cell_type": "markdown",
   "metadata": {},
   "source": [
    "#### Анализ данных клиентов мобильного оператора показал:\n",
    "1. Выручка от пользователей тарифа Ультра больше выручки от пользователей тарифа Смарт.\n",
    "2. Среднее выборочное значение выручки тарифов Ультра и Смарт различаются на 255р или 13%.\n",
    "3. Выручка от пользователей обоих тарифов в Москве и регионах, вероятно, равны.\n",
    "4. У пользователей тарифа Ультра почти не бывает перерасхода минут разговора и СМСок, и несколько чаще бывает перерасход трафика (12% пользователей используют более 30Гб в месяц)\n",
    "5. Больше половины пользователей тарифа Смарт разговаривают дольше предоплаченного времени, 78% тратит больше трафика, 25% отправляют больше СМСок.\n",
    "6. Комерческому департаменту следует скорректировать рекламный бюджет в сторону тарифа Ультра, так как средний пользователь тарифа приносит компании большую выручку, при том что услуги связи в большинстве остаются невостребованны.\n",
    "7. Альтернативным вариантом может быть снижение объема предоплаченых услуг тарифа Ультра."
   ]
  },
  {
   "cell_type": "code",
   "execution_count": null,
   "metadata": {},
   "outputs": [],
   "source": []
  }
 ],
 "metadata": {
  "kernelspec": {
   "display_name": "Python 3",
   "language": "python",
   "name": "python3"
  },
  "language_info": {
   "codemirror_mode": {
    "name": "ipython",
    "version": 3
   },
   "file_extension": ".py",
   "mimetype": "text/x-python",
   "name": "python",
   "nbconvert_exporter": "python",
   "pygments_lexer": "ipython3",
   "version": "3.7.6"
  }
 },
 "nbformat": 4,
 "nbformat_minor": 2
}
